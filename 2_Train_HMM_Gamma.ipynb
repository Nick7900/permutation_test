{
  "cells": [
    {
      "cell_type": "markdown",
      "metadata": {
        "id": "view-in-github",
        "colab_type": "text"
      },
      "source": [
        "<a href=\"https://colab.research.google.com/github/Nick7900/permutation_test/blob/main/2_Train_HMM_Gamma.ipynb\" target=\"_parent\"><img src=\"https://colab.research.google.com/assets/colab-badge.svg\" alt=\"Open In Colab\"/></a>"
      ]
    },
    {
      "cell_type": "markdown",
      "metadata": {
        "id": "4V-W5R8b-Ona"
      },
      "source": [
        "## GLHMM: train basic HMM and get Gamma\n",
        "\n",
        "In this tutorial, we will explore how to select and analyze data from the Human Connectome Project (HCP) dataset.\n",
        "\n",
        "This notebook goes through the basic steps to train a \"classic\" HMM on a single set of timeseries, such as neuroimaging or electrophysiological recordings from multiple subjects or sessions.\n",
        "\n",
        "We will go though the following steps in this Notebook:\n",
        "\n",
        "1. Setup Google Colab\n",
        "2. Download the neuroimaing data\n",
        "3. Prepare data for the HMM\n",
        "4. Initialise and train HMM\n",
        "5. Save data\n",
        "\n",
        "\n",
        "## 1: Setup Google Colab\n",
        "This script was written using **Google Colab** and you need to install the different packages to run this code and import libraries to load the data that we prepared in the Notebook ```1_preprocessing_data_selection```.\n",
        "\n",
        "This can be done by using the following commands\n",
        "```\n",
        "pip install requests\n",
        "pip install gdown\n",
        "```\n",
        "\n",
        "To train the HMM, install the GLHMM toolkit in your Python environment.\n",
        "```\n",
        "pip install --user git+https://github.com/vidaurre/glhmm\n",
        "```\n",
        "\n",
        "In **Google Colab** we will clone the toolbox"
      ]
    },
    {
      "cell_type": "code",
      "execution_count": null,
      "metadata": {
        "colab": {
          "base_uri": "https://localhost:8080/"
        },
        "id": "nnjM-hIu-zcS",
        "outputId": "e6ec82da-35e1-4245-c51e-52586c01a2bb"
      },
      "outputs": [
        {
          "name": "stdout",
          "output_type": "stream",
          "text": [
            "\u001b[2K     \u001b[90m━━━━━━━━━━━━━━━━━━━━━━━━━━━━━━━━━━━━━━━━\u001b[0m \u001b[32m1.4/1.4 MB\u001b[0m \u001b[31m9.2 MB/s\u001b[0m eta \u001b[36m0:00:00\u001b[0m\n",
            "\u001b[2K     \u001b[90m━━━━━━━━━━━━━━━━━━━━━━━━━━━━━━━━━━━━━━━━\u001b[0m \u001b[32m45.4/45.4 kB\u001b[0m \u001b[31m2.3 MB/s\u001b[0m eta \u001b[36m0:00:00\u001b[0m\n",
            "\u001b[2K     \u001b[90m━━━━━━━━━━━━━━━━━━━━━━━━━━━━━━━━━━━━━━━━\u001b[0m \u001b[32m51.0/51.0 kB\u001b[0m \u001b[31m5.1 MB/s\u001b[0m eta \u001b[36m0:00:00\u001b[0m\n",
            "\u001b[?25h  Preparing metadata (setup.py) ... \u001b[?25l\u001b[?25hdone\n",
            "  Building wheel for ligo-segments (setup.py) ... \u001b[?25l\u001b[?25hdone\n",
            "Cloning into 'glhmm'...\n",
            "remote: Enumerating objects: 863, done.\u001b[K\n",
            "remote: Counting objects: 100% (156/156), done.\u001b[K\n",
            "remote: Compressing objects: 100% (115/115), done.\u001b[K\n",
            "remote: Total 863 (delta 75), reused 65 (delta 40), pack-reused 707\u001b[K\n",
            "Receiving objects: 100% (863/863), 12.61 MiB | 21.13 MiB/s, done.\n",
            "Resolving deltas: 100% (506/506), done.\n",
            "/content/glhmm\n"
          ]
        }
      ],
      "source": [
        "# Using -q gwpy to hide output in Google Colab\n",
        "!pip install requests -q gwpy\n",
        "!pip install gdown -q gwpy\n",
        "# Clone the GLHMM into Google Colab\n",
        "!git clone https://github.com/vidaurre/glhmm\n",
        "%cd glhmm"
      ]
    },
    {
      "cell_type": "markdown",
      "metadata": {
        "id": "eOAYGRTFOHe-"
      },
      "source": [
        "### Import Libraries"
      ]
    },
    {
      "cell_type": "code",
      "execution_count": null,
      "metadata": {
        "id": "iJmkK12SAe7c"
      },
      "outputs": [],
      "source": [
        "import os\n",
        "import numpy as np\n",
        "from glhmm import glhmm\n",
        "import requests\n",
        "import gdown"
      ]
    },
    {
      "cell_type": "markdown",
      "metadata": {
        "id": "xJszOVdzHY10"
      },
      "source": [
        "### Load Helper function\n",
        "We will use ```my_functions.py``` to prepare the data to be trained using the GLHMM"
      ]
    },
    {
      "cell_type": "code",
      "execution_count": null,
      "metadata": {
        "colab": {
          "base_uri": "https://localhost:8080/"
        },
        "id": "BZy3oZeg-6Gc",
        "outputId": "f62d409f-017f-4d36-8b9c-18c4d89d43f8"
      },
      "outputs": [
        {
          "name": "stdout",
          "output_type": "stream",
          "text": [
            "/content\n"
          ]
        }
      ],
      "source": [
        "# Move back to main folder\n",
        "%cd ..\n",
        "# Import helper function\n",
        "# Get the raw github file\n",
        "url = 'https://raw.githubusercontent.com/Nick7900/permutation_test/main/helper_functions/my_functions.py'\n",
        "r = requests.get(url)\n",
        "# Save the function to the directory\n",
        "with open(\"my_functions.py\",\"w\") as f:\n",
        "  f.write(r.text)"
      ]
    },
    {
      "cell_type": "markdown",
      "metadata": {
        "id": "tfxQqXeU-Ong"
      },
      "source": [
        "## 2: Download the neuroimaing data\n",
        "Now, we will download the **neuroimaing data** data that was prepared in the tutorial **1_preprocessing_data_selection.ipynb**.\n",
        "We will train a classic HMM on the ```data_neuroimaging.npy``` that is a subset from the HCP dataset that we exported in the previous notebook.\n",
        "\n",
        "The file ```data_neuroimaging.npy``` is a dataset of 1003 subjects, 1200 timepoints, and 50 parcellations."
      ]
    },
    {
      "cell_type": "code",
      "execution_count": null,
      "metadata": {
        "colab": {
          "base_uri": "https://localhost:8080/",
          "height": 36
        },
        "id": "3zrx5fFoHHNJ",
        "outputId": "3be41fb6-9a13-4295-fe10-d82c78704613"
      },
      "outputs": [
        {
          "data": {
            "application/vnd.google.colaboratory.intrinsic+json": {
              "type": "string"
            },
            "text/plain": [
              "'data_neuroimaging.npy'"
            ]
          },
          "execution_count": 4,
          "metadata": {},
          "output_type": "execute_result"
        }
      ],
      "source": [
        "# Downlod files from google colab\n",
        "# data_measurement\n",
        "url = \"https://drive.google.com/uc?id=1bPhw4GOoLDqkMWvVbkRAIh_XYG6L0JQZ&export=download\"\n",
        "gdown.download(url, quiet=True)"
      ]
    },
    {
      "cell_type": "code",
      "execution_count": null,
      "metadata": {
        "id": "HDXaTAoy-Ong"
      },
      "outputs": [],
      "source": [
        "## Load the data\n",
        "current_directory = os.getcwd()\n",
        "data_folder = \"\"\n",
        "data_file = '/data_neuroimaging.npy'\n",
        "\n",
        "# Load behavioral data\n",
        "data_file_path = os.path.join(current_directory+data_folder+data_file)\n",
        "data_neuroimaging = np.load(data_file_path)"
      ]
    },
    {
      "cell_type": "markdown",
      "metadata": {
        "id": "qjOR9sxJ-Onh"
      },
      "source": [
        "Look at the dataset"
      ]
    },
    {
      "cell_type": "code",
      "execution_count": null,
      "metadata": {
        "colab": {
          "base_uri": "https://localhost:8080/"
        },
        "id": "DfU90FhM-Onh",
        "outputId": "c2288e78-d5a1-425a-8423-34e467cb2112"
      },
      "outputs": [
        {
          "data": {
            "text/plain": [
              "(1003, 1200, 50)"
            ]
          },
          "execution_count": 6,
          "metadata": {},
          "output_type": "execute_result"
        }
      ],
      "source": [
        "data_neuroimaging.shape"
      ]
    },
    {
      "cell_type": "markdown",
      "metadata": {
        "id": "H3H1UmB0zMuf"
      },
      "source": [
        "## 3: Prepare data for the HMM\n",
        "When preparing the data for training a **HMM**, it is important that the data has a specific shape. This shape should be in the format ((no of subjects/sessions * number of timepoints), number of features), which means that all subjects and/or sessions are combined along the first dimension. The second dimension represents the number of features, for example, the number of parcels or channels.\n",
        "\n",
        "Now, in order to train the HMM, we need to concatenate our dataset, ```data_neuroimaging```, along the first dimension, as we mentioned earlier. This concatenation allows us to transform our dataset from its initial shape of ```[1003, 1200, 50]``` representing ```[n_subject, n_timepoints, n_features]``` to a new concatenated shape of ```[1203600, 50]```, which is structured as ```[(n_subject by n_timepoints), n_features]```. This step prepares the data appropriately for the subsequent HMM training process.\n"
      ]
    },
    {
      "cell_type": "markdown",
      "metadata": {
        "id": "dI3-wUwE-Oni"
      },
      "source": [
        "### Concatenate data"
      ]
    },
    {
      "cell_type": "code",
      "execution_count": null,
      "metadata": {
        "colab": {
          "base_uri": "https://localhost:8080/"
        },
        "id": "p0nBHheh-Oni",
        "outputId": "898e4690-bd1a-40ab-938a-448f97c7fac2"
      },
      "outputs": [
        {
          "data": {
            "text/plain": [
              "(1203600, 50)"
            ]
          },
          "execution_count": 7,
          "metadata": {},
          "output_type": "execute_result"
        }
      ],
      "source": [
        "from my_functions import get_concatenate_data, get_timestamp_indices\n",
        "# Getting the shape\n",
        "n_subjects = len(data_neuroimaging)\n",
        "n_timestamps, n_features =data_neuroimaging[0].shape\n",
        "# Using a helper function to concatenate data\n",
        "data = get_concatenate_data(data_neuroimaging)\n",
        "data.shape"
      ]
    },
    {
      "cell_type": "markdown",
      "metadata": {
        "id": "lB_DjhVj-Oni"
      },
      "source": [
        "The concatenated data has the shape ```(1203600, 50)```"
      ]
    },
    {
      "cell_type": "markdown",
      "metadata": {
        "id": "ivdSx7bm-Oni"
      },
      "source": [
        "### Indices of each timestep\n",
        "Besides of having ```data_neuroimaging.npy```, we need to specify the indices in the concatenated timeseries corresponding to the beginning and end of individual subjects/sessions in the shape ```[n_subjects, 2]```.\n",
        "\n",
        "In this case, we have generated timeseries of 1200 timepoints for each 1003 subject."
      ]
    },
    {
      "cell_type": "code",
      "execution_count": null,
      "metadata": {
        "colab": {
          "base_uri": "https://localhost:8080/"
        },
        "id": "ApwXLG31-Oni",
        "outputId": "b5998902-14e1-40fa-ad4a-ef4bedbfaf38"
      },
      "outputs": [
        {
          "name": "stdout",
          "output_type": "stream",
          "text": [
            "Show the first 10 indices:\n",
            "[[    0  1200]\n",
            " [ 1200  2400]\n",
            " [ 2400  3600]\n",
            " [ 3600  4800]\n",
            " [ 4800  6000]\n",
            " [ 6000  7200]\n",
            " [ 7200  8400]\n",
            " [ 8400  9600]\n",
            " [ 9600 10800]\n",
            " [10800 12000]]\n",
            "\n",
            "The shape of idx_data:\n",
            "(1003, 2)\n"
          ]
        }
      ],
      "source": [
        "#Generate indices of the timestamps for each subject in the data.\n",
        "idx_data =get_timestamp_indices(n_timestamps, n_subjects)\n",
        "# Visualize the first 10 timepoints\n",
        "print(f\"Show the first 10 indices:\\n{idx_data[:10]}\\n\")\n",
        "print(f\"The shape of idx_data:\\n{idx_data.shape}\")"
      ]
    },
    {
      "cell_type": "markdown",
      "metadata": {
        "id": "Al9pCxGK-Onj"
      },
      "source": [
        "## 4: Initialise and train HMM\n",
        "We first initialise the hmm object and specify hyperparameters. In this case, since we do not model an interaction between two sets of variables in the HMM states, we set ```model_beta='no'```.\n",
        "\n",
        "We here estimate 8 states. If you want to model a different number of states, change K to a different value.\n",
        "\n",
        "We here model states as Gaussian distributions with mean and full covariance matrix, so that each state is described by a mean amplitude and functional connectivity pattern, specify ```covtype='full'```. If you do not want to model the mean, add ```model_mean='no'```.\n",
        "Optionally, you can check the hyperparameters to make sure that they correspond to how you want the model to be set up."
      ]
    },
    {
      "cell_type": "code",
      "execution_count": null,
      "metadata": {
        "colab": {
          "base_uri": "https://localhost:8080/"
        },
        "id": "Y5yu5jWM-Onj",
        "outputId": "8ffeaaed-8df3-4a8c-a1ce-117978fcbcd2"
      },
      "outputs": [
        {
          "name": "stdout",
          "output_type": "stream",
          "text": [
            "{'K': 8, 'covtype': 'full', 'model_mean': 'state', 'model_beta': 'no', 'dirichlet_diag': 10, 'connectivity': None, 'Pstructure': array([[ True,  True,  True,  True,  True,  True,  True,  True],\n",
            "       [ True,  True,  True,  True,  True,  True,  True,  True],\n",
            "       [ True,  True,  True,  True,  True,  True,  True,  True],\n",
            "       [ True,  True,  True,  True,  True,  True,  True,  True],\n",
            "       [ True,  True,  True,  True,  True,  True,  True,  True],\n",
            "       [ True,  True,  True,  True,  True,  True,  True,  True],\n",
            "       [ True,  True,  True,  True,  True,  True,  True,  True],\n",
            "       [ True,  True,  True,  True,  True,  True,  True,  True]]), 'Pistructure': array([ True,  True,  True,  True,  True,  True,  True,  True])}\n"
          ]
        }
      ],
      "source": [
        "K = 8\n",
        "hmm = glhmm.glhmm(model_beta='no', K=K, covtype='full')\n",
        "print(hmm.hyperparameters)"
      ]
    },
    {
      "cell_type": "markdown",
      "metadata": {
        "id": "hXA89z1N-Onj"
      },
      "source": [
        "Next, we move on to train to train the Hidden Markov Model (HMM) using the previously loaded data and indices. In this case, we are not modeling an interaction between two sets of timeseries; instead, we are running a \"classic\" HMM. To do this, we set ```X``` to ```None```. ```Y``` corresponds to the timeseries (```data_neuroimaging```) for which we want to estimate states, and the indices (```idx_data```) represent the beginning and end indices of each subject.\n",
        "\n",
        "We can generate different output variables such as ```Gamma```, which represents the state probabilities at each timepoint, ```Xi```, which represents the joint probabilities of past and future states conditioned on the data, and ```FE```, which represents the free energy of each iteration."
      ]
    },
    {
      "cell_type": "code",
      "execution_count": null,
      "metadata": {
        "colab": {
          "background_save": true,
          "base_uri": "https://localhost:8080/"
        },
        "id": "37Wq0SEq-Onj",
        "outputId": "4d1d5392-befb-4fbd-fba9-c7dfef3c4883"
      },
      "outputs": [
        {
          "name": "stdout",
          "output_type": "stream",
          "text": [
            "Cycle 1 free energy = 336428513.51399845\n",
            "Cycle 2 free energy = 335363299.15856534\n",
            "Cycle 3, free energy = 333652794.5246657, relative change = 0.6162384018242506\n"
          ]
        },
        {
          "name": "stderr",
          "output_type": "stream",
          "text": [
            "/content/glhmm/glhmm/glhmm.py:132: RuntimeWarning: invalid value encountered in true_divide\n",
            "  Gamma[tt,:] = Gamma[tt,:] / np.expand_dims(np.sum(Gamma[tt,:],axis=1), axis=1)\n",
            "/content/glhmm/glhmm/glhmm.py:136: RuntimeWarning: invalid value encountered in true_divide\n",
            "  Xi[tt_xi,:,:] = Xi[tt_xi,:,:] / np.expand_dims(np.sum(Xi[tt_xi,:,:],axis=(1,2)),axis=(1,2))\n"
          ]
        },
        {
          "name": "stdout",
          "output_type": "stream",
          "text": [
            "Cycle 4, free energy = 333150665.11334014, relative change = 0.15318872319559634\n",
            "Cycle 5, free energy = 332967971.07746595, relative change = 0.05279346785218141\n",
            "Cycle 6, free energy = 332894673.8331534, relative change = 0.020741530723600268\n",
            "Cycle 7, free energy = 332858024.17624485, relative change = 0.010264603375522244\n",
            "Cycle 8, free energy = 332834989.2265579, relative change = 0.006410127730999965\n",
            "Cycle 9, free energy = 332818065.4088708, relative change = 0.0046874562919374625\n",
            "Cycle 10, free energy = 332804779.3035477, relative change = 0.0036664127531260493\n",
            "Finished training in 925.47s : active states = 8\n",
            "Init repetition 1 free energy = 332804779.3035477\n",
            "Cycle 1 free energy = 336427908.04994136\n",
            "Cycle 2 free energy = 335760876.37482184\n",
            "Cycle 3, free energy = 333807027.0132252, relative change = 0.745493341447013\n",
            "Cycle 4, free energy = 333287445.8452534, relative change = 0.16544735586888465\n",
            "Cycle 5, free energy = 333090140.86944956, relative change = 0.05911286352057068\n",
            "Cycle 6, free energy = 332989754.3525799, relative change = 0.02919779791889568\n",
            "Cycle 7, free energy = 332919314.9878158, relative change = 0.02007624239028194\n",
            "Cycle 8, free energy = 332862622.7468188, relative change = 0.015901179338260456\n",
            "Cycle 9, free energy = 332826761.81416136, relative change = 0.009958199503568127\n",
            "Cycle 10, free energy = 332802812.4802596, relative change = 0.006606538625370752\n",
            "Finished training in 906.58s : active states = 8\n",
            "Init repetition 2 free energy = 332802812.4802596\n",
            "Cycle 1 free energy = 336424161.65660787\n",
            "Cycle 2 free energy = 335394013.55825377\n",
            "Cycle 3, free energy = 333744031.33126086, relative change = 0.6156350724397239\n",
            "Cycle 4, free energy = 333263447.6268218, relative change = 0.15204909394209729\n",
            "Cycle 5, free energy = 333062480.02517456, relative change = 0.059781866244594965\n",
            "Cycle 6, free energy = 332959191.0165336, relative change = 0.029809490287263013\n",
            "Cycle 7, free energy = 332891318.18734604, relative change = 0.019211954839808906\n",
            "Cycle 8, free energy = 332848046.0449199, relative change = 0.012100319767265109\n",
            "Cycle 9, free energy = 332821249.3956545, relative change = 0.007437497036999134\n",
            "Cycle 10, free energy = 332804011.79617923, relative change = 0.004761570691778928\n",
            "Finished training in 905.3s : active states = 8\n",
            "Init repetition 3 free energy = 332804011.79617923\n",
            "Cycle 1 free energy = 336426426.16721237\n",
            "Cycle 2 free energy = 335612121.80831254\n",
            "Cycle 3, free energy = 333799453.4088356, relative change = 0.6900217726646715\n",
            "Cycle 4, free energy = 333341862.77882147, relative change = 0.14834859018826305\n",
            "Cycle 5, free energy = 333157175.5745287, relative change = 0.056492214058503104\n",
            "Cycle 6, free energy = 333056675.29827476, relative change = 0.02982424522250323\n",
            "Cycle 7, free energy = 332980927.96199507, relative change = 0.021984436435053375\n",
            "Cycle 8, free energy = 332915137.7068035, relative change = 0.018736784497592578\n",
            "Cycle 9, free energy = 332869041.1926338, relative change = 0.012957977418554204\n",
            "Cycle 10, free energy = 332842566.2273632, relative change = 0.007387276767209077\n",
            "Finished training in 904.86s : active states = 8\n",
            "Init repetition 4 free energy = 332842566.2273632\n",
            "Cycle 1 free energy = 336431993.0764327\n",
            "Cycle 2 free energy = 335835106.39717865\n",
            "Cycle 3, free energy = 333692272.1515026, relative change = 0.7821359563221627\n",
            "Cycle 4, free energy = 333177373.36484295, relative change = 0.15820551471070338\n",
            "Cycle 5, free energy = 333007331.5951276, relative change = 0.049652139530756374\n",
            "Cycle 6, free energy = 332927446.9711074, relative change = 0.02279457071452755\n",
            "Cycle 7, free energy = 332872033.15200025, relative change = 0.015565854752145608\n",
            "Cycle 8, free energy = 332827727.91665286, relative change = 0.0122924461390339\n",
            "Cycle 9, free energy = 332810272.5685993, relative change = 0.004819628686371679\n",
            "Cycle 10, free energy = 332800064.46759856, relative change = 0.0028106557424880203\n",
            "Finished training in 913.57s : active states = 8\n",
            "Init repetition 5 free energy = 332800064.46759856\n",
            "Best repetition: 5\n",
            "Cycle 1 free energy = 332806492.3466513\n",
            "Cycle 2 free energy = 332787369.8350462\n",
            "Cycle 3, free energy = 332779958.12455016, relative change = 0.2793264663178736\n",
            "Cycle 4, free energy = 332774192.24104, relative change = 0.17850974171895176\n",
            "Cycle 5, free energy = 332769187.41740566, relative change = 0.13415984792170463\n",
            "Cycle 6, free energy = 332764372.2125566, relative change = 0.11432073882377601\n",
            "Cycle 7, free energy = 332759078.7985629, relative change = 0.11164349024973737\n",
            "Cycle 8, free energy = 332751455.5471745, relative change = 0.13851189496555194\n",
            "Cycle 9, free energy = 332739649.4571464, relative change = 0.1766244714367117\n",
            "Cycle 10, free energy = 332731114.91744655, relative change = 0.11322407503005284\n",
            "Cycle 11, free energy = 332725567.8019508, relative change = 0.06854676187886992\n",
            "Cycle 12, free energy = 332721603.872697, relative change = 0.046695729928537384\n",
            "Cycle 13, free energy = 332718734.0457261, relative change = 0.0327014873877457\n",
            "Cycle 14, free energy = 332716638.65235037, relative change = 0.02332005814625935\n",
            "Cycle 15, free energy = 332715027.7574601, relative change = 0.017612224626968445\n",
            "Cycle 16, free energy = 332713721.7801923, relative change = 0.014077495887436856\n",
            "Cycle 17, free energy = 332712585.43373483, relative change = 0.012100775354973312\n",
            "Cycle 18, free energy = 332711575.61273444, relative change = 0.010639019683099658\n",
            "Cycle 19, free energy = 332710684.48720145, relative change = 0.009301173599970288\n",
            "Cycle 20, free energy = 332709916.669223, relative change = 0.007950428087980226\n",
            "Cycle 21, free energy = 332709263.1173157, relative change = 0.006721763730586449\n",
            "Cycle 22, free energy = 332708704.02451926, relative change = 0.00571737794713266\n",
            "Cycle 23, free energy = 332708213.2983178, relative change = 0.004993192443310082\n",
            "Cycle 24, free energy = 332707778.8876587, relative change = 0.004400723705845894\n",
            "Cycle 25, free energy = 332707411.8534928, relative change = 0.0037044039065450315\n",
            "Cycle 26, free energy = 332707115.2637508, relative change = 0.0029844883080514238\n",
            "Cycle 27, free energy = 332706869.56917, relative change = 0.0024662490547350618\n",
            "Cycle 28, free energy = 332706659.4866118, relative change = 0.0021043427798369714\n",
            "Cycle 29, free energy = 332706475.6808985, relative change = 0.0018377508579437843\n",
            "Cycle 30, free energy = 332706310.8829328, relative change = 0.0016449945887036107\n",
            "Cycle 31, free energy = 332706162.5486379, relative change = 0.0014784669937818401\n",
            "Cycle 32, free energy = 332706031.34602165, relative change = 0.0013060054693066255\n",
            "Cycle 33, free energy = 332705914.14854544, relative change = 0.0011652373816127065\n",
            "Cycle 34, free energy = 332705809.10486704, relative change = 0.0010433084646595792\n",
            "Cycle 35, free energy = 332705714.256252, relative change = 0.0009411630511600887\n",
            "Cycle 36, free energy = 332705629.037362, relative change = 0.0008448948444359674\n",
            "Cycle 37, free energy = 332705554.52222407, relative change = 0.0007382280956981708\n",
            "Cycle 38, free energy = 332705491.5632959, relative change = 0.0006233508897279717\n",
            "Cycle 39, free energy = 332705438.3805227, relative change = 0.0005262809092043167\n",
            "Cycle 40, free energy = 332705392.0439443, relative change = 0.00045832284561032736\n",
            "Cycle 41, free energy = 332705351.5054718, relative change = 0.00040081209530064683\n",
            "Cycle 42, free energy = 332705316.5613176, relative change = 0.0003453806075009646\n",
            "Cycle 43, free energy = 332705286.1195194, relative change = 0.000300789774234632\n",
            "Cycle 44, free energy = 332705259.42109257, relative change = 0.00026373264128572784\n",
            "Cycle 45, free energy = 332705235.9456909, relative change = 0.0002318411624042749\n",
            "Cycle 46, free energy = 332705215.1792933, relative change = 0.00020504520551992757\n",
            "Cycle 47, free energy = 332705196.6680446, relative change = 0.00018274470246694495\n",
            "Cycle 48, free energy = 332705180.0083569, relative change = 0.0001644388825522788\n",
            "Cycle 49, free energy = 332705164.8313902, relative change = 0.0001497812976827666\n",
            "Cycle 50, free energy = 332705150.817203, relative change = 0.00013828671516057933\n",
            "Cycle 51, free energy = 332705137.7183407, relative change = 0.00012923792932512563\n",
            "Cycle 52, free energy = 332705125.36492276, relative change = 0.00012186826244928445\n",
            "Cycle 53, free energy = 332705113.6258359, relative change = 0.0001157943873424098\n",
            "Cycle 54, free energy = 332705102.35538214, relative change = 0.00011115943112339626\n",
            "Cycle 55, free energy = 332705091.3784195, relative change = 0.00010825303562080024\n",
            "Cycle 56, free energy = 332705080.5019174, relative change = 0.00010725080610842927\n",
            "Cycle 57, free energy = 332705069.5180886, relative change = 0.0001082974020572274\n",
            "Cycle 58, free energy = 332705058.20610625, relative change = 0.00011152046315839665\n",
            "Cycle 59, free energy = 332705046.38447464, relative change = 0.00011653131733133651\n",
            "Cycle 60, free energy = 332705034.06820107, relative change = 0.00012139249510428004\n",
            "Cycle 61, free energy = 332705021.5055519, relative change = 0.00012380550958589691\n",
            "Cycle 62, free energy = 332705008.9313138, relative change = 0.00012390436427555003\n",
            "Cycle 63, free energy = 332704996.4827814, relative change = 0.00012265063745328173\n",
            "Cycle 64, free energy = 332704984.2283129, relative change = 0.00012072402386339605\n",
            "Cycle 65, free energy = 332704972.16726094, relative change = 0.00011880447845134337\n",
            "Cycle 66, free energy = 332704960.2333638, relative change = 0.00011753815370560337\n",
            "Cycle 67, free energy = 332704948.30832, relative change = 0.00011743716339529855\n",
            "Cycle 68, free energy = 332704936.3692999, relative change = 0.00011756097876879856\n"
          ]
        }
      ],
      "source": [
        "Gamma,Xi,FE = hmm.train(X=None, Y=data, indices=idx_data)"
      ]
    },
    {
      "cell_type": "markdown",
      "metadata": {
        "id": "jlrYju5--Onj"
      },
      "source": [
        "We can see the shape of gamma is ```[18000,3]```, which correspond with the concatenated data ```[18000, 50]```.\n",
        "\n",
        "This bacicallay means that for each timepoint we have estimated a correspoinding state, since Gamma is the probability of each state being active at a giving timepoint."
      ]
    },
    {
      "cell_type": "code",
      "execution_count": null,
      "metadata": {
        "id": "B4gb-rrZ-Onj"
      },
      "outputs": [],
      "source": [
        "Gamma.shape"
      ]
    },
    {
      "cell_type": "markdown",
      "metadata": {
        "id": "Cz3PtjVm-Onk"
      },
      "source": [
        "## 5: Save Data\n",
        "Finally, we save ```gammma``` for further analysis."
      ]
    },
    {
      "cell_type": "code",
      "execution_count": null,
      "metadata": {
        "id": "PKNbBsSU-Onk"
      },
      "outputs": [],
      "source": [
        "import os\n",
        "# Specify the folder path and name\n",
        "folder_name = \"/data\"\n",
        "current_directory = os.getcwd()\n",
        "folder_path = os.path.join(current_directory+folder_name)\n",
        "isExist = os.path.exists(folder_path)\n",
        "if not isExist:\n",
        "   # Create a new directory because it does not exist\n",
        "   os.makedirs(folder_path)\n",
        "   print(\"The new directory is created!\")\n",
        "\n",
        "\n",
        "# Save gamma\n",
        "gamma_file = 'gamma.npy'\n",
        "file_path = os.path.join(folder_path, gamma_file)\n",
        "np.save(file_path, gamma_file)"
      ]
    }
  ],
  "metadata": {
    "accelerator": "GPU",
    "colab": {
      "provenance": [],
      "include_colab_link": true
    },
    "kernelspec": {
      "display_name": "Python 3",
      "name": "python3"
    },
    "language_info": {
      "codemirror_mode": {
        "name": "ipython",
        "version": 3
      },
      "file_extension": ".py",
      "mimetype": "text/x-python",
      "name": "python",
      "nbconvert_exporter": "python",
      "pygments_lexer": "ipython3",
      "version": "3.9.16"
    }
  },
  "nbformat": 4,
  "nbformat_minor": 0
}