{
  "cells": [
    {
      "cell_type": "markdown",
      "metadata": {
        "id": "view-in-github",
        "colab_type": "text"
      },
      "source": [
        "<a href=\"https://colab.research.google.com/github/Nick7900/permutation_test/blob/main/a1_between_subject_testing.ipynb\" target=\"_parent\"><img src=\"https://colab.research.google.com/assets/colab-badge.svg\" alt=\"Open In Colab\"/></a>"
      ]
    },
    {
      "cell_type": "markdown",
      "metadata": {
        "id": "NWG5I39wTgV1"
      },
      "source": [
        "# Perform permutation - Between-Subject Testing Tutorial\n",
        "In this tutorial, we will learn how to use the ```between_subject_test``` function to perform permutation testing on between-subject data. The ```between_subject_test``` function is useful when you want to compare data between different subjects or groups. It is commonly used in experimental or observational studies to assess differences in data across different individuals.\n",
        "Here are a few examples where ```between_subject_test``` testing can be useful:\n",
        "\n",
        "- **Clinical Trials**: In clinical trials, researchers often compare the effectiveness of different treatments or interventions across a group of patients. ```between_subject_test``` can be used to assess whether there are significant differences between treatment groups.\n",
        "\n",
        "- **Social Sciences**: In social sciences research, you may want to examine differences in behavior, attitudes, or outcomes between different groups of individuals (e.g., age groups, genders, cultural backgrounds). ```between_subject_test``` can help determine if there are statistically significant differences between these groups.\n",
        "\n",
        "- **Neuroimaging Studies**: In neuroimaging studies, researchers may compare brain activation patterns between different participants. between_subject_test can be used to identify brain regions or networks that show significant differences between groups (e.g., healthy controls vs. patients).\n",
        "\n",
        "\n",
        "## Permutation testing\n",
        "Permutation testing is a resampling technique that involves random permutation of the observed data and comparing it to the observed effectto by generating a null distribution under the null hypothesis.\n",
        "\n",
        "The null hypothesis states that there is no difference or association between variables of interest.\n",
        "\n",
        "By comparing the observed test statistic with the distribution of test statistics under the null hypothesis, we can determine the p-value and assess the significance of the effect.\n",
        "\n",
        "Permutation testing (non-parametric) is particularly useful when the underlying data distribution is unknown or violates certain assumptions required by parametric tests. It provides a flexible and robust alternative for hypothesis testing, especially in cases where parametric assumptions cannot be met.\n"
      ]
    },
    {
      "cell_type": "markdown",
      "metadata": {
        "id": "FRCueApgTgV5"
      },
      "source": [
        "## Step 0: Import Required Libraries\n",
        "Let's begin by importing the necessary libraries for our analysis. We'll be using ```os```,```numpy```, ```pandas```, for loading the data and for data manipulation.\n",
        "\n",
        "Furthermore, we will need to import the **GLHMM-package** as ```glhmm```:\n",
        "\n",
        "If you dont have the **GLHMM-package** installed, then run the following command in your terminal:\n",
        "\n",
        "```pip install --user git+https://github.com/vidaurre/glhmm```\n",
        "\n",
        "To use the helper function ```my_functions``` you need to install the library's:\n",
        "```\n",
        "pip install mat73\n",
        "```\n",
        "```\n",
        "pip install statsmodels\n",
        "```\n",
        "```\n",
        "pip install tqdm\n",
        "```\n",
        "\n",
        "When using **Google Colab** we need to import the following libraries, so we can load the data of interest\n",
        "\n",
        "```\n",
        "!pip install requests\n",
        "!pip install gdown\n",
        "```\n",
        "\n"
      ]
    },
    {
      "cell_type": "code",
      "source": [
        "!pip install mat73\n",
        "!pip install statsmodels\n",
        "!pip install tqdm\n",
        "!pip install requests\n",
        "!pip install gdown"
      ],
      "metadata": {
        "colab": {
          "base_uri": "https://localhost:8080/"
        },
        "id": "596DgmudWHDr",
        "outputId": "79bc4450-07b3-47d4-99db-cabf2e04d0c5"
      },
      "execution_count": 1,
      "outputs": [
        {
          "output_type": "stream",
          "name": "stdout",
          "text": [
            "Collecting mat73\n",
            "  Downloading mat73-0.60-py3-none-any.whl (19 kB)\n",
            "Requirement already satisfied: h5py in /usr/local/lib/python3.10/dist-packages (from mat73) (3.8.0)\n",
            "Requirement already satisfied: numpy in /usr/local/lib/python3.10/dist-packages (from mat73) (1.22.4)\n",
            "Installing collected packages: mat73\n",
            "Successfully installed mat73-0.60\n",
            "Requirement already satisfied: statsmodels in /usr/local/lib/python3.10/dist-packages (0.13.5)\n",
            "Requirement already satisfied: pandas>=0.25 in /usr/local/lib/python3.10/dist-packages (from statsmodels) (1.5.3)\n",
            "Requirement already satisfied: patsy>=0.5.2 in /usr/local/lib/python3.10/dist-packages (from statsmodels) (0.5.3)\n",
            "Requirement already satisfied: packaging>=21.3 in /usr/local/lib/python3.10/dist-packages (from statsmodels) (23.1)\n",
            "Requirement already satisfied: scipy>=1.3 in /usr/local/lib/python3.10/dist-packages (from statsmodels) (1.10.1)\n",
            "Requirement already satisfied: numpy>=1.17 in /usr/local/lib/python3.10/dist-packages (from statsmodels) (1.22.4)\n",
            "Requirement already satisfied: python-dateutil>=2.8.1 in /usr/local/lib/python3.10/dist-packages (from pandas>=0.25->statsmodels) (2.8.2)\n",
            "Requirement already satisfied: pytz>=2020.1 in /usr/local/lib/python3.10/dist-packages (from pandas>=0.25->statsmodels) (2022.7.1)\n",
            "Requirement already satisfied: six in /usr/local/lib/python3.10/dist-packages (from patsy>=0.5.2->statsmodels) (1.16.0)\n",
            "Requirement already satisfied: tqdm in /usr/local/lib/python3.10/dist-packages (4.65.0)\n",
            "Requirement already satisfied: requests in /usr/local/lib/python3.10/dist-packages (2.27.1)\n",
            "Requirement already satisfied: urllib3<1.27,>=1.21.1 in /usr/local/lib/python3.10/dist-packages (from requests) (1.26.16)\n",
            "Requirement already satisfied: certifi>=2017.4.17 in /usr/local/lib/python3.10/dist-packages (from requests) (2023.5.7)\n",
            "Requirement already satisfied: charset-normalizer~=2.0.0 in /usr/local/lib/python3.10/dist-packages (from requests) (2.0.12)\n",
            "Requirement already satisfied: idna<4,>=2.5 in /usr/local/lib/python3.10/dist-packages (from requests) (3.4)\n",
            "Requirement already satisfied: gdown in /usr/local/lib/python3.10/dist-packages (4.6.6)\n",
            "Requirement already satisfied: filelock in /usr/local/lib/python3.10/dist-packages (from gdown) (3.12.2)\n",
            "Requirement already satisfied: requests[socks] in /usr/local/lib/python3.10/dist-packages (from gdown) (2.27.1)\n",
            "Requirement already satisfied: six in /usr/local/lib/python3.10/dist-packages (from gdown) (1.16.0)\n",
            "Requirement already satisfied: tqdm in /usr/local/lib/python3.10/dist-packages (from gdown) (4.65.0)\n",
            "Requirement already satisfied: beautifulsoup4 in /usr/local/lib/python3.10/dist-packages (from gdown) (4.11.2)\n",
            "Requirement already satisfied: soupsieve>1.2 in /usr/local/lib/python3.10/dist-packages (from beautifulsoup4->gdown) (2.4.1)\n",
            "Requirement already satisfied: urllib3<1.27,>=1.21.1 in /usr/local/lib/python3.10/dist-packages (from requests[socks]->gdown) (1.26.16)\n",
            "Requirement already satisfied: certifi>=2017.4.17 in /usr/local/lib/python3.10/dist-packages (from requests[socks]->gdown) (2023.5.7)\n",
            "Requirement already satisfied: charset-normalizer~=2.0.0 in /usr/local/lib/python3.10/dist-packages (from requests[socks]->gdown) (2.0.12)\n",
            "Requirement already satisfied: idna<4,>=2.5 in /usr/local/lib/python3.10/dist-packages (from requests[socks]->gdown) (3.4)\n",
            "Requirement already satisfied: PySocks!=1.5.7,>=1.5.6 in /usr/local/lib/python3.10/dist-packages (from requests[socks]->gdown) (1.7.1)\n"
          ]
        }
      ]
    },
    {
      "cell_type": "markdown",
      "source": [
        "## Download the GLHMM package"
      ],
      "metadata": {
        "id": "Zeq2Hgi8ayRF"
      }
    },
    {
      "cell_type": "code",
      "source": [
        "!git clone https://github.com/vidaurre/glhmm\n",
        "%cd glhmm"
      ],
      "metadata": {
        "colab": {
          "base_uri": "https://localhost:8080/"
        },
        "id": "zlpakfNUWjXu",
        "outputId": "1b5f880d-371b-4904-deb1-6fe932daba22"
      },
      "execution_count": 2,
      "outputs": [
        {
          "output_type": "stream",
          "name": "stdout",
          "text": [
            "Cloning into 'glhmm'...\n",
            "remote: Enumerating objects: 863, done.\u001b[K\n",
            "remote: Counting objects: 100% (154/154), done.\u001b[K\n",
            "remote: Compressing objects: 100% (113/113), done.\u001b[K\n",
            "remote: Total 863 (delta 73), reused 65 (delta 40), pack-reused 709\u001b[K\n",
            "Receiving objects: 100% (863/863), 12.61 MiB | 18.13 MiB/s, done.\n",
            "Resolving deltas: 100% (506/506), done.\n",
            "/content/glhmm\n"
          ]
        }
      ]
    },
    {
      "cell_type": "markdown",
      "source": [
        "### Import packages"
      ],
      "metadata": {
        "id": "eOAYGRTFOHe-"
      }
    },
    {
      "cell_type": "code",
      "source": [
        "import os\n",
        "import numpy as np\n",
        "import pandas as pd\n",
        "from glhmm import glhmm\n",
        "import requests\n",
        "import gdown"
      ],
      "metadata": {
        "id": "iJmkK12SAe7c"
      },
      "execution_count": 4,
      "outputs": []
    },
    {
      "cell_type": "markdown",
      "source": [
        "### Load Helper function"
      ],
      "metadata": {
        "id": "xJszOVdzHY10"
      }
    },
    {
      "cell_type": "code",
      "source": [
        "%cd ..\n",
        "# Import helper function\n",
        "# Get the raw github file\n",
        "url = 'https://raw.githubusercontent.com/Nick7900/permutation_test/main/helper_functions/my_functions.py'\n",
        "r = requests.get(url)\n",
        "# Save the function to the directory\n",
        "with open(\"my_functions.py\",\"w\") as f:\n",
        "  f.write(r.text)"
      ],
      "metadata": {
        "colab": {
          "base_uri": "https://localhost:8080/"
        },
        "id": "BZy3oZeg-6Gc",
        "outputId": "b1da0db6-626a-4a7d-f23d-cc1ff2ca0638"
      },
      "execution_count": 5,
      "outputs": [
        {
          "output_type": "stream",
          "name": "stdout",
          "text": [
            "/content\n"
          ]
        }
      ]
    },
    {
      "cell_type": "markdown",
      "source": [
        "### Load Permutationt testing functions"
      ],
      "metadata": {
        "id": "74a_jwCtW9zV"
      }
    },
    {
      "cell_type": "code",
      "source": [
        "# Import helper function\n",
        "# Get the raw github file\n",
        "url = 'https://raw.githubusercontent.com/Nick7900/permutation_test/main/helper_functions/permutation_test.py'\n",
        "r = requests.get(url)\n",
        "# Save the function to the directory\n",
        "with open(\"permutation_test.py\",\"w\") as f:\n",
        "  f.write(r.text)"
      ],
      "metadata": {
        "id": "fxHZbowMXJNT"
      },
      "execution_count": 9,
      "outputs": []
    },
    {
      "cell_type": "markdown",
      "metadata": {
        "id": "LR-CRyVJTgV7"
      },
      "source": [
        "## Step 1: Loading Data Files\n",
        "First, we need to load data files into our Python environment.\n",
        "We will be working with two data files **data_measurement.npy** and **gamma.npy**.\n",
        "\n",
        "These files contain measurement data and corresponding gamma values estimated from a trained ```glhmm``` model, respectively.\n",
        "\n",
        "# Load directly from google drive\n",
        "Remove the text **file/d/** from the link and replace it with **uc?id=**\n",
        "\n",
        "Now remove the section after the file ID, including **/view** and replace it with **&export=download** in place of the text you have removed"
      ]
    },
    {
      "cell_type": "code",
      "execution_count": 23,
      "metadata": {
        "colab": {
          "base_uri": "https://localhost:8080/",
          "height": 258
        },
        "id": "n-cghYvMTgV7",
        "outputId": "3dade71e-10b3-45f8-f6aa-f040c03d8f43"
      },
      "outputs": [
        {
          "output_type": "stream",
          "name": "stderr",
          "text": [
            "Downloading...\n",
            "From: https://drive.google.com/uc?id=1Dac8F1iQTPA3rqjR6qsQN2L14VqMxsA4&export=download\n",
            "To: /content/data_behavioral.npy\n",
            "100%|██████████| 1.09k/1.09k [00:00<00:00, 1.01MB/s]\n",
            "Downloading...\n",
            "From: https://drive.google.com/uc?id=1dBlUk_ecvkCQILZCSCcreMJ71vOvQ54P&export=download\n",
            "To: /content/data_measurement.npy\n",
            "100%|██████████| 7.20M/7.20M [00:00<00:00, 103MB/s]\n",
            "Downloading...\n",
            "From: https://drive.google.com/uc?id=1UkDPbepluacv-1ozk8RD25Yo25u0TOw_&export=download\n",
            "To: /content/gamma.npy\n",
            "100%|██████████| 432k/432k [00:00<00:00, 93.9MB/s]\n"
          ]
        },
        {
          "output_type": "execute_result",
          "data": {
            "text/plain": [
              "'gamma.npy'"
            ],
            "application/vnd.google.colaboratory.intrinsic+json": {
              "type": "string"
            }
          },
          "metadata": {},
          "execution_count": 23
        }
      ],
      "source": [
        "# Define the folder and file names\n",
        "folder_name = \"\"\n",
        "# data_behavioral\n",
        "url = \"https://drive.google.com/uc?id=1Dac8F1iQTPA3rqjR6qsQN2L14VqMxsA4&export=download\"\n",
        "gdown.download(url, quiet=False)\n",
        "# data_measurement_file\n",
        "url = \"https://drive.google.com/uc?id=1dBlUk_ecvkCQILZCSCcreMJ71vOvQ54P&export=download\"\n",
        "gdown.download(url, quiet=False)\n",
        "# data_gamma_file\n",
        "url = \"https://drive.google.com/uc?id=1UkDPbepluacv-1ozk8RD25Yo25u0TOw_&export=download\"\n",
        "gdown.download(url, quiet=False)"
      ]
    },
    {
      "cell_type": "code",
      "source": [
        "data_behavioral_file = 'data_behavioral.npy'\n",
        "data_measurement_file = 'data_measurement.npy'\n",
        "data_gamma_file = 'gamma.npy'\n",
        "\n",
        "# Load behavioral data\n",
        "file_path = os.path.join(folder_name, data_behavioral_file)\n",
        "data_behavioral = np.load(file_path)\n",
        "\n",
        "# Load measurement data\n",
        "file_path = os.path.join(folder_name, data_measurement_file)\n",
        "data_measurement = np.load(file_path)\n",
        "\n",
        "# Load gamma data\n",
        "file_path = os.path.join(folder_name, data_gamma_file)\n",
        "data_gamma = np.load(file_path)\n"
      ],
      "metadata": {
        "id": "ahMVPaAYYMMR"
      },
      "execution_count": 24,
      "outputs": []
    },
    {
      "cell_type": "markdown",
      "metadata": {
        "id": "d7d-y6WSTgV8"
      },
      "source": [
        "### Step 1.1 : Look at the data"
      ]
    },
    {
      "cell_type": "markdown",
      "metadata": {
        "id": "tJ8Sj1OhTgV8"
      },
      "source": [
        "Now we can look at the data structure.\n",
        "\n",
        "What we can see here is that ```data_measurement =[60, 300, 50]```. \\\n",
        "What the data really contains are 60 subject and each subject has been measured of a period of time(T) for 300 timestamps and 50 parcellations over the brain.\n",
        "\n",
        "For the corresponding 60 subjects, we got ```data_behavioral =[60,2]```, which are **behavioral** measurement of each subjects *sex* and *age*.\n",
        "\n",
        "When we look at ```data_gamma =[18000, 3]```. The gamma measurement are concatenated for every timepoint for each subject 18000 (60 by 300). We got 3 columns and each represents the 3 different states at each timepoint per subject.\n"
      ]
    },
    {
      "cell_type": "code",
      "execution_count": 25,
      "metadata": {
        "colab": {
          "base_uri": "https://localhost:8080/"
        },
        "id": "9_m-V9CXTgV8",
        "outputId": "337dcfee-d629-4d9e-9648-ba917548e8d2"
      },
      "outputs": [
        {
          "output_type": "stream",
          "name": "stdout",
          "text": [
            "Data dimension of data_measurement: (60, 300, 50)\n",
            "Data dimension of data_behavioral: (60, 2)\n",
            "Data dimension of data_gamma: (18000, 3)\n"
          ]
        }
      ],
      "source": [
        "print(f\"Data dimension of data_measurement: {data_measurement.shape}\")\n",
        "print(f\"Data dimension of data_behavioral: {data_behavioral.shape}\")\n",
        "print(f\"Data dimension of data_gamma: {data_gamma.shape}\")"
      ]
    },
    {
      "cell_type": "markdown",
      "metadata": {
        "id": "_rq-9ST9TgV9"
      },
      "source": [
        "## Step 2: Data Preparation\n",
        "\n",
        "Before performing permutation testing, we need to preprocess the data and create appropriate datasizes for analysis.\n",
        "\n",
        "When performing permutation testing on the whole time series we will calculate the **Fractiona Occupancy**\n",
        "\n",
        "### Fractional Occupancy (FO)\n",
        "The Fractional Occupancy (FO) is a measure commonly used in a Hidden Markov Model (HMM) to quantify the amount of time spent in each state. In the context of HMMs, the FO represents the expected fraction of time spent in each hidden state.\n",
        "\n",
        "The **FO** of each state is calculated based on the state probability time series (Gamma) generated by the HMM. The Gamma matrix represents the posterior probabilities of the hidden states given the observed data.\n",
        "\n",
        "By calculating the **FO**, we can  gain insights into the relative importance or prevalence of each hidden state over time. It can help in understanding the dynamics of the underlying process modeled by the **HMM**.\n"
      ]
    },
    {
      "cell_type": "markdown",
      "metadata": {
        "id": "U7-kjwe4TgV9"
      },
      "source": [
        "### Calculate indices\n",
        "Before we can calculate **FO** of the **gamma's** we need to specify the indices in the concatenated timeseries corresponding to the beginning and end of individual subjects/sessions in the shape ```[n_subjects, 2]```."
      ]
    },
    {
      "cell_type": "code",
      "execution_count": 26,
      "metadata": {
        "colab": {
          "base_uri": "https://localhost:8080/"
        },
        "id": "mXlo_4TmTgV-",
        "outputId": "9df0f089-45df-4b34-c217-31250ff2aabf"
      },
      "outputs": [
        {
          "output_type": "execute_result",
          "data": {
            "text/plain": [
              "array([[   0,  300],\n",
              "       [ 300,  600],\n",
              "       [ 600,  900],\n",
              "       [ 900, 1200],\n",
              "       [1200, 1500],\n",
              "       [1500, 1800],\n",
              "       [1800, 2100],\n",
              "       [2100, 2400],\n",
              "       [2400, 2700],\n",
              "       [2700, 3000]])"
            ]
          },
          "metadata": {},
          "execution_count": 26
        }
      ],
      "source": [
        "from my_functions import get_timestamp_indices\n",
        "#Generate indices of the timestamps for each subject in the data.\n",
        "n_s, n_timepoints, n_features =data_measurement.shape # [60, 300, 50]\n",
        "idx_time =get_timestamp_indices(n_timepoints,n_s)\n",
        "# Visualize the first 10 timepoints\n",
        "idx_time[:10]"
      ]
    },
    {
      "cell_type": "markdown",
      "metadata": {
        "id": "SmckNKkMTgV-"
      },
      "source": [
        "### Calculate Fractional Occupancy (FO)\n",
        "Now that we got the indices we can calculate FO"
      ]
    },
    {
      "cell_type": "code",
      "execution_count": 27,
      "metadata": {
        "id": "OYV1p8YWTgV-"
      },
      "outputs": [],
      "source": [
        "# Calculate FO\n",
        "FO =glhmm.utils.get_FO(data_gamma,idx_time)"
      ]
    },
    {
      "cell_type": "markdown",
      "metadata": {
        "id": "86VWLSYfTgV-"
      },
      "source": [
        "# Run Between-Subject Testing\n",
        "Now that we have the data prepared for the analysis we will show how to perform between-subject testing using the ```between_subject_test``` function. We will use an example dataset consisting of **fractional occupancy measurements** and corresponding **behavioral measurements**. Like previous stated, the behavioral measurements include information about the subjects' sex and age."
      ]
    },
    {
      "cell_type": "markdown",
      "metadata": {
        "id": "oOyl2YYmTgV-"
      },
      "source": [
        "To make the jupyter notebook consisten with the functions we will define **fractional occupancy measurements** to be the input data (```X_data```) and the **behavioral measurements** to be the design matrix (```D_data```)"
      ]
    },
    {
      "cell_type": "code",
      "execution_count": 28,
      "metadata": {
        "colab": {
          "base_uri": "https://localhost:8080/"
        },
        "id": "Iy4tMGokTgV-",
        "outputId": "aaa0165d-7798-400b-da33-74f643253311"
      },
      "outputs": [
        {
          "output_type": "stream",
          "name": "stdout",
          "text": [
            "X_data shape: (60, 3)\n",
            "D_data shape: (60, 2)\n"
          ]
        }
      ],
      "source": [
        "X_data = FO.copy()\n",
        "D_data = data_behavioral.copy()\n",
        "print('X_data shape:', X_data.shape)\n",
        "print('D_data shape:', D_data.shape)"
      ]
    },
    {
      "cell_type": "markdown",
      "metadata": {
        "id": "xbeLeUAgTgV-"
      },
      "source": [
        "The ```X_data``` array has a shape of (60, 3), indicating 60 time points and 3 fractional occupancy measurements. The ```D_data``` array has a shape of (60, 2), indicating 60 time points and 2 behavioral measurements (sex and age)."
      ]
    },
    {
      "cell_type": "markdown",
      "metadata": {
        "id": "DlwzF9xQTgV-"
      },
      "source": [
        "## Step 3: Permutation testing - between subject testing\n",
        "\n",
        "\n",
        "The ```between_subject_test``` function is designed to perform permutation tests on between subject. It utilizes various helper functions to handle the permutation generation, and statistical calculations. The main purpose of this function is to determine the statistical significance of observed patterns in the data by generating random permutations and comparing the results.\n"
      ]
    },
    {
      "cell_type": "code",
      "execution_count": 29,
      "metadata": {
        "id": "85--e0erTgV-"
      },
      "outputs": [],
      "source": [
        "# import between_subject_test\n",
        "from permutation_test import between_subject_test # This function should just be in the GLHMM package"
      ]
    },
    {
      "cell_type": "markdown",
      "metadata": {
        "id": "novGbG8RTgV_"
      },
      "source": [
        "### Parameters\n",
        "The ```between_subject_test``` function accepts the following parameters:\n",
        "\n",
        "* X_data (ndarray): Input data array of shape that can be either a 2D array or a 3D array. For 2D array, it got a           shape of (n_ST, n_features). For a 3D array,it got a shape (n_timepoints, n_ST, n_features). Where  n_ST = number of subjects or trials\n",
        "\n",
        "* D_data (ndarray):             The dependent-variable or Design-matrix that can be either a 2D array or a 3D array. For 2D array, it got a           shape of (n_ST, n_features). For a 3D array,it got a shape (n_timepoints, n_ST, n_features). Where  n_ST = number of subjects or trials.\n",
        "* idx_data (ndarray): It can take index data of shape (n_trials, 2) indicating start and end indices of trials or an 1D array of shape (n_ST,) where the indices are defined for each subject/trial.                                   Required if exchangeable=True. Defaults to None.   \n",
        "* method (str): Method for performing permutation test for regression coefficients or permutation with correlation\n",
        "* Nperm (int): Number of permutations to perform (default: 1000).\n",
        "* confounds (numpy.ndarray or None): The confounds array (default: None).\n",
        "* exchangeable (bool, optional): Flag indicating whether to perform exchangeable permutation between subjects. (default: False)\n",
        "* participants (numpy.ndarray, optional): Indices of subjects/participants. Required if exchangeable=True. (default: False)\n",
        "            \n"
      ]
    },
    {
      "cell_type": "markdown",
      "metadata": {
        "id": "Ggk9fRU0TgV_"
      },
      "source": [
        "### Returns\n",
        "The ```between_subject_test``` function returns two ndarrays:\n",
        "* pval (numpy.ndarray): Array of p-values of shape (n_timepoints, n_features).\n",
        "* corr_pval (numpy.ndarray): Array of correlation p-values of shape (n_timepoints, n_features, n_predictions)."
      ]
    },
    {
      "cell_type": "markdown",
      "metadata": {
        "id": "eInuVub1TgV_"
      },
      "source": [
        "### 3.1: Example of usage - Regression\n",
        "We will now demonstrate how to use the ```between_subject_test``` function by performing permutation test for regression coefficients\n"
      ]
    },
    {
      "cell_type": "code",
      "execution_count": 30,
      "metadata": {
        "colab": {
          "base_uri": "https://localhost:8080/"
        },
        "id": "VxLZ78ZkTgV_",
        "outputId": "9c7a81cd-ca63-42ea-ca5c-933f1cefbd19"
      },
      "outputs": [
        {
          "output_type": "stream",
          "name": "stdout",
          "text": [
            "performing permutation testing for whole data\n"
          ]
        },
        {
          "output_type": "stream",
          "name": "stderr",
          "text": [
            "100%|██████████| 1000/1000 [00:00<00:00, 28518.32it/s]\n"
          ]
        },
        {
          "output_type": "execute_result",
          "data": {
            "text/plain": [
              "array([[0.7002997 , 0.78221778, 0.51448551]])"
            ]
          },
          "metadata": {},
          "execution_count": 30
        }
      ],
      "source": [
        "# Set the parameters for between-subject testing\n",
        "method = \"regression\"\n",
        "Nperm = 1000\n",
        "test_statistic_option=True\n",
        "\n",
        "\n",
        "# Perform between-subject testing\n",
        "pval, test_statistic_list  =between_subject_test(X_data, D_data, method=method,Nperm=Nperm,test_statistic_option=test_statistic_option)\n",
        "pval"
      ]
    },
    {
      "cell_type": "markdown",
      "metadata": {
        "id": "kqSg9NPDTgV_"
      },
      "source": [
        "### Step 3.1: P-value correction"
      ]
    },
    {
      "cell_type": "code",
      "execution_count": 31,
      "metadata": {
        "colab": {
          "base_uri": "https://localhost:8080/"
        },
        "id": "T6dxT0JNTgV_",
        "outputId": "e2a37649-cd60-48c8-ff62-8921dea48b4f"
      },
      "outputs": [
        {
          "output_type": "stream",
          "name": "stdout",
          "text": [
            "Corrected P-value: [[0.78221778 0.78221778 0.78221778]]\n",
            "Significant Time Points (Thresholding + Correction): (array([], dtype=int64), array([], dtype=int64))\n"
          ]
        }
      ],
      "source": [
        "from my_functions import *\n",
        "alpha = 0.05\n",
        "p_values_corrected,rejected_corrected  =pval_test(pval, alpha =alpha)\n",
        "# Identify significant results after correction\n",
        "significant_indices_corrected = np.where(p_values_corrected < alpha)\n",
        "\n",
        "# Print the significant results\n",
        "print(\"Corrected P-value:\", p_values_corrected)\n",
        "print(\"Significant Time Points (Thresholding + Correction):\", significant_indices_corrected)"
      ]
    },
    {
      "cell_type": "markdown",
      "metadata": {
        "id": "r-ruzLItTgWA"
      },
      "source": [
        "### Step 3.1: Visualize the p-values using heatmap\n",
        " Visualize the results by creating some plotting functions. Here's an example of how to plot the p-values"
      ]
    },
    {
      "cell_type": "code",
      "execution_count": 32,
      "metadata": {
        "colab": {
          "base_uri": "https://localhost:8080/",
          "height": 505
        },
        "id": "D_9kHKC8TgWA",
        "outputId": "a9b6789a-ab2e-461b-bb6d-b92142fef7c5"
      },
      "outputs": [
        {
          "output_type": "display_data",
          "data": {
            "text/plain": [
              "<Figure size 700x200 with 2 Axes>"
            ],
            "image/png": "[encoded data removed]"
          },
          "metadata": {}
        },
        {
          "output_type": "display_data",
          "data": {
            "text/plain": [
              "<Figure size 700x200 with 2 Axes>"
            ],
            "image/png": "[encoded data removed]"
          },
          "metadata": {}
        }
      ],
      "source": [
        "# Plot p-values\n",
        "plot_heatmap(pval,method, title_text =\"Heatmap of original p-values\",figsize=(7, 2))\n",
        "\n",
        "plot_heatmap(p_values_corrected,method, title_text =\"Heatmap of corrected p-values\",figsize=(7, 2))"
      ]
    },
    {
      "cell_type": "markdown",
      "metadata": {
        "id": "c_4vq9vTTgWA"
      },
      "source": [
        "### Step 3.1: Interpret Results\n",
        "After running the permutation test, we can interpret the results.\n",
        "\n",
        "- The ```p_values``` variable contains the p-values for the regression coefficients of each feature in ```X_data = [n_subject, n_feature]``` for the whole timerseries.\n",
        "\n",
        "The p-value represents the probability of observing a test statistic as extreme as (or more extreme than) the observed statistic, assuming the null hypothesis is true.\n",
        "\n",
        "\n"
      ]
    },
    {
      "cell_type": "markdown",
      "metadata": {
        "id": "akYuxbkUTgWA"
      },
      "source": [
        "### Step 3.1: Conclusion"
      ]
    },
    {
      "cell_type": "markdown",
      "metadata": {
        "id": "tft2LismTgWA"
      },
      "source": [
        "The p-values in permutation with regression show how significant the regression coefficients between every feature and the behavioral measures are.\n",
        "The more strongly the feature is showed to be statistically linked with the behavioral measurements, the lower the p-value must be.\n",
        "Based on these p-values and the significance level chosen (alpha=0.05), it shows that we fail to reject the null hypothesis, indicating that there is no strong evidence of a significant relationship between the feature and the behavioral measurement.\n"
      ]
    },
    {
      "cell_type": "markdown",
      "metadata": {
        "id": "0GDgAP95TgWB"
      },
      "source": [
        "### 3.2: Example of usage - Correlation\n",
        "We will now demonstrate how to use the ```between_subject_test``` function by performing permutation test for correlation coefficients\n"
      ]
    },
    {
      "cell_type": "code",
      "execution_count": 33,
      "metadata": {
        "colab": {
          "base_uri": "https://localhost:8080/"
        },
        "id": "KqKqzxPkTgWB",
        "outputId": "28cd668d-3c5d-45ce-c83f-a225ea206d10"
      },
      "outputs": [
        {
          "output_type": "stream",
          "name": "stdout",
          "text": [
            "performing permutation testing for whole data\n"
          ]
        },
        {
          "output_type": "stream",
          "name": "stderr",
          "text": [
            "100%|██████████| 1000/1000 [00:07<00:00, 141.51it/s]\n"
          ]
        }
      ],
      "source": [
        "# Set the parameters for between-subject testing\n",
        "method = \"correlation_com\"\n",
        "Nperm = 1000\n",
        "\n",
        "# Perform between-subject testing\n",
        "pval, corr_coef = between_subject_test(X_data, D_data, method=method, Nperm=Nperm)"
      ]
    },
    {
      "cell_type": "markdown",
      "metadata": {
        "id": "8jfGDtLJTgWB"
      },
      "source": [
        "### 3.2: P-value correction"
      ]
    },
    {
      "cell_type": "code",
      "execution_count": 34,
      "metadata": {
        "colab": {
          "base_uri": "https://localhost:8080/"
        },
        "id": "ubmlXg_bTgWB",
        "outputId": "57e2d502-fe3e-455e-a182-3a0e17415dae"
      },
      "outputs": [
        {
          "output_type": "stream",
          "name": "stdout",
          "text": [
            "Corrected P-value: [[[0.9000999  0.81278721]\n",
            "  [0.81278721 0.81278721]\n",
            "  [0.81278721 0.81278721]]]\n",
            "Significant Time Points (Thresholding + Correction): (array([], dtype=int64), array([], dtype=int64), array([], dtype=int64))\n"
          ]
        }
      ],
      "source": [
        "from my_functions import *\n",
        "alpha = 0.05\n",
        "p_values_corrected,rejected_corrected  =pval_test(pval, alpha =alpha)\n",
        "# Identify significant results after correction\n",
        "significant_indices_corrected = np.where(p_values_corrected < alpha)\n",
        "\n",
        "# Print the significant results\n",
        "print(\"Corrected P-value:\", p_values_corrected)\n",
        "print(\"Significant Time Points (Thresholding + Correction):\", significant_indices_corrected)"
      ]
    },
    {
      "cell_type": "markdown",
      "metadata": {
        "id": "3G0KzImUTgWC"
      },
      "source": [
        "### 3.2: Visualize the p-values using heatmap\n",
        " Visualize the results by creating some plotting functions. Here's an example of how to plot the correlation coefficients and p-values."
      ]
    },
    {
      "cell_type": "code",
      "execution_count": 35,
      "metadata": {
        "colab": {
          "base_uri": "https://localhost:8080/",
          "height": 505
        },
        "id": "GI5hlQeUTgWC",
        "outputId": "1f633783-1e74-49ab-ddf9-6dbe2ba75e7e"
      },
      "outputs": [
        {
          "output_type": "display_data",
          "data": {
            "text/plain": [
              "<Figure size 700x200 with 2 Axes>"
            ],
            "image/png": "[encoded data removed]"
          },
          "metadata": {}
        },
        {
          "output_type": "display_data",
          "data": {
            "text/plain": [
              "<Figure size 700x200 with 2 Axes>"
            ],
            "image/png": "[encoded data removed]"
          },
          "metadata": {}
        }
      ],
      "source": [
        "# Plot p-values\n",
        "plot_heatmap(pval[0,:],method, title_text =\"Heatmap of original p-values\",figsize=(7, 2))\n",
        "\n",
        "plot_heatmap(p_values_corrected[0,:],method, title_text =\"Heatmap of corrected p-values\",figsize=(7, 2))"
      ]
    },
    {
      "cell_type": "markdown",
      "metadata": {
        "id": "jBavljW9TgWC"
      },
      "source": [
        "Heat map for correlation"
      ]
    },
    {
      "cell_type": "code",
      "execution_count": 36,
      "metadata": {
        "colab": {
          "base_uri": "https://localhost:8080/",
          "height": 261
        },
        "id": "y8yEiEm3TgWC",
        "outputId": "d39580bb-3a8e-49e0-e23c-98719fc4defe"
      },
      "outputs": [
        {
          "output_type": "display_data",
          "data": {
            "text/plain": [
              "<Figure size 700x200 with 2 Axes>"
            ],
            "image/png": "[encoded data removed]"
          },
          "metadata": {}
        }
      ],
      "source": [
        "plot_heatmap(corr_coef[0,:], method=method, title_text=\"Heatmap of correlation coefficients\",figsize=(7, 2))"
      ]
    },
    {
      "cell_type": "markdown",
      "metadata": {
        "id": "EiiqCF3kTgWC"
      },
      "source": [
        "### Step 3.2: Interpret Results\n",
        "After running the permutation test using **correlation**, we can interpret the results.\n",
        "\n",
        "- The ```p_values``` variable contains the p-values for the correlation coefficients betweem each measurement feature (3 states calculated from the GLHMM) in ```X_data = [n_subject, n_feature]``` and the behavioral measurements (sex, age) in ```D_data=[n_subject,n_predictors]```for the whole timeseries. The lower the p-value, the stronger the evidence that the feature is significantly correlated with the behavioral measurements.\n",
        "\n",
        "- If a p-value is less than the chosen significance level (```alpha=0.05```), you can reject the null hypothesis and conclude that there is a significant correlation between the measured feature and the behavioral measurement.\n",
        "\n",
        "- If a p-value is greater than the significance level, you fail to reject the null hypothesis, indicating that there is no strong evidence of a significant correlation between the measured feature and the behavioral measurement.\n",
        "\n",
        "\n",
        "\n",
        "\n",
        "\n"
      ]
    },
    {
      "cell_type": "markdown",
      "metadata": {
        "id": "O4LsM5hRTgWG"
      },
      "source": [
        "### 3.2: Conclusion\n",
        "The p-values in permutation with correlation show how significant the correlation coefficients between every HMM states and the behavioral measures (sex, age) are. The more strongly the feature is showed to be statistically linked with the behavioral measurements, the lower the p-value must be.\n",
        "Based on these p-values and the significance level chosen (alpha=0.05), it appears that none of the correlation coefficients are statistically significant after correction..... (maybe the correction is too conservative?)\n"
      ]
    },
    {
      "cell_type": "markdown",
      "metadata": {
        "id": "vlauyMQDTgWG"
      },
      "source": []
    }
  ],
  "metadata": {
    "kernelspec": {
      "display_name": "GLHMM_env",
      "language": "python",
      "name": "python3"
    },
    "language_info": {
      "codemirror_mode": {
        "name": "ipython",
        "version": 3
      },
      "file_extension": ".py",
      "mimetype": "text/x-python",
      "name": "python",
      "nbconvert_exporter": "python",
      "pygments_lexer": "ipython3",
      "version": "3.9.17"
    },
    "orig_nbformat": 4,
    "colab": {
      "provenance": [],
      "include_colab_link": true
    }
  },
  "nbformat": 4,
  "nbformat_minor": 0
}