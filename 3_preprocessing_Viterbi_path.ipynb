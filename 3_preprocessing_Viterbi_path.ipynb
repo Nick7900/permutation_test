{
  "cells": [
    {
      "cell_type": "markdown",
      "metadata": {
        "id": "view-in-github",
        "colab_type": "text"
      },
      "source": [
        "<a href=\"https://colab.research.google.com/github/Nick7900/permutation_test/blob/main/3_preprocessing_Viterbi_path.ipynb\" target=\"_parent\"><img src=\"https://colab.research.google.com/assets/colab-badge.svg\" alt=\"Open In Colab\"/></a>"
      ]
    },
    {
      "cell_type": "markdown",
      "metadata": {
        "id": "tXVtTbHnM-8j"
      },
      "source": [
        "## GLHMM: train basic HMM without interaction to get Gamma"
      ]
    },
    {
      "cell_type": "markdown",
      "metadata": {
        "id": "GMggT5n3M-8y"
      },
      "source": [
        "This notebook goes through the basic steps to train a \"classic\" HMM on a single set of timeseries, such as neuroimaging or electrophysiological recordings from multiple subjects or sessions.\n",
        "\n",
        "\n",
        "When using **Google Colab** we need to import the following libraries, so we can load the data of interest\n",
        "\n",
        "```\n",
        "!pip install requests\n",
        "!pip install gdown\n",
        "```\n",
        "\n"
      ]
    },
    {
      "cell_type": "markdown",
      "metadata": {
        "id": "oaHmTnFnM-83"
      },
      "source": [
        "### Import modules\n",
        "We first import the relevant modules. If you have not done so, install the repo using:\n",
        "\n",
        "```pip install --user git+https://github.com/vidaurre/glhmm```"
      ]
    },
    {
      "cell_type": "code",
      "source": [
        "!pip install requests\n",
        "!pip install gdown\n",
        "!pip install mat73"
      ],
      "metadata": {
        "colab": {
          "base_uri": "https://localhost:8080/"
        },
        "id": "LdpNUSWgNWpJ",
        "outputId": "89d866a2-cd84-4fce-a267-4eaaeeb87bb1"
      },
      "execution_count": null,
      "outputs": [
        {
          "output_type": "stream",
          "name": "stdout",
          "text": [
            "Requirement already satisfied: requests in /usr/local/lib/python3.10/dist-packages (2.27.1)\n",
            "Requirement already satisfied: urllib3<1.27,>=1.21.1 in /usr/local/lib/python3.10/dist-packages (from requests) (1.26.16)\n",
            "Requirement already satisfied: certifi>=2017.4.17 in /usr/local/lib/python3.10/dist-packages (from requests) (2023.5.7)\n",
            "Requirement already satisfied: charset-normalizer~=2.0.0 in /usr/local/lib/python3.10/dist-packages (from requests) (2.0.12)\n",
            "Requirement already satisfied: idna<4,>=2.5 in /usr/local/lib/python3.10/dist-packages (from requests) (3.4)\n",
            "Requirement already satisfied: gdown in /usr/local/lib/python3.10/dist-packages (4.6.6)\n",
            "Requirement already satisfied: filelock in /usr/local/lib/python3.10/dist-packages (from gdown) (3.12.2)\n",
            "Requirement already satisfied: requests[socks] in /usr/local/lib/python3.10/dist-packages (from gdown) (2.27.1)\n",
            "Requirement already satisfied: six in /usr/local/lib/python3.10/dist-packages (from gdown) (1.16.0)\n",
            "Requirement already satisfied: tqdm in /usr/local/lib/python3.10/dist-packages (from gdown) (4.65.0)\n",
            "Requirement already satisfied: beautifulsoup4 in /usr/local/lib/python3.10/dist-packages (from gdown) (4.11.2)\n",
            "Requirement already satisfied: soupsieve>1.2 in /usr/local/lib/python3.10/dist-packages (from beautifulsoup4->gdown) (2.4.1)\n",
            "Requirement already satisfied: urllib3<1.27,>=1.21.1 in /usr/local/lib/python3.10/dist-packages (from requests[socks]->gdown) (1.26.16)\n",
            "Requirement already satisfied: certifi>=2017.4.17 in /usr/local/lib/python3.10/dist-packages (from requests[socks]->gdown) (2023.5.7)\n",
            "Requirement already satisfied: charset-normalizer~=2.0.0 in /usr/local/lib/python3.10/dist-packages (from requests[socks]->gdown) (2.0.12)\n",
            "Requirement already satisfied: idna<4,>=2.5 in /usr/local/lib/python3.10/dist-packages (from requests[socks]->gdown) (3.4)\n",
            "Requirement already satisfied: PySocks!=1.5.7,>=1.5.6 in /usr/local/lib/python3.10/dist-packages (from requests[socks]->gdown) (1.7.1)\n",
            "Collecting mat73\n",
            "  Downloading mat73-0.60-py3-none-any.whl (19 kB)\n",
            "Requirement already satisfied: h5py in /usr/local/lib/python3.10/dist-packages (from mat73) (3.8.0)\n",
            "Requirement already satisfied: numpy in /usr/local/lib/python3.10/dist-packages (from mat73) (1.22.4)\n",
            "Installing collected packages: mat73\n",
            "Successfully installed mat73-0.60\n"
          ]
        }
      ]
    },
    {
      "cell_type": "code",
      "source": [
        "!git clone https://github.com/vidaurre/glhmm\n",
        "%cd glhmm"
      ],
      "metadata": {
        "colab": {
          "base_uri": "https://localhost:8080/"
        },
        "id": "Am_tHAK6NYsZ",
        "outputId": "2d6eed51-4782-4602-d728-de23c81d803e"
      },
      "execution_count": null,
      "outputs": [
        {
          "output_type": "stream",
          "name": "stdout",
          "text": [
            "Cloning into 'glhmm'...\n",
            "remote: Enumerating objects: 863, done.\u001b[K\n",
            "remote: Counting objects: 100% (154/154), done.\u001b[K\n",
            "remote: Compressing objects: 100% (113/113), done.\u001b[K\n",
            "remote: Total 863 (delta 73), reused 65 (delta 40), pack-reused 709\u001b[K\n",
            "Receiving objects: 100% (863/863), 12.61 MiB | 9.03 MiB/s, done.\n",
            "Resolving deltas: 100% (506/506), done.\n",
            "/content/glhmm\n"
          ]
        }
      ]
    },
    {
      "cell_type": "markdown",
      "source": [
        "### Import Libraies"
      ],
      "metadata": {
        "id": "qbXURmm4NvEd"
      }
    },
    {
      "cell_type": "code",
      "source": [
        "import os\n",
        "import numpy as np\n",
        "from glhmm import glhmm\n",
        "import requests\n",
        "import gdown"
      ],
      "metadata": {
        "id": "Pu-8a0_INuQE"
      },
      "execution_count": null,
      "outputs": []
    },
    {
      "cell_type": "code",
      "source": [
        "%cd ..\n",
        "# Import helper function\n",
        "# Get the raw github file\n",
        "url = 'https://raw.githubusercontent.com/Nick7900/permutation_test/main/helper_functions/my_functions.py'\n",
        "r = requests.get(url)\n",
        "# Save the function to the directory\n",
        "with open(\"my_functions.py\",\"w\") as f:\n",
        "  f.write(r.text)"
      ],
      "metadata": {
        "colab": {
          "base_uri": "https://localhost:8080/"
        },
        "id": "QpNcEfo5NqPF",
        "outputId": "d84fb829-482b-437b-8767-b3865dc34682"
      },
      "execution_count": null,
      "outputs": [
        {
          "output_type": "stream",
          "name": "stdout",
          "text": [
            "/content\n"
          ]
        }
      ]
    },
    {
      "cell_type": "markdown",
      "metadata": {
        "id": "a8DfU8ITM-88"
      },
      "source": [
        "### Load data\n",
        "For this example we are analyzing memory task data measured inside a Magnetoencephalography (MEG) scanner at different sessions and over multiple trials for 1 subject.\n"
      ]
    },
    {
      "cell_type": "markdown",
      "source": [
        "We will load the data from google drive:\n",
        "\n",
        "Remove the text **file/d/** from the link and replace it with **uc?id=**\n",
        "\n",
        "Now remove the section after the file ID, including **/view** and replace it with **&export=download** in place of the text you have removed"
      ],
      "metadata": {
        "id": "n1lVdEEfOdFT"
      }
    },
    {
      "cell_type": "code",
      "execution_count": null,
      "metadata": {
        "colab": {
          "base_uri": "https://localhost:8080/",
          "height": 1000
        },
        "id": "5Meskk7SM-89",
        "outputId": "6b42af9e-c18f-4666-f0fd-8de8197ba7fe"
      },
      "outputs": [
        {
          "output_type": "stream",
          "name": "stderr",
          "text": [
            "Downloading...\n",
            "From: https://drive.google.com/uc?id=1XhjINejfg7yPsxJ_sLjOZQ-1VNOT9ySB&export=download\n",
            "To: /content/X_memory.npy\n",
            "\n",
            "\n",
            "  0%|          | 0.00/844M [00:00<?, ?B/s]\u001b[A\u001b[A\n",
            "\n",
            "  2%|▏         | 15.7M/844M [00:00<00:05, 153MB/s]\u001b[A\u001b[A\n",
            "\n",
            "  4%|▎         | 31.5M/844M [00:00<00:06, 130MB/s]\u001b[A\u001b[A\n",
            "\n",
            "  6%|▌         | 48.2M/844M [00:00<00:05, 142MB/s]\u001b[A\u001b[A\n",
            "\n",
            "  8%|▊         | 64.0M/844M [00:00<00:05, 148MB/s]\u001b[A\u001b[A\n",
            "\n",
            "  9%|▉         | 79.2M/844M [00:00<00:05, 141MB/s]\u001b[A\u001b[A\n",
            "\n",
            " 11%|█         | 93.8M/844M [00:00<00:06, 119MB/s]\u001b[A\u001b[A\n",
            "\n",
            " 13%|█▎        | 106M/844M [00:00<00:06, 121MB/s] \u001b[A\u001b[A\n",
            "\n",
            " 14%|█▍        | 120M/844M [00:00<00:05, 125MB/s]\u001b[A\u001b[A\n",
            "\n",
            " 16%|█▌        | 136M/844M [00:01<00:05, 135MB/s]\u001b[A\u001b[A\n",
            "\n",
            " 19%|█▊        | 157M/844M [00:01<00:04, 154MB/s]\u001b[A\u001b[A\n",
            "\n",
            " 20%|██        | 173M/844M [00:01<00:04, 155MB/s]\u001b[A\u001b[A\n",
            "\n",
            " 22%|██▏       | 189M/844M [00:01<00:05, 128MB/s]\u001b[A\u001b[A\n",
            "\n",
            " 24%|██▍       | 207M/844M [00:01<00:04, 139MB/s]\u001b[A\u001b[A\n",
            "\n",
            " 27%|██▋       | 224M/844M [00:01<00:04, 147MB/s]\u001b[A\u001b[A\n",
            "\n",
            " 29%|██▉       | 244M/844M [00:01<00:03, 161MB/s]\u001b[A\u001b[A\n",
            "\n",
            " 31%|███       | 263M/844M [00:01<00:03, 168MB/s]\u001b[A\u001b[A\n",
            "\n",
            " 33%|███▎      | 280M/844M [00:01<00:03, 157MB/s]\u001b[A\u001b[A\n",
            "\n",
            " 35%|███▌      | 299M/844M [00:02<00:03, 166MB/s]\u001b[A\u001b[A\n",
            "\n",
            " 37%|███▋      | 316M/844M [00:02<00:03, 160MB/s]\u001b[A\u001b[A\n",
            "\n",
            " 40%|███▉      | 336M/844M [00:02<00:03, 169MB/s]\u001b[A\u001b[A\n",
            "\n",
            " 42%|████▏     | 353M/844M [00:02<00:02, 170MB/s]\u001b[A\u001b[A\n",
            "\n",
            " 44%|████▍     | 371M/844M [00:02<00:02, 168MB/s]\u001b[A\u001b[A\n",
            "\n",
            " 46%|████▌     | 388M/844M [00:02<00:02, 165MB/s]\u001b[A\u001b[A\n",
            "\n",
            " 48%|████▊     | 405M/844M [00:02<00:03, 145MB/s]\u001b[A\u001b[A\n",
            "\n",
            " 50%|████▉     | 420M/844M [00:02<00:02, 145MB/s]\u001b[A\u001b[A\n",
            "\n",
            " 52%|█████▏    | 437M/844M [00:02<00:02, 152MB/s]\u001b[A\u001b[A\n",
            "\n",
            " 54%|█████▎    | 453M/844M [00:03<00:04, 90.3MB/s]\u001b[A\u001b[A\n",
            "\n",
            " 56%|█████▌    | 473M/844M [00:03<00:03, 112MB/s] \u001b[A\u001b[A\n",
            "\n",
            " 58%|█████▊    | 490M/844M [00:03<00:02, 122MB/s]\u001b[A\u001b[A\n",
            "\n",
            " 60%|█████▉    | 506M/844M [00:03<00:02, 130MB/s]\u001b[A\u001b[A\n",
            "\n",
            " 62%|██████▏   | 524M/844M [00:03<00:02, 141MB/s]\u001b[A\u001b[A\n",
            "\n",
            " 64%|██████▍   | 541M/844M [00:03<00:02, 149MB/s]\u001b[A\u001b[A\n",
            "\n",
            " 67%|██████▋   | 564M/844M [00:03<00:01, 170MB/s]\u001b[A\u001b[A\n",
            "\n",
            " 69%|██████▉   | 582M/844M [00:04<00:01, 166MB/s]\u001b[A\u001b[A\n",
            "\n",
            " 71%|███████   | 601M/844M [00:04<00:01, 171MB/s]\u001b[A\u001b[A\n",
            "\n",
            " 73%|███████▎  | 619M/844M [00:04<00:01, 168MB/s]\u001b[A\u001b[A\n",
            "\n",
            " 75%|███████▌  | 636M/844M [00:04<00:01, 166MB/s]\u001b[A\u001b[A\n",
            "\n",
            " 78%|███████▊  | 655M/844M [00:04<00:01, 171MB/s]\u001b[A\u001b[A\n",
            "\n",
            " 80%|███████▉  | 673M/844M [00:04<00:00, 172MB/s]\u001b[A\u001b[A\n",
            "\n",
            " 82%|████████▏ | 691M/844M [00:04<00:00, 169MB/s]\u001b[A\u001b[A\n",
            "\n",
            " 84%|████████▍ | 713M/844M [00:04<00:00, 181MB/s]\u001b[A\u001b[A\n",
            "\n",
            " 87%|████████▋ | 734M/844M [00:04<00:00, 190MB/s]\u001b[A\u001b[A\n",
            "\n",
            " 89%|████████▉ | 753M/844M [00:04<00:00, 176MB/s]\u001b[A\u001b[A\n",
            "\n",
            " 91%|█████████▏| 772M/844M [00:05<00:00, 172MB/s]\u001b[A\u001b[A\n",
            "\n",
            " 94%|█████████▎| 790M/844M [00:05<00:00, 173MB/s]\u001b[A\u001b[A\n",
            "\n",
            " 96%|█████████▌| 808M/844M [00:05<00:00, 176MB/s]\u001b[A\u001b[A\n",
            "\n",
            " 98%|█████████▊| 826M/844M [00:05<00:00, 175MB/s]\u001b[A\u001b[A\n",
            "\n",
            "100%|██████████| 844M/844M [00:05<00:00, 153MB/s]\n",
            "Downloading...\n",
            "From: https://drive.google.com/uc?id=17QcxDcvZasvsQ-iBTL2uqsDbBgBOTLkj&export=download\n",
            "To: /content/y_memory.npy\n",
            "\n",
            "\n",
            "100%|██████████| 52.9k/52.9k [00:00<00:00, 81.5MB/s]\n",
            "Downloading...\n",
            "From: https://drive.google.com/uc?id=12aOoMd6DheYb9PfPfOFi3oytemH7enqI&export=download\n",
            "To: /content/idx_session.npy\n",
            "\n",
            "\n",
            "100%|██████████| 248/248 [00:00<00:00, 925kB/s]\n"
          ]
        },
        {
          "output_type": "execute_result",
          "data": {
            "text/plain": [
              "'idx_session.npy'"
            ],
            "application/vnd.google.colaboratory.intrinsic+json": {
              "type": "string"
            }
          },
          "metadata": {},
          "execution_count": 18
        }
      ],
      "source": [
        "# Downlod files from google colab\n",
        "# Load X_data (X_memory)\n",
        "url = \"https://drive.google.com/uc?id=1XhjINejfg7yPsxJ_sLjOZQ-1VNOT9ySB&export=download\"\n",
        "gdown.download(url, quiet=False)\n",
        "\n",
        "# Load dependent variables (y_memory)\n",
        "url = \"https://drive.google.com/uc?id=17QcxDcvZasvsQ-iBTL2uqsDbBgBOTLkj&export=download\"\n",
        "gdown.download(url, quiet=False)\n",
        "\n",
        "# Load indices\n",
        "url = \"https://drive.google.com/uc?id=12aOoMd6DheYb9PfPfOFi3oytemH7enqI&export=download\"\n",
        "gdown.download(url, quiet=False)"
      ]
    },
    {
      "cell_type": "code",
      "source": [
        "# Show the shape of the data\n",
        "\n",
        "current_directory = os.getcwd()\n",
        "folder_name = \"\"\n",
        "file_name = '/X_memory.npy'\n",
        "\n",
        "# Load X data\n",
        "file_path = os.path.join(current_directory+folder_name+file_name)\n",
        "X_data = np.load(file_path)\n",
        "\n",
        "# Load y data\n",
        "file_name = '/y_memory.npy'\n",
        "file_path = os.path.join(current_directory+folder_name+file_name)\n",
        "y_data = np.load(file_path)\n",
        "\n",
        "\n",
        "# Load indices\n",
        "file_name = '/idx_session.npy'\n",
        "file_path = os.path.join(current_directory+folder_name+file_name)\n",
        "idx_data = np.load(file_path)\n",
        "\n",
        "\n",
        "print(f\"Data dimension of X Memory data: {X_data.shape}\")\n",
        "print(f\"Data dimension of y Memory data: {y_data.shape}\")\n",
        "print(f\"Data dimension of indices Memory: {idx_data.shape}\")"
      ],
      "metadata": {
        "colab": {
          "base_uri": "https://localhost:8080/"
        },
        "id": "K2TqIhxhQrsb",
        "outputId": "8aebd0e0-ba7d-4c05-f561-b44cee7eaa4d"
      },
      "execution_count": null,
      "outputs": [
        {
          "output_type": "stream",
          "name": "stdout",
          "text": [
            "Data dimension of X Memory data: (250, 6595, 64)\n",
            "Data dimension of y Memory data: (6595,)\n",
            "Data dimension of indices Memory: (15, 2)\n"
          ]
        }
      ]
    },
    {
      "cell_type": "markdown",
      "metadata": {
        "id": "yRN5eT_7M-8-"
      },
      "source": [
        "Now we can look at the data structure.\n",
        "- X_data: 3D array of shape (n_timepoints, n_trials, n_features)\n",
        "- y_data : 1D array of shape (n_trials,)\n",
        "- idx_data: 2D array of shape (n_sessions, 2)\n",
        "\n",
        "```X_data``` represents the measurements taken from the subject. It is a list with three elements: ```[250, 6595, 64]```. The first element indicates that the subject was measured over a period of ```250``` timestamps. The second element, ```6595```, represents the number of trials conducted. Each trial consists of measuring ```64``` channels inside the MEG scanner.\n",
        "\n",
        "```y_data``` is an array containing only 0s and 1s. The values in this array indicate whether an image of an animated or inanimate object was shown on a screen during each trial.\n",
        "\n",
        "For our ```X_data``` we have our corresponding ```idx_data = [15, 2]```. This indicates the number of sessions conducted, which in this case is ```15```. The values in each row represent the start and end indices of the trials.\n",
        "\n"
      ]
    },
    {
      "cell_type": "markdown",
      "metadata": {
        "id": "9CvimfGxM-8-"
      },
      "source": [
        "### Preapare data for the HMM\n",
        "\n",
        "Before we can input the data to the ```GLHMM``` package, we need to concatenate every trial from each session into a new data matrix ```data```.\n",
        "The resulting data matrix has shape ```[1645000, 64]``` (```n_timepoints``` * ```n_trials```, ```n_channels```), where ```n_timepoints``` is the total number of time points of every trial, and ```n_trials``` is the total number of trials across all selected sessions.\n",
        "\n",
        "\n",
        "\n",
        "our dataset ```X_data``` along the first dimension, before we can train the HMM. Just Like we mentioned just before.\n",
        "\n",
        "\n",
        "The code takes a 3D data matrix X_data and a 2D array idx_data. It concatenates selected trials from each session into a new data matrix data. The resulting data matrix has shape (n_timepoints * n_trials, 64), where n_timepoints is the total number of time points in the selected segments, and n_trials is the total number of trials across all selected sessions.\n",
        "\n",
        "\n"
      ]
    },
    {
      "cell_type": "code",
      "execution_count": null,
      "metadata": {
        "colab": {
          "base_uri": "https://localhost:8080/"
        },
        "id": "_VNoGaYdM-8_",
        "outputId": "4091d2e5-908a-4429-e93f-f176f8f3d9d3"
      },
      "outputs": [
        {
          "output_type": "execute_result",
          "data": {
            "text/plain": [
              "((1645000, 64), (1645000,))"
            ]
          },
          "metadata": {},
          "execution_count": 21
        }
      ],
      "source": [
        "#  Concatenates selected trials from each session into a new data matrix.\n",
        "X_memory_con = []\n",
        "y_memory_con =[]\n",
        "idx_data_con =np.zeros_like(idx_data)\n",
        "#n_timepoints= 2\n",
        "for i in np.arange(len(idx_data)):\n",
        "#for i in np.arange((n_timepoints)):\n",
        "    for j in np.arange(idx_data[i,0],idx_data[i,1]):\n",
        "        X_memory_con.extend(X_data[:,j,:])\n",
        "        y_memory_con.extend([y_data[j] for _ in range(X_data.shape[0])])\n",
        "    idx_data_con[i,1]=len(X_memory_con)\n",
        "    if i==len(idx_data)-1:\n",
        "        pass\n",
        "    else:\n",
        "        idx_data_con[i+1,0]=idx_data_con[i,1]\n",
        "\n",
        "\n",
        "X_memory_con = np.array(X_memory_con)\n",
        "y_memory_con = np.array(y_memory_con)\n",
        "X_memory_con.shape, y_memory_con.shape\n"
      ]
    },
    {
      "cell_type": "markdown",
      "metadata": {
        "id": "FUWfgnPVM-8_"
      },
      "source": [
        "Update the new index array to the new matrix ```data```"
      ]
    },
    {
      "cell_type": "code",
      "execution_count": null,
      "metadata": {
        "colab": {
          "base_uri": "https://localhost:8080/"
        },
        "id": "1KM-ZhPjM-9A",
        "outputId": "feb1579c-96ff-4ffd-f9e9-603900c2db9c"
      },
      "outputs": [
        {
          "output_type": "execute_result",
          "data": {
            "text/plain": [
              "array([[      0,  234250],\n",
              "       [ 234250,  463750],\n",
              "       [ 463750,  576750],\n",
              "       [ 576750,  694250],\n",
              "       [ 694250,  749250],\n",
              "       [ 749250,  863000],\n",
              "       [ 863000,  978500],\n",
              "       [ 978500, 1035750],\n",
              "       [1035750, 1137000],\n",
              "       [1137000, 1195250],\n",
              "       [1195250, 1300000],\n",
              "       [1300000, 1417250],\n",
              "       [1417250, 1474250],\n",
              "       [1474250, 1587250],\n",
              "       [1587250, 1645000]], dtype=int32)"
            ]
          },
          "metadata": {},
          "execution_count": 22
        }
      ],
      "source": [
        "idx_data_con"
      ]
    },
    {
      "cell_type": "markdown",
      "metadata": {
        "id": "Zb-wX2HXM-9A"
      },
      "source": [
        "The updated timeseries has the shape ```(1645000, 64)``` and the indices have the shape (15, 2).\n",
        "Data should be in numpy format."
      ]
    },
    {
      "cell_type": "markdown",
      "metadata": {
        "id": "M9pjZSpgM-9A"
      },
      "source": [
        "### Initialise and train HMM\n",
        "We first initialise the hmm object and specify hyperparameters. In this case, since we do not model an interaction between two sets of variables in the HMM states, we set ```model_beta='no'```.\n",
        "\n",
        "We here estimate 3 states. If you want to model a different number of states, change K to a different value.\n",
        "\n",
        "We here model states as Gaussian distributions with mean and full covariance matrix, so that each state is described by a mean amplitude and functional connectivity pattern, specify ```covtype='full'```. If you do not want to model the mean, add ```model_mean='no'```.\n",
        "Optionally, you can check the hyperparameters to make sure that they correspond to how you want the model to be set up."
      ]
    },
    {
      "cell_type": "code",
      "execution_count": null,
      "metadata": {
        "colab": {
          "base_uri": "https://localhost:8080/"
        },
        "id": "cRGU89Y6M-9A",
        "outputId": "3149c5eb-a8a5-46a6-f23c-2bb51eb1a483"
      },
      "outputs": [
        {
          "output_type": "stream",
          "name": "stdout",
          "text": [
            "{'K': 3, 'covtype': 'full', 'model_mean': 'state', 'model_beta': 'no', 'dirichlet_diag': 10, 'connectivity': None, 'Pstructure': array([[ True,  True,  True],\n",
            "       [ True,  True,  True],\n",
            "       [ True,  True,  True]]), 'Pistructure': array([ True,  True,  True])}\n"
          ]
        }
      ],
      "source": [
        "#K = X_data.shape[-1] # number of channels of the dataset\n",
        "K = 3\n",
        "hmm = glhmm.glhmm(model_beta='no', K=K, covtype='full')\n",
        "print(hmm.hyperparameters)"
      ]
    },
    {
      "cell_type": "markdown",
      "metadata": {
        "id": "7873SMoVM-9A"
      },
      "source": [
        "We then train the HMM using the prepared ```data``` and ```idx_data_new``` . Since we here do not model an interaction between two sets of timeseries but run a \"classic\" HMM instead, we set ```X=None```. Y should be the timeseries in which we want to estimate states (in here called ```data```) and **indices** should be the beginning and end **indices** of each subject (here called ```idx_data_new```).\n"
      ]
    },
    {
      "cell_type": "code",
      "execution_count": null,
      "metadata": {
        "colab": {
          "base_uri": "https://localhost:8080/"
        },
        "id": "OEbgFMT-M-9A",
        "outputId": "12355d28-dc6b-4705-8f19-f6b306c18f79"
      },
      "outputs": [
        {
          "output_type": "stream",
          "name": "stderr",
          "text": [
            "/content/glhmm/glhmm/glhmm.py:1175: RuntimeWarning: overflow encountered in exp\n",
            "  L = np.exp(self.loglikelihood(X_sliced,Y_sliced))\n",
            "  1%|          | 7.86M/844M [09:22<16:36:45, 14.0kB/s]\n",
            " 26%|██▌       | 218M/844M [08:34<24:38, 424kB/s] \n",
            "/content/glhmm/glhmm/glhmm.py:1926: UserWarning: Gamma has almost zero variance: stuck in a weird solution\n",
            "  warnings.warn('Gamma has almost zero variance: stuck in a weird solution')\n",
            "/content/glhmm/glhmm/glhmm.py:1494: RuntimeWarning: divide by zero encountered in log\n",
            "  fe_some_terms = -np.log(scale) # (only valid just after)\n"
          ]
        },
        {
          "output_type": "stream",
          "name": "stdout",
          "text": [
            "Cycle 1 free energy = nan\n"
          ]
        },
        {
          "output_type": "stream",
          "name": "stderr",
          "text": [
            "/content/glhmm/glhmm/glhmm.py:1175: RuntimeWarning: overflow encountered in exp\n",
            "  L = np.exp(self.loglikelihood(X_sliced,Y_sliced))\n"
          ]
        },
        {
          "output_type": "stream",
          "name": "stdout",
          "text": [
            "Cycle 2 free energy = nan\n",
            "Cycle 3, free energy = nan, relative change = nan\n",
            "Cycle 4, free energy = nan, relative change = nan\n",
            "Cycle 5, free energy = nan, relative change = nan\n",
            "Cycle 6, free energy = nan, relative change = nan\n",
            "Cycle 7, free energy = nan, relative change = nan\n",
            "Cycle 8, free energy = nan, relative change = nan\n",
            "Cycle 9, free energy = nan, relative change = nan\n",
            "Cycle 10, free energy = nan, relative change = nan\n",
            "Finished training in 264.51s : active states = 3\n",
            "Init repetition 1 free energy = nan\n",
            "Cycle 1 free energy = nan\n",
            "Cycle 2 free energy = nan\n",
            "Cycle 3, free energy = nan, relative change = nan\n",
            "Cycle 4, free energy = nan, relative change = nan\n",
            "Cycle 5, free energy = nan, relative change = nan\n",
            "Cycle 6, free energy = nan, relative change = nan\n",
            "Cycle 7, free energy = nan, relative change = nan\n",
            "Cycle 8, free energy = nan, relative change = nan\n",
            "Cycle 9, free energy = nan, relative change = nan\n",
            "Cycle 10, free energy = nan, relative change = nan\n",
            "Finished training in 253.81s : active states = 3\n",
            "Init repetition 2 free energy = nan\n",
            "Cycle 1 free energy = nan\n",
            "Cycle 2 free energy = nan\n",
            "Cycle 3, free energy = nan, relative change = nan\n",
            "Cycle 4, free energy = nan, relative change = nan\n",
            "Cycle 5, free energy = nan, relative change = nan\n",
            "Cycle 6, free energy = nan, relative change = nan\n",
            "Cycle 7, free energy = nan, relative change = nan\n",
            "Cycle 8, free energy = nan, relative change = nan\n",
            "Cycle 9, free energy = nan, relative change = nan\n",
            "Cycle 10, free energy = nan, relative change = nan\n",
            "Finished training in 251.27s : active states = 3\n",
            "Init repetition 3 free energy = nan\n",
            "Cycle 1 free energy = nan\n",
            "Cycle 2 free energy = nan\n",
            "Cycle 3, free energy = nan, relative change = nan\n",
            "Cycle 4, free energy = nan, relative change = nan\n",
            "Cycle 5, free energy = nan, relative change = nan\n",
            "Cycle 6, free energy = nan, relative change = nan\n",
            "Cycle 7, free energy = nan, relative change = nan\n",
            "Cycle 8, free energy = nan, relative change = nan\n",
            "Cycle 9, free energy = nan, relative change = nan\n",
            "Cycle 10, free energy = nan, relative change = nan\n",
            "Finished training in 252.03s : active states = 3\n",
            "Init repetition 4 free energy = nan\n",
            "Cycle 1 free energy = nan\n",
            "Cycle 2 free energy = nan\n",
            "Cycle 3, free energy = nan, relative change = nan\n",
            "Cycle 4, free energy = nan, relative change = nan\n",
            "Cycle 5, free energy = nan, relative change = nan\n",
            "Cycle 6, free energy = nan, relative change = nan\n",
            "Cycle 7, free energy = nan, relative change = nan\n",
            "Cycle 8, free energy = nan, relative change = nan\n",
            "Cycle 9, free energy = nan, relative change = nan\n",
            "Cycle 10, free energy = nan, relative change = nan\n",
            "Finished training in 250.92s : active states = 3\n",
            "Init repetition 5 free energy = nan\n",
            "Best repetition: 1\n",
            "Cycle 1 free energy = nan\n",
            "Cycle 2 free energy = nan\n",
            "Cycle 3, free energy = nan, relative change = nan\n",
            "Cycle 4, free energy = nan, relative change = nan\n",
            "Cycle 5, free energy = nan, relative change = nan\n",
            "Cycle 6, free energy = nan, relative change = nan\n",
            "Cycle 7, free energy = nan, relative change = nan\n",
            "Cycle 8, free energy = nan, relative change = nan\n",
            "Cycle 9, free energy = nan, relative change = nan\n",
            "Cycle 10, free energy = nan, relative change = nan\n",
            "Cycle 11, free energy = nan, relative change = nan\n",
            "Cycle 12, free energy = nan, relative change = nan\n",
            "Cycle 13, free energy = nan, relative change = nan\n",
            "Cycle 14, free energy = nan, relative change = nan\n",
            "Cycle 15, free energy = nan, relative change = nan\n",
            "Cycle 16, free energy = nan, relative change = nan\n",
            "Cycle 17, free energy = nan, relative change = nan\n",
            "Cycle 18, free energy = nan, relative change = nan\n",
            "Cycle 19, free energy = nan, relative change = nan\n",
            "Cycle 20, free energy = nan, relative change = nan\n",
            "Cycle 21, free energy = nan, relative change = nan\n",
            "Cycle 22, free energy = nan, relative change = nan\n",
            "Cycle 23, free energy = nan, relative change = nan\n",
            "Cycle 24, free energy = nan, relative change = nan\n",
            "Cycle 25, free energy = nan, relative change = nan\n",
            "Cycle 26, free energy = nan, relative change = nan\n",
            "Cycle 27, free energy = nan, relative change = nan\n",
            "Cycle 28, free energy = nan, relative change = nan\n",
            "Cycle 29, free energy = nan, relative change = nan\n",
            "Cycle 30, free energy = nan, relative change = nan\n",
            "Cycle 31, free energy = nan, relative change = nan\n",
            "Cycle 32, free energy = nan, relative change = nan\n",
            "Cycle 33, free energy = nan, relative change = nan\n",
            "Cycle 34, free energy = nan, relative change = nan\n",
            "Cycle 35, free energy = nan, relative change = nan\n",
            "Cycle 36, free energy = nan, relative change = nan\n",
            "Cycle 37, free energy = nan, relative change = nan\n",
            "Cycle 38, free energy = nan, relative change = nan\n",
            "Cycle 39, free energy = nan, relative change = nan\n",
            "Cycle 40, free energy = nan, relative change = nan\n",
            "Cycle 41, free energy = nan, relative change = nan\n",
            "Cycle 42, free energy = nan, relative change = nan\n",
            "Cycle 43, free energy = nan, relative change = nan\n",
            "Cycle 44, free energy = nan, relative change = nan\n",
            "Cycle 45, free energy = nan, relative change = nan\n",
            "Cycle 46, free energy = nan, relative change = nan\n",
            "Cycle 47, free energy = nan, relative change = nan\n",
            "Cycle 48, free energy = nan, relative change = nan\n",
            "Cycle 49, free energy = nan, relative change = nan\n",
            "Cycle 50, free energy = nan, relative change = nan\n",
            "Cycle 51, free energy = nan, relative change = nan\n",
            "Cycle 52, free energy = nan, relative change = nan\n",
            "Cycle 53, free energy = nan, relative change = nan\n",
            "Cycle 54, free energy = nan, relative change = nan\n",
            "Cycle 55, free energy = nan, relative change = nan\n",
            "Cycle 56, free energy = nan, relative change = nan\n",
            "Cycle 57, free energy = nan, relative change = nan\n",
            "Cycle 58, free energy = nan, relative change = nan\n",
            "Cycle 59, free energy = nan, relative change = nan\n",
            "Cycle 60, free energy = nan, relative change = nan\n",
            "Cycle 61, free energy = nan, relative change = nan\n",
            "Cycle 62, free energy = nan, relative change = nan\n",
            "Cycle 63, free energy = nan, relative change = nan\n",
            "Cycle 64, free energy = nan, relative change = nan\n",
            "Cycle 65, free energy = nan, relative change = nan\n",
            "Cycle 66, free energy = nan, relative change = nan\n",
            "Cycle 67, free energy = nan, relative change = nan\n",
            "Cycle 68, free energy = nan, relative change = nan\n",
            "Cycle 69, free energy = nan, relative change = nan\n",
            "Cycle 70, free energy = nan, relative change = nan\n",
            "Cycle 71, free energy = nan, relative change = nan\n",
            "Cycle 72, free energy = nan, relative change = nan\n",
            "Cycle 73, free energy = nan, relative change = nan\n",
            "Cycle 74, free energy = nan, relative change = nan\n",
            "Cycle 75, free energy = nan, relative change = nan\n",
            "Cycle 76, free energy = nan, relative change = nan\n",
            "Cycle 77, free energy = nan, relative change = nan\n",
            "Cycle 78, free energy = nan, relative change = nan\n",
            "Cycle 79, free energy = nan, relative change = nan\n",
            "Cycle 80, free energy = nan, relative change = nan\n",
            "Cycle 81, free energy = nan, relative change = nan\n",
            "Cycle 82, free energy = nan, relative change = nan\n",
            "Cycle 83, free energy = nan, relative change = nan\n",
            "Cycle 84, free energy = nan, relative change = nan\n",
            "Cycle 85, free energy = nan, relative change = nan\n",
            "Cycle 86, free energy = nan, relative change = nan\n",
            "Cycle 87, free energy = nan, relative change = nan\n",
            "Cycle 88, free energy = nan, relative change = nan\n",
            "Cycle 89, free energy = nan, relative change = nan\n",
            "Cycle 90, free energy = nan, relative change = nan\n",
            "Cycle 91, free energy = nan, relative change = nan\n",
            "Cycle 92, free energy = nan, relative change = nan\n",
            "Cycle 93, free energy = nan, relative change = nan\n",
            "Cycle 94, free energy = nan, relative change = nan\n",
            "Cycle 95, free energy = nan, relative change = nan\n",
            "Cycle 96, free energy = nan, relative change = nan\n",
            "Cycle 97, free energy = nan, relative change = nan\n",
            "Cycle 98, free energy = nan, relative change = nan\n",
            "Cycle 99, free energy = nan, relative change = nan\n",
            "Cycle 100, free energy = nan, relative change = nan\n",
            "Finished training in 3617.37s : active states = 3\n"
          ]
        },
        {
          "output_type": "execute_result",
          "data": {
            "text/plain": [
              "(array([[0.33333333, 0.33333333, 0.33333333],\n",
              "        [0.33297504, 0.3337074 , 0.33331757],\n",
              "        [0.33297445, 0.33370801, 0.33331754],\n",
              "        ...,\n",
              "        [0.33297445, 0.33370801, 0.33331754],\n",
              "        [0.33297445, 0.33370801, 0.33331754],\n",
              "        [0.33297445, 0.33370801, 0.33331754]]),\n",
              " array([[[0.11135627, 0.11105361, 0.11092345],\n",
              "         [0.11080949, 0.11159999, 0.11092386],\n",
              "         [0.11080928, 0.1110538 , 0.11147026]],\n",
              " \n",
              "        [[0.11123657, 0.11093424, 0.11080422],\n",
              "         [0.11093384, 0.11172522, 0.11104833],\n",
              "         [0.11080404, 0.11104855, 0.11146498]],\n",
              " \n",
              "        [[0.11123638, 0.11093404, 0.11080403],\n",
              "         [0.11093404, 0.11172543, 0.11104854],\n",
              "         [0.11080403, 0.11104854, 0.11146498]],\n",
              " \n",
              "        ...,\n",
              " \n",
              "        [[0.11123638, 0.11093404, 0.11080403],\n",
              "         [0.11093404, 0.11172543, 0.11104854],\n",
              "         [0.11080403, 0.11104854, 0.11146498]],\n",
              " \n",
              "        [[0.11123638, 0.11093404, 0.11080403],\n",
              "         [0.11093404, 0.11172543, 0.11104854],\n",
              "         [0.11080403, 0.11104854, 0.11146498]],\n",
              " \n",
              "        [[0.11123638, 0.11093404, 0.11080403],\n",
              "         [0.11093404, 0.11172543, 0.11104854],\n",
              "         [0.11080403, 0.11104854, 0.11146498]]]),\n",
              " array([nan, nan, nan, nan, nan, nan, nan, nan, nan, nan, nan, nan, nan,\n",
              "        nan, nan, nan, nan, nan, nan, nan, nan, nan, nan, nan, nan, nan,\n",
              "        nan, nan, nan, nan, nan, nan, nan, nan, nan, nan, nan, nan, nan,\n",
              "        nan, nan, nan, nan, nan, nan, nan, nan, nan, nan, nan, nan, nan,\n",
              "        nan, nan, nan, nan, nan, nan, nan, nan, nan, nan, nan, nan, nan,\n",
              "        nan, nan, nan, nan, nan, nan, nan, nan, nan, nan, nan, nan, nan,\n",
              "        nan, nan, nan, nan, nan, nan, nan, nan, nan, nan, nan, nan, nan,\n",
              "        nan, nan, nan, nan, nan, nan, nan, nan, nan]))"
            ]
          },
          "metadata": {},
          "execution_count": 25
        }
      ],
      "source": [
        "hmm.train(X=None, Y=X_memory_con, indices=idx_data_con)\n",
        "#Gamma,Xi,FE =hmm.train(X=None, Y=X_memory_con, indices=idx_data_con)"
      ]
    },
    {
      "cell_type": "markdown",
      "metadata": {
        "id": "GkJ8yQKDM-9B"
      },
      "source": [
        "We can see the shape of gamma is ```[18000,2]```, which correspond with the concatenated data ```[18000, 50]```.\n",
        "\n",
        "This bacicallay means that for each timepoint we have estimated a correspoinding state, since Gamma is the probability of each state being active at a giving timepoint."
      ]
    },
    {
      "cell_type": "markdown",
      "metadata": {
        "id": "gcUsLL-TM-9B"
      },
      "source": [
        "When we are going to perform within session continuous testing (Tutorial C),using the ```GLHMM``` package the input data would be the Viterbi path.\n",
        "The within-session continuous testing allows us to continuously recognize the most likely state sequence of an HMM in real-time as new observations arrive. The Viterbi algorithm efficiently calculates the most probable state sequence given an observation sequence and HMM.\n"
      ]
    },
    {
      "cell_type": "code",
      "source": [
        "vpath = hmm.decode(X=None, Y=X_memory_con, indices=idx_data_con, viterbi=True)"
      ],
      "metadata": {
        "id": "OeZ79vIgixNZ"
      },
      "execution_count": null,
      "outputs": []
    },
    {
      "cell_type": "markdown",
      "metadata": {
        "id": "mbwoa9GkM-9B"
      },
      "source": [
        "## Save Viterbi path"
      ]
    },
    {
      "cell_type": "code",
      "execution_count": null,
      "metadata": {
        "id": "KYeCq0S6M-9B"
      },
      "outputs": [],
      "source": [
        "# Get the current directory\n",
        "current_directory = os.getcwd()\n",
        "folder_name = \"/data_memory\"\n",
        "current_directory = os.getcwd()\n",
        "folder_path = os.path.join(current_directory+folder_name)\n",
        "isExist = os.path.exists(folder_path)\n",
        "if not isExist:\n",
        "   # Create a new directory because it does not exist\n",
        "   os.makedirs(folder_path)\n",
        "   print(\"The new directory is created!\")\n",
        "\n",
        "\n",
        "# Save viterbi path\n",
        "file_name = 'vpath_3_memory.npy'\n",
        "file_path = os.path.join(folder_path, file_name)\n",
        "np.save(file_path, file_name)"
      ]
    },
    {
      "cell_type": "markdown",
      "metadata": {
        "id": "8TKqszRcM-9B"
      },
      "source": [
        "## Save Continuous data"
      ]
    },
    {
      "cell_type": "code",
      "execution_count": null,
      "metadata": {
        "id": "8AxTFNVnM-9B"
      },
      "outputs": [],
      "source": [
        "# Continuous X_data\n",
        "file_name = 'X_memory_con.npy'\n",
        "# save file to path\n",
        "file_path = os.path.join(current_directory+folder_name+file_name)\n",
        "np.save(file_path, X_memory_con)\n",
        "\n",
        "\n",
        "\n",
        "# Continuous y_data\n",
        "file_name = 'y_memory_con.npy'\n",
        "# save file to path\n",
        "file_path = os.path.join(current_directory+folder_name+file_name)\n",
        "np.save(file_path, y_memory_con)\n",
        "\n",
        "\n",
        "# Continuous idx_data_con\n",
        "file_name = 'idx_data_con.npy'\n",
        "# save file to path\n",
        "file_path = os.path.join(current_directory+folder_name+file_name)\n",
        "np.save(file_path, idx_data_con)"
      ]
    },
    {
      "cell_type": "markdown",
      "metadata": {
        "id": "W4Flzsi3M-9B"
      },
      "source": [
        "## Save HMM model path"
      ]
    },
    {
      "cell_type": "code",
      "execution_count": null,
      "metadata": {
        "id": "NYVnIOunM-9B",
        "outputId": "78f24546-e7ba-407a-debf-e131bd8929c1"
      },
      "outputs": [
        {
          "name": "stdout",
          "output_type": "stream",
          "text": [
            "Data saved to c:\\Users\\au323479\\Desktop\\Permutation_test\\GLHMM\\Permutation_test_demo_NYL_20_07_23\\data\\hmm.pickle\n"
          ]
        }
      ],
      "source": [
        "import pickle\n",
        "# Save model\n",
        "# Specify the file path where you want to save the data\n",
        "pickle_file = 'hmm.pickle'\n",
        "file_path = os.path.join(folder_path+pickle_file)\n",
        "\n",
        "# Open the file in binary write mode\n",
        "with open(file_path, 'wb') as file:\n",
        "    # Use pickle.dump to save the data to the file\n",
        "    pickle.dump(hmm, file)\n",
        "\n",
        "print(\"Data saved to\", file_path)"
      ]
    },
    {
      "cell_type": "markdown",
      "source": [
        "## Load HMM model"
      ],
      "metadata": {
        "id": "SieeKlvFTCL9"
      }
    },
    {
      "cell_type": "code",
      "source": [
        "# Load pickle file\n",
        "# Open the file in binary read mode\n",
        "with open(file_path, 'rb') as file:\n",
        "    # Use pickle.load to load the data from the file\n",
        "    loaded_data = pickle.load(file)\n",
        "\n",
        "print(\"Loaded data:\", loaded_data)"
      ],
      "metadata": {
        "id": "FJPCk3orTEG0"
      },
      "execution_count": null,
      "outputs": []
    }
  ],
  "metadata": {
    "kernelspec": {
      "display_name": "Python 3",
      "name": "python3"
    },
    "language_info": {
      "codemirror_mode": {
        "name": "ipython",
        "version": 3
      },
      "file_extension": ".py",
      "mimetype": "text/x-python",
      "name": "python",
      "nbconvert_exporter": "python",
      "pygments_lexer": "ipython3",
      "version": "3.9.16"
    },
    "orig_nbformat": 4,
    "colab": {
      "provenance": [],
      "gpuType": "T4",
      "include_colab_link": true
    },
    "accelerator": "GPU"
  },
  "nbformat": 4,
  "nbformat_minor": 0
}