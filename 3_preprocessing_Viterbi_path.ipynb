{
  "cells": [
    {
      "cell_type": "markdown",
      "metadata": {
        "id": "view-in-github",
        "colab_type": "text"
      },
      "source": [
        "<a href=\"https://colab.research.google.com/github/Nick7900/permutation_test/blob/main/3_preprocessing_Viterbi_path.ipynb\" target=\"_parent\"><img src=\"https://colab.research.google.com/assets/colab-badge.svg\" alt=\"Open In Colab\"/></a>"
      ]
    },
    {
      "cell_type": "markdown",
      "metadata": {
        "id": "tXVtTbHnM-8j"
      },
      "source": [
        "## GLHMM: train basic HMM and get Viterbi Path"
      ]
    },
    {
      "cell_type": "markdown",
      "metadata": {
        "id": "GMggT5n3M-8y"
      },
      "source": [
        "This notebook goes through the basic steps to train a \"classic\" HMM on a single set of timeseries, such as neuroimaging or electrophysiological recordings from multiple subjects or sessions.\n",
        "\n",
        "\n",
        "When using **Google Colab** we need to import the following libraries, so we can load the data of interest\n",
        "\n",
        "```\n",
        "!pip install requests\n",
        "!pip install gdown\n",
        "```\n",
        "\n"
      ]
    },
    {
      "cell_type": "markdown",
      "metadata": {
        "id": "oaHmTnFnM-83"
      },
      "source": [
        "### Import modules\n",
        "We first import the relevant modules. If you have not done so, install the repo using:\n",
        "\n",
        "```pip install --user git+https://github.com/vidaurre/glhmm```"
      ]
    },
    {
      "cell_type": "code",
      "source": [
        "!pip install requests\n",
        "!pip install gdown\n",
        "!pip install mat73"
      ],
      "metadata": {
        "colab": {
          "base_uri": "https://localhost:8080/"
        },
        "id": "LdpNUSWgNWpJ",
        "outputId": "0e22826a-f97e-4a29-9392-57bda86e71c1"
      },
      "execution_count": 43,
      "outputs": [
        {
          "output_type": "stream",
          "name": "stdout",
          "text": [
            "Requirement already satisfied: requests in /usr/local/lib/python3.10/dist-packages (2.27.1)\n",
            "Requirement already satisfied: urllib3<1.27,>=1.21.1 in /usr/local/lib/python3.10/dist-packages (from requests) (1.26.16)\n",
            "Requirement already satisfied: certifi>=2017.4.17 in /usr/local/lib/python3.10/dist-packages (from requests) (2023.7.22)\n",
            "Requirement already satisfied: charset-normalizer~=2.0.0 in /usr/local/lib/python3.10/dist-packages (from requests) (2.0.12)\n",
            "Requirement already satisfied: idna<4,>=2.5 in /usr/local/lib/python3.10/dist-packages (from requests) (3.4)\n",
            "Requirement already satisfied: gdown in /usr/local/lib/python3.10/dist-packages (4.6.6)\n",
            "Requirement already satisfied: filelock in /usr/local/lib/python3.10/dist-packages (from gdown) (3.12.2)\n",
            "Requirement already satisfied: requests[socks] in /usr/local/lib/python3.10/dist-packages (from gdown) (2.27.1)\n",
            "Requirement already satisfied: six in /usr/local/lib/python3.10/dist-packages (from gdown) (1.16.0)\n",
            "Requirement already satisfied: tqdm in /usr/local/lib/python3.10/dist-packages (from gdown) (4.65.0)\n",
            "Requirement already satisfied: beautifulsoup4 in /usr/local/lib/python3.10/dist-packages (from gdown) (4.11.2)\n",
            "Requirement already satisfied: soupsieve>1.2 in /usr/local/lib/python3.10/dist-packages (from beautifulsoup4->gdown) (2.4.1)\n",
            "Requirement already satisfied: urllib3<1.27,>=1.21.1 in /usr/local/lib/python3.10/dist-packages (from requests[socks]->gdown) (1.26.16)\n",
            "Requirement already satisfied: certifi>=2017.4.17 in /usr/local/lib/python3.10/dist-packages (from requests[socks]->gdown) (2023.7.22)\n",
            "Requirement already satisfied: charset-normalizer~=2.0.0 in /usr/local/lib/python3.10/dist-packages (from requests[socks]->gdown) (2.0.12)\n",
            "Requirement already satisfied: idna<4,>=2.5 in /usr/local/lib/python3.10/dist-packages (from requests[socks]->gdown) (3.4)\n",
            "Requirement already satisfied: PySocks!=1.5.7,>=1.5.6 in /usr/local/lib/python3.10/dist-packages (from requests[socks]->gdown) (1.7.1)\n",
            "Requirement already satisfied: mat73 in /usr/local/lib/python3.10/dist-packages (0.60)\n",
            "Requirement already satisfied: h5py in /usr/local/lib/python3.10/dist-packages (from mat73) (3.8.0)\n",
            "Requirement already satisfied: numpy in /usr/local/lib/python3.10/dist-packages (from mat73) (1.22.4)\n"
          ]
        }
      ]
    },
    {
      "cell_type": "code",
      "source": [
        "!git clone https://github.com/vidaurre/glhmm\n",
        "%cd glhmm"
      ],
      "metadata": {
        "colab": {
          "base_uri": "https://localhost:8080/"
        },
        "id": "Am_tHAK6NYsZ",
        "outputId": "06dd2544-9577-4904-f288-0d126e861fd6"
      },
      "execution_count": 44,
      "outputs": [
        {
          "output_type": "stream",
          "name": "stdout",
          "text": [
            "fatal: destination path 'glhmm' already exists and is not an empty directory.\n",
            "/content/glhmm\n"
          ]
        }
      ]
    },
    {
      "cell_type": "markdown",
      "source": [
        "### Import Libraies"
      ],
      "metadata": {
        "id": "qbXURmm4NvEd"
      }
    },
    {
      "cell_type": "code",
      "source": [
        "import os\n",
        "import numpy as np\n",
        "from glhmm import glhmm\n",
        "import requests\n",
        "import gdown"
      ],
      "metadata": {
        "id": "Pu-8a0_INuQE"
      },
      "execution_count": 45,
      "outputs": []
    },
    {
      "cell_type": "code",
      "source": [
        "%cd ..\n",
        "# Import helper function\n",
        "# Get the raw github file\n",
        "url = 'https://raw.githubusercontent.com/Nick7900/permutation_test/main/helper_functions/my_functions.py'\n",
        "r = requests.get(url)\n",
        "# Save the function to the directory\n",
        "with open(\"my_functions.py\",\"w\") as f:\n",
        "  f.write(r.text)"
      ],
      "metadata": {
        "colab": {
          "base_uri": "https://localhost:8080/"
        },
        "id": "QpNcEfo5NqPF",
        "outputId": "3f77fbf2-8d47-452e-861f-49d507c92a33"
      },
      "execution_count": 46,
      "outputs": [
        {
          "output_type": "stream",
          "name": "stdout",
          "text": [
            "/content\n"
          ]
        }
      ]
    },
    {
      "cell_type": "markdown",
      "metadata": {
        "id": "a8DfU8ITM-88"
      },
      "source": [
        "### Load data\n",
        "For this example we are analyzing memory task data measured inside a Magnetoencephalography (MEG) scanner at different sessions and over multiple trials for 1 subject.\n"
      ]
    },
    {
      "cell_type": "markdown",
      "source": [
        "We will load the data from google drive:\n",
        "\n",
        "Remove the text **file/d/** from the link and replace it with **uc?id=**\n",
        "\n",
        "Now remove the section after the file ID, including **/view** and replace it with **&export=download** in place of the text you have removed"
      ],
      "metadata": {
        "id": "n1lVdEEfOdFT"
      }
    },
    {
      "cell_type": "code",
      "execution_count": 47,
      "metadata": {
        "colab": {
          "base_uri": "https://localhost:8080/",
          "height": 258
        },
        "id": "5Meskk7SM-89",
        "outputId": "88a4808c-9f6a-44ba-9ccf-766f3855b7aa"
      },
      "outputs": [
        {
          "output_type": "stream",
          "name": "stderr",
          "text": [
            "Downloading...\n",
            "From: https://drive.google.com/uc?id=1XhjINejfg7yPsxJ_sLjOZQ-1VNOT9ySB&export=download\n",
            "To: /content/X_memory.npy\n",
            "100%|██████████| 844M/844M [00:10<00:00, 83.9MB/s]\n",
            "Downloading...\n",
            "From: https://drive.google.com/uc?id=17QcxDcvZasvsQ-iBTL2uqsDbBgBOTLkj&export=download\n",
            "To: /content/y_memory.npy\n",
            "100%|██████████| 52.9k/52.9k [00:00<00:00, 74.0MB/s]\n",
            "Downloading...\n",
            "From: https://drive.google.com/uc?id=12aOoMd6DheYb9PfPfOFi3oytemH7enqI&export=download\n",
            "To: /content/idx_session.npy\n",
            "100%|██████████| 248/248 [00:00<00:00, 660kB/s]\n"
          ]
        },
        {
          "output_type": "execute_result",
          "data": {
            "text/plain": [
              "'idx_session.npy'"
            ],
            "application/vnd.google.colaboratory.intrinsic+json": {
              "type": "string"
            }
          },
          "metadata": {},
          "execution_count": 47
        }
      ],
      "source": [
        "# Downlod files from google colab\n",
        "# Load X_data (X_memory)\n",
        "url = \"https://drive.google.com/uc?id=1XhjINejfg7yPsxJ_sLjOZQ-1VNOT9ySB&export=download\"\n",
        "gdown.download(url, quiet=False)\n",
        "\n",
        "# Load dependent variables (y_memory)\n",
        "url = \"https://drive.google.com/uc?id=17QcxDcvZasvsQ-iBTL2uqsDbBgBOTLkj&export=download\"\n",
        "gdown.download(url, quiet=False)\n",
        "\n",
        "# Load indices\n",
        "url = \"https://drive.google.com/uc?id=12aOoMd6DheYb9PfPfOFi3oytemH7enqI&export=download\"\n",
        "gdown.download(url, quiet=False)"
      ]
    },
    {
      "cell_type": "code",
      "source": [
        "# Show the shape of the data\n",
        "\n",
        "current_directory = os.getcwd()\n",
        "folder_name = \"\"\n",
        "file_name = '/X_memory.npy'\n",
        "\n",
        "# Load X data\n",
        "file_path = os.path.join(current_directory+folder_name+file_name)\n",
        "X_data = np.load(file_path)\n",
        "\n",
        "# Load y data\n",
        "file_name = '/y_memory.npy'\n",
        "file_path = os.path.join(current_directory+folder_name+file_name)\n",
        "y_data = np.load(file_path)\n",
        "\n",
        "\n",
        "# Load indices\n",
        "file_name = '/idx_session.npy'\n",
        "file_path = os.path.join(current_directory+folder_name+file_name)\n",
        "idx_data = np.load(file_path)\n",
        "\n",
        "\n",
        "print(f\"Data dimension of X Memory data: {X_data.shape}\")\n",
        "print(f\"Data dimension of y Memory data: {y_data.shape}\")\n",
        "print(f\"Data dimension of indices Memory: {idx_data.shape}\")"
      ],
      "metadata": {
        "colab": {
          "base_uri": "https://localhost:8080/"
        },
        "id": "K2TqIhxhQrsb",
        "outputId": "90a86934-1f35-4e28-c5f4-ea26f4105d81"
      },
      "execution_count": 48,
      "outputs": [
        {
          "output_type": "stream",
          "name": "stdout",
          "text": [
            "Data dimension of X Memory data: (250, 6595, 64)\n",
            "Data dimension of y Memory data: (6595,)\n",
            "Data dimension of indices Memory: (15, 2)\n"
          ]
        }
      ]
    },
    {
      "cell_type": "markdown",
      "metadata": {
        "id": "yRN5eT_7M-8-"
      },
      "source": [
        "Now we can look at the data structure.\n",
        "- X_data: 3D array of shape (n_timepoints, n_trials, n_features)\n",
        "- y_data : 1D array of shape (n_trials,)\n",
        "- idx_data: 2D array of shape (n_sessions, 2)\n",
        "\n",
        "```X_data``` represents the measurements taken from the subject. It is a list with three elements: ```[250, 6595, 64]```. The first element indicates that the subject was measured over a period of ```250``` timestamps. The second element, ```6595```, represents the number of trials conducted. Each trial consists of measuring ```64``` channels inside the MEG scanner.\n",
        "\n",
        "```y_data``` is an array containing only 0s and 1s. The values in this array indicate whether an image of an animated or inanimate object was shown on a screen during each trial.\n",
        "\n",
        "For our ```X_data``` we have our corresponding ```idx_data = [15, 2]```. This indicates the number of sessions conducted, which in this case is ```15```. The values in each row represent the start and end indices of the trials.\n",
        "\n"
      ]
    },
    {
      "cell_type": "markdown",
      "metadata": {
        "id": "9CvimfGxM-8-"
      },
      "source": [
        "### Preapare data for the HMM\n",
        "\n",
        "Before we can input the data to the ```GLHMM``` package, we need to concatenate every trial from each session into a new data matrix ```data```.\n",
        "The resulting data matrix has shape ```[1648750, 64]``` (```n_timepoints``` * ```n_trials```, ```n_channels```), where ```n_timepoints``` is the total number of time points of every trial, and ```n_trials``` is the total number of trials across all selected sessions.\n",
        "\n",
        "\n",
        "\n",
        "our dataset ```X_data``` along the first dimension, before we can train the HMM. Just Like we mentioned just before.\n",
        "\n",
        "To train the GLHMM, we need to give 2D data matrix ```X_data``` of continuous measurement as **input** and a 2D array that indexes each session within a measurement```idx_data```. So, we need to concatenate the selected trials for every timepoint from each session into a new data matrix data.\\\n",
        "The resulting data matrix has shape ```(n_timepoints * n_trials, 64)```, where ```n_timepoints``` is the total number of time points in the selected segments, and ```n_trials``` is the total number of trials across all selected sessions.\n",
        "\n",
        "\n"
      ]
    },
    {
      "cell_type": "code",
      "execution_count": 49,
      "metadata": {
        "colab": {
          "base_uri": "https://localhost:8080/"
        },
        "id": "_VNoGaYdM-8_",
        "outputId": "cca5d433-b82b-447e-b40d-91fadda9f788"
      },
      "outputs": [
        {
          "output_type": "stream",
          "name": "stdout",
          "text": [
            "Data dimension of X Memory data: (1648750, 64)\n",
            "Data dimension of indices data: (15, 2)\n",
            "Data dimension of y Memory data: (1648750,)\n"
          ]
        }
      ],
      "source": [
        "#  Concatenates selected trials from each session into a new data matrix.\n",
        "X_memory_con = []\n",
        "y_memory_con =[]\n",
        "idx_data_con =np.zeros_like(idx_data)\n",
        "#n_timepoints= 2\n",
        "for i in np.arange(len(idx_data)):\n",
        "#for i in np.arange((n_timepoints)):\n",
        "    for j in np.arange(idx_data[i,0],idx_data[i,1]+1):\n",
        "        X_memory_con.extend(X_data[:,j,:])\n",
        "        y_memory_con.extend([y_data[j] for _ in range(X_data.shape[0])])\n",
        "    idx_data_con[i,1]=len(X_memory_con)\n",
        "    if i==len(idx_data)-1:\n",
        "        pass\n",
        "    else:\n",
        "        idx_data_con[i+1,0]=idx_data_con[i,1]\n",
        "\n",
        "\n",
        "X_memory_con = np.array(X_memory_con)\n",
        "y_memory_con = np.array(y_memory_con)\n",
        "# Show the measurement of the continuous measurements\n",
        "print(f\"Data dimension of X Memory data: {X_memory_con.shape}\")\n",
        "# Show the indices of the continuous measurements\n",
        "print(f\"Data dimension of indices data: {idx_data_con.shape}\")\n",
        "# Show the indices of the continuous reponds\n",
        "print(f\"Data dimension of y Memory data: {y_memory_con.shape}\")"
      ]
    },
    {
      "cell_type": "markdown",
      "metadata": {
        "id": "Zb-wX2HXM-9A"
      },
      "source": [
        "The updated timeseries has the shape ```(1648750, 64)``` and the indices have the shape (15, 2).\n",
        "Data should be in numpy format."
      ]
    },
    {
      "cell_type": "markdown",
      "metadata": {
        "id": "M9pjZSpgM-9A"
      },
      "source": [
        "### Initialise and train HMM\n",
        "We first initialise the hmm object and specify hyperparameters. In this case, since we do not model an interaction between two sets of variables in the HMM states, we set ```model_beta='no'```.\n",
        "\n",
        "We here estimate 3 states. If you want to model a different number of states, change K to a different value.\n",
        "\n",
        "We here model states as Gaussian distributions with mean and full covariance matrix, so that each state is described by a mean amplitude and functional connectivity pattern, specify ```covtype='full'```. If you do not want to model the mean, add ```model_mean='no'```.\n",
        "Optionally, you can check the hyperparameters to make sure that they correspond to how you want the model to be set up."
      ]
    },
    {
      "cell_type": "code",
      "execution_count": 50,
      "metadata": {
        "colab": {
          "base_uri": "https://localhost:8080/"
        },
        "id": "cRGU89Y6M-9A",
        "outputId": "06bdd372-977f-4024-e6d9-a0cafc261b45"
      },
      "outputs": [
        {
          "output_type": "stream",
          "name": "stdout",
          "text": [
            "{'K': 3, 'covtype': 'full', 'model_mean': 'state', 'model_beta': 'no', 'dirichlet_diag': 10, 'connectivity': None, 'Pstructure': array([[ True,  True,  True],\n",
            "       [ True,  True,  True],\n",
            "       [ True,  True,  True]]), 'Pistructure': array([ True,  True,  True])}\n"
          ]
        }
      ],
      "source": [
        "K = 3\n",
        "hmm = glhmm.glhmm(model_beta='no', K=K, covtype='full')\n",
        "print(hmm.hyperparameters)"
      ]
    },
    {
      "cell_type": "markdown",
      "metadata": {
        "id": "7873SMoVM-9A"
      },
      "source": [
        "We then train the HMM using the prepared ```data``` and ```idx_data_new``` . Since we here do not model an interaction between two sets of timeseries but run a \"classic\" HMM instead, we set ```X=None```. Y should be the timeseries in which we want to estimate states (in here called ```data```) and **indices** should be the beginning and end **indices** of each subject (here called ```idx_data_new```).\n"
      ]
    },
    {
      "cell_type": "code",
      "execution_count": 51,
      "metadata": {
        "colab": {
          "base_uri": "https://localhost:8080/"
        },
        "id": "OEbgFMT-M-9A",
        "outputId": "b791928a-71db-41f3-a4f1-97c41aa12b1f"
      },
      "outputs": [
        {
          "output_type": "stream",
          "name": "stderr",
          "text": [
            "/content/glhmm/glhmm/glhmm.py:1175: RuntimeWarning: overflow encountered in exp\n",
            "  L = np.exp(self.loglikelihood(X_sliced,Y_sliced))\n",
            "/content/glhmm/glhmm/glhmm.py:1926: UserWarning: Gamma has almost zero variance: stuck in a weird solution\n",
            "  warnings.warn('Gamma has almost zero variance: stuck in a weird solution')\n",
            "/content/glhmm/glhmm/glhmm.py:1494: RuntimeWarning: divide by zero encountered in log\n",
            "  fe_some_terms = -np.log(scale) # (only valid just after)\n"
          ]
        },
        {
          "output_type": "stream",
          "name": "stdout",
          "text": [
            "Cycle 1 free energy = nan\n",
            "Cycle 2 free energy = nan\n",
            "Cycle 3, free energy = nan, relative change = nan\n",
            "Cycle 4, free energy = nan, relative change = nan\n",
            "Cycle 5, free energy = nan, relative change = nan\n",
            "Cycle 6, free energy = nan, relative change = nan\n",
            "Cycle 7, free energy = nan, relative change = nan\n",
            "Cycle 8, free energy = nan, relative change = nan\n",
            "Cycle 9, free energy = nan, relative change = nan\n",
            "Cycle 10, free energy = nan, relative change = nan\n",
            "Finished training in 377.33s : active states = 3\n",
            "Init repetition 1 free energy = nan\n",
            "Cycle 1 free energy = nan\n",
            "Cycle 2 free energy = nan\n",
            "Cycle 3, free energy = nan, relative change = nan\n",
            "Cycle 4, free energy = nan, relative change = nan\n",
            "Cycle 5, free energy = nan, relative change = nan\n",
            "Cycle 6, free energy = nan, relative change = nan\n",
            "Cycle 7, free energy = nan, relative change = nan\n",
            "Cycle 8, free energy = nan, relative change = nan\n",
            "Cycle 9, free energy = nan, relative change = nan\n",
            "Cycle 10, free energy = nan, relative change = nan\n",
            "Finished training in 372.41s : active states = 3\n",
            "Init repetition 2 free energy = nan\n",
            "Cycle 1 free energy = nan\n",
            "Cycle 2 free energy = nan\n",
            "Cycle 3, free energy = nan, relative change = nan\n",
            "Cycle 4, free energy = nan, relative change = nan\n",
            "Cycle 5, free energy = nan, relative change = nan\n",
            "Cycle 6, free energy = nan, relative change = nan\n",
            "Cycle 7, free energy = nan, relative change = nan\n",
            "Cycle 8, free energy = nan, relative change = nan\n",
            "Cycle 9, free energy = nan, relative change = nan\n",
            "Cycle 10, free energy = nan, relative change = nan\n",
            "Finished training in 367.58s : active states = 3\n",
            "Init repetition 3 free energy = nan\n",
            "Cycle 1 free energy = nan\n",
            "Cycle 2 free energy = nan\n",
            "Cycle 3, free energy = nan, relative change = nan\n",
            "Cycle 4, free energy = nan, relative change = nan\n",
            "Cycle 5, free energy = nan, relative change = nan\n",
            "Cycle 6, free energy = nan, relative change = nan\n",
            "Cycle 7, free energy = nan, relative change = nan\n",
            "Cycle 8, free energy = nan, relative change = nan\n",
            "Cycle 9, free energy = nan, relative change = nan\n",
            "Cycle 10, free energy = nan, relative change = nan\n",
            "Finished training in 365.72s : active states = 3\n",
            "Init repetition 4 free energy = nan\n",
            "Cycle 1 free energy = nan\n",
            "Cycle 2 free energy = nan\n",
            "Cycle 3, free energy = nan, relative change = nan\n",
            "Cycle 4, free energy = nan, relative change = nan\n",
            "Cycle 5, free energy = nan, relative change = nan\n",
            "Cycle 6, free energy = nan, relative change = nan\n",
            "Cycle 7, free energy = nan, relative change = nan\n",
            "Cycle 8, free energy = nan, relative change = nan\n",
            "Cycle 9, free energy = nan, relative change = nan\n",
            "Cycle 10, free energy = nan, relative change = nan\n",
            "Finished training in 361.66s : active states = 3\n",
            "Init repetition 5 free energy = nan\n",
            "Best repetition: 1\n",
            "Cycle 1 free energy = nan\n",
            "Cycle 2 free energy = -1117519798.948611\n",
            "Cycle 3, free energy = -1117519795.9206226, relative change = nan\n",
            "Cycle 4, free energy = nan, relative change = nan\n",
            "Cycle 5, free energy = -1117519795.924546, relative change = nan\n",
            "Cycle 6, free energy = nan, relative change = nan\n",
            "Cycle 7, free energy = nan, relative change = nan\n",
            "Cycle 8, free energy = nan, relative change = nan\n",
            "Cycle 9, free energy = -1117519795.9305162, relative change = nan\n",
            "Cycle 10, free energy = nan, relative change = nan\n",
            "Cycle 11, free energy = nan, relative change = nan\n",
            "Cycle 12, free energy = -1117519795.934075, relative change = nan\n",
            "Cycle 13, free energy = nan, relative change = nan\n",
            "Cycle 14, free energy = -1117519795.93621, relative change = nan\n",
            "Cycle 15, free energy = nan, relative change = nan\n",
            "Cycle 16, free energy = -1117519795.9382262, relative change = nan\n",
            "Cycle 17, free energy = nan, relative change = nan\n",
            "Cycle 18, free energy = nan, relative change = nan\n",
            "Cycle 19, free energy = nan, relative change = nan\n",
            "Cycle 20, free energy = -1117519795.942042, relative change = nan\n",
            "Cycle 21, free energy = -1117519795.9429684, relative change = nan\n",
            "Cycle 22, free energy = nan, relative change = nan\n",
            "Cycle 23, free energy = -1117519795.9447987, relative change = nan\n",
            "Cycle 24, free energy = -1117519795.9457061, relative change = nan\n",
            "Cycle 25, free energy = nan, relative change = nan\n",
            "Cycle 26, free energy = nan, relative change = nan\n",
            "Cycle 27, free energy = nan, relative change = nan\n",
            "Cycle 28, free energy = nan, relative change = nan\n",
            "Cycle 29, free energy = -1117519795.9501927, relative change = nan\n",
            "Cycle 30, free energy = -1117519795.9510837, relative change = nan\n",
            "Cycle 31, free energy = -1117519795.951973, relative change = nan\n",
            "Cycle 32, free energy = nan, relative change = nan\n",
            "Cycle 33, free energy = nan, relative change = nan\n",
            "Cycle 34, free energy = -1117519795.954636, relative change = nan\n",
            "Cycle 35, free energy = nan, relative change = nan\n",
            "Cycle 36, free energy = nan, relative change = nan\n",
            "Cycle 37, free energy = nan, relative change = nan\n",
            "Cycle 38, free energy = nan, relative change = nan\n",
            "Cycle 39, free energy = nan, relative change = nan\n",
            "Cycle 40, free energy = -1117519795.9599469, relative change = nan\n",
            "Cycle 41, free energy = nan, relative change = nan\n",
            "Cycle 42, free energy = -1117519795.9617147, relative change = nan\n",
            "Cycle 43, free energy = nan, relative change = nan\n",
            "Cycle 44, free energy = nan, relative change = nan\n",
            "Cycle 45, free energy = -1117519795.9643657, relative change = nan\n",
            "Cycle 46, free energy = -1117519795.965249, relative change = nan\n",
            "Cycle 47, free energy = -1117519795.966132, relative change = nan\n",
            "Cycle 48, free energy = nan, relative change = nan\n",
            "Cycle 49, free energy = -1117519795.9678984, relative change = nan\n",
            "Cycle 50, free energy = nan, relative change = nan\n",
            "Cycle 51, free energy = nan, relative change = nan\n",
            "Cycle 52, free energy = nan, relative change = nan\n",
            "Cycle 53, free energy = nan, relative change = nan\n",
            "Cycle 54, free energy = nan, relative change = nan\n",
            "Cycle 55, free energy = nan, relative change = nan\n",
            "Cycle 56, free energy = nan, relative change = nan\n",
            "Cycle 57, free energy = nan, relative change = nan\n",
            "Cycle 58, free energy = nan, relative change = nan\n",
            "Cycle 59, free energy = nan, relative change = nan\n",
            "Cycle 60, free energy = -1117519795.9776077, relative change = nan\n",
            "Cycle 61, free energy = -1117519795.9784899, relative change = nan\n",
            "Cycle 62, free energy = nan, relative change = nan\n",
            "Cycle 63, free energy = nan, relative change = nan\n",
            "Cycle 64, free energy = -1117519795.9811373, relative change = nan\n",
            "Cycle 65, free energy = nan, relative change = nan\n",
            "Cycle 66, free energy = -1117519795.9829013, relative change = nan\n",
            "Cycle 67, free energy = -1117519795.9837832, relative change = nan\n",
            "Cycle 68, free energy = nan, relative change = nan\n",
            "Cycle 69, free energy = nan, relative change = nan\n",
            "Cycle 70, free energy = nan, relative change = nan\n",
            "Cycle 71, free energy = nan, relative change = nan\n",
            "Cycle 72, free energy = nan, relative change = nan\n",
            "Cycle 73, free energy = nan, relative change = nan\n",
            "Cycle 74, free energy = -1117519795.9899564, relative change = nan\n",
            "Cycle 75, free energy = nan, relative change = nan\n",
            "Cycle 76, free energy = -1117519795.9917197, relative change = nan\n",
            "Cycle 77, free energy = nan, relative change = nan\n",
            "Cycle 78, free energy = nan, relative change = nan\n",
            "Cycle 79, free energy = -1117519795.9943638, relative change = nan\n",
            "Cycle 80, free energy = nan, relative change = nan\n",
            "Cycle 81, free energy = nan, relative change = nan\n",
            "Cycle 82, free energy = nan, relative change = nan\n",
            "Cycle 83, free energy = nan, relative change = nan\n",
            "Cycle 84, free energy = nan, relative change = nan\n",
            "Cycle 85, free energy = nan, relative change = nan\n",
            "Cycle 86, free energy = nan, relative change = nan\n",
            "Cycle 87, free energy = nan, relative change = nan\n",
            "Cycle 88, free energy = nan, relative change = nan\n",
            "Cycle 89, free energy = -1117519796.003176, relative change = nan\n",
            "Cycle 90, free energy = nan, relative change = nan\n",
            "Cycle 91, free energy = nan, relative change = nan\n",
            "Cycle 92, free energy = nan, relative change = nan\n",
            "Cycle 93, free energy = nan, relative change = nan\n",
            "Cycle 94, free energy = -1117519796.00758, relative change = nan\n",
            "Cycle 95, free energy = -1117519796.0084608, relative change = nan\n",
            "Cycle 96, free energy = nan, relative change = nan\n",
            "Cycle 97, free energy = nan, relative change = nan\n",
            "Cycle 98, free energy = nan, relative change = nan\n",
            "Cycle 99, free energy = nan, relative change = nan\n",
            "Cycle 100, free energy = nan, relative change = nan\n",
            "Finished training in 5217.67s : active states = 3\n"
          ]
        },
        {
          "output_type": "execute_result",
          "data": {
            "text/plain": [
              "(array([[0.33333058, 0.33333332, 0.3333361 ],\n",
              "        [0.33477705, 0.33362797, 0.33159499],\n",
              "        [0.33477941, 0.33362846, 0.33159213],\n",
              "        ...,\n",
              "        [0.33477942, 0.33362846, 0.33159212],\n",
              "        [0.33477942, 0.33362846, 0.33159212],\n",
              "        [0.33477942, 0.33362846, 0.33159212]]),\n",
              " array([[[0.11195428, 0.11102757, 0.11034873],\n",
              "         [0.11141152, 0.11157273, 0.11034908],\n",
              "         [0.11141125, 0.11102767, 0.11089718]],\n",
              " \n",
              "        [[0.1124401 , 0.11150937, 0.11082758],\n",
              "         [0.11151   , 0.11167135, 0.11044662],\n",
              "         [0.11082932, 0.11044774, 0.11031793]],\n",
              " \n",
              "        [[0.11244089, 0.11151016, 0.11082836],\n",
              "         [0.11151016, 0.11167151, 0.11044679],\n",
              "         [0.11082836, 0.11044679, 0.11031698]],\n",
              " \n",
              "        ...,\n",
              " \n",
              "        [[0.1124409 , 0.11151016, 0.11082836],\n",
              "         [0.11151016, 0.11167151, 0.11044679],\n",
              "         [0.11082836, 0.11044679, 0.11031698]],\n",
              " \n",
              "        [[0.1124409 , 0.11151016, 0.11082836],\n",
              "         [0.11151016, 0.11167151, 0.11044679],\n",
              "         [0.11082836, 0.11044679, 0.11031698]],\n",
              " \n",
              "        [[0.1124409 , 0.11151016, 0.11082836],\n",
              "         [0.11151016, 0.11167151, 0.11044679],\n",
              "         [0.11082836, 0.11044679, 0.11031698]]]),\n",
              " array([           nan, -1.1175198e+09, -1.1175198e+09,            nan,\n",
              "        -1.1175198e+09,            nan,            nan,            nan,\n",
              "        -1.1175198e+09,            nan,            nan, -1.1175198e+09,\n",
              "                   nan, -1.1175198e+09,            nan, -1.1175198e+09,\n",
              "                   nan,            nan,            nan, -1.1175198e+09,\n",
              "        -1.1175198e+09,            nan, -1.1175198e+09, -1.1175198e+09,\n",
              "                   nan,            nan,            nan,            nan,\n",
              "        -1.1175198e+09, -1.1175198e+09, -1.1175198e+09,            nan,\n",
              "                   nan, -1.1175198e+09,            nan,            nan,\n",
              "                   nan,            nan,            nan, -1.1175198e+09,\n",
              "                   nan, -1.1175198e+09,            nan,            nan,\n",
              "        -1.1175198e+09, -1.1175198e+09, -1.1175198e+09,            nan,\n",
              "        -1.1175198e+09,            nan,            nan,            nan,\n",
              "                   nan,            nan,            nan,            nan,\n",
              "                   nan,            nan,            nan, -1.1175198e+09,\n",
              "        -1.1175198e+09,            nan,            nan, -1.1175198e+09,\n",
              "                   nan, -1.1175198e+09, -1.1175198e+09,            nan,\n",
              "                   nan,            nan,            nan,            nan,\n",
              "                   nan, -1.1175198e+09,            nan, -1.1175198e+09,\n",
              "                   nan,            nan, -1.1175198e+09,            nan,\n",
              "                   nan,            nan,            nan,            nan,\n",
              "                   nan,            nan,            nan,            nan,\n",
              "        -1.1175198e+09,            nan,            nan,            nan,\n",
              "                   nan, -1.1175198e+09, -1.1175198e+09,            nan,\n",
              "                   nan,            nan,            nan,            nan]))"
            ]
          },
          "metadata": {},
          "execution_count": 51
        }
      ],
      "source": [
        "hmm.train(X=None, Y=X_memory_con, indices=idx_data_con)\n",
        "#Gamma,Xi,FE =hmm.train(X=None, Y=X_memory_con, indices=idx_data_con)"
      ]
    },
    {
      "cell_type": "markdown",
      "metadata": {
        "id": "gcUsLL-TM-9B"
      },
      "source": [
        "When we perform within session continuous testing in the tutorial (**c_within_session_continuous_testing.ipynb**), we will use the '''GLHMM''' package and the Viterbi path as input data.\n",
        "The within-session continuous testing allows us to continuously recognize the most likely state sequence of an HMM in real-time as new observations arrive. The Viterbi algorithm efficiently calculates the most probable state sequence given an observation sequence and HMM.\n"
      ]
    },
    {
      "cell_type": "code",
      "source": [
        "vpath = hmm.decode(X=None, Y=X_memory_con, indices=idx_data_con, viterbi=True)\n",
        "vpath"
      ],
      "metadata": {
        "id": "J-CndystmiJU",
        "colab": {
          "base_uri": "https://localhost:8080/"
        },
        "outputId": "7b662ab1-b034-48c5-a4f1-9a184fabf269"
      },
      "execution_count": 63,
      "outputs": [
        {
          "output_type": "stream",
          "name": "stderr",
          "text": [
            "/content/glhmm/glhmm/glhmm.py:1175: RuntimeWarning: overflow encountered in exp\n",
            "  L = np.exp(self.loglikelihood(X_sliced,Y_sliced))\n"
          ]
        },
        {
          "output_type": "execute_result",
          "data": {
            "text/plain": [
              "array([[1., 0., 0.],\n",
              "       [1., 0., 0.],\n",
              "       [1., 0., 0.],\n",
              "       ...,\n",
              "       [1., 0., 0.],\n",
              "       [1., 0., 0.],\n",
              "       [1., 0., 0.]])"
            ]
          },
          "metadata": {},
          "execution_count": 63
        }
      ]
    },
    {
      "cell_type": "code",
      "source": [
        "vpath.shape"
      ],
      "metadata": {
        "colab": {
          "base_uri": "https://localhost:8080/"
        },
        "id": "YdhxGGHFrLPq",
        "outputId": "2abdada0-a6c1-4d21-dcd3-f0cba1dfabda"
      },
      "execution_count": 64,
      "outputs": [
        {
          "output_type": "execute_result",
          "data": {
            "text/plain": [
              "(1648750, 3)"
            ]
          },
          "metadata": {},
          "execution_count": 64
        }
      ]
    },
    {
      "cell_type": "markdown",
      "metadata": {
        "id": "mbwoa9GkM-9B"
      },
      "source": [
        "## Save Viterbi path"
      ]
    },
    {
      "cell_type": "code",
      "execution_count": 62,
      "metadata": {
        "id": "KYeCq0S6M-9B"
      },
      "outputs": [],
      "source": [
        "# Get the current directory\n",
        "current_directory = os.getcwd()\n",
        "folder_name = \"/data_memory\"\n",
        "current_directory = os.getcwd()\n",
        "folder_path = os.path.join(current_directory+folder_name)\n",
        "isExist = os.path.exists(folder_path)\n",
        "if not isExist:\n",
        "   # Create a new directory because it does not exist\n",
        "   os.makedirs(folder_path)\n",
        "   print(\"The new directory is created!\")\n",
        "\n",
        "\n",
        "# Save viterbi path\n",
        "file_name = f'vpath_{K}_memory.npy'\n",
        "file_path = os.path.join(folder_path, file_name)\n",
        "np.save(file_path, vpath)"
      ]
    },
    {
      "cell_type": "code",
      "source": [
        "file_path"
      ],
      "metadata": {
        "colab": {
          "base_uri": "https://localhost:8080/",
          "height": 36
        },
        "id": "MwYPIx3JrQnZ",
        "outputId": "3b274f30-f0f0-494b-8c0b-c92bfdd85679"
      },
      "execution_count": 61,
      "outputs": [
        {
          "output_type": "execute_result",
          "data": {
            "text/plain": [
              "'/content/data_memory/vpath_3_memory.npy'"
            ],
            "application/vnd.google.colaboratory.intrinsic+json": {
              "type": "string"
            }
          },
          "metadata": {},
          "execution_count": 61
        }
      ]
    },
    {
      "cell_type": "markdown",
      "metadata": {
        "id": "8TKqszRcM-9B"
      },
      "source": [
        "## Save Continuous data"
      ]
    },
    {
      "cell_type": "code",
      "execution_count": 54,
      "metadata": {
        "id": "8AxTFNVnM-9B"
      },
      "outputs": [],
      "source": [
        "# Continuous X_data\n",
        "file_name = 'X_memory_con.npy'\n",
        "# save file to path\n",
        "file_path = os.path.join(current_directory+folder_name+file_name)\n",
        "np.save(file_path, X_memory_con)\n",
        "\n",
        "# Continuous y_data\n",
        "file_name = 'y_memory_con.npy'\n",
        "# save file to path\n",
        "file_path = os.path.join(current_directory+folder_name+file_name)\n",
        "np.save(file_path, y_memory_con)\n",
        "\n",
        "# Continuous idx_data_con\n",
        "file_name = 'idx_data_con.npy'\n",
        "# save file to path\n",
        "file_path = os.path.join(current_directory+folder_name+file_name)\n",
        "np.save(file_path, idx_data_con)"
      ]
    },
    {
      "cell_type": "markdown",
      "metadata": {
        "id": "W4Flzsi3M-9B"
      },
      "source": [
        "## Save HMM model path"
      ]
    },
    {
      "cell_type": "code",
      "execution_count": 55,
      "metadata": {
        "id": "NYVnIOunM-9B"
      },
      "outputs": [],
      "source": [
        "import pickle\n",
        "# Save model\n",
        "# Specify the file path where you want to save the data\n",
        "pickle_file = 'hmm.pickle'\n",
        "file_path = os.path.join(folder_path+pickle_file)\n",
        "\n",
        "# Open the file in binary write mode\n",
        "with open(file_path, 'wb') as file:\n",
        "    # Use pickle.dump to save the data to the file\n",
        "    pickle.dump(hmm, file)\n",
        "\n",
        "#print(\"Data saved to\", file_path)"
      ]
    },
    {
      "cell_type": "markdown",
      "source": [
        "## Load HMM model"
      ],
      "metadata": {
        "id": "SieeKlvFTCL9"
      }
    },
    {
      "cell_type": "code",
      "source": [
        "# Load pickle file\n",
        "# Open the file in binary read mode\n",
        "with open(file_path, 'rb') as file:\n",
        "    # Use pickle.load to load the data from the file\n",
        "    loaded_data = pickle.load(file)\n",
        "\n",
        "#print(\"Loaded data:\", loaded_data)"
      ],
      "metadata": {
        "id": "FJPCk3orTEG0"
      },
      "execution_count": 56,
      "outputs": []
    }
  ],
  "metadata": {
    "kernelspec": {
      "display_name": "Python 3",
      "name": "python3"
    },
    "language_info": {
      "codemirror_mode": {
        "name": "ipython",
        "version": 3
      },
      "file_extension": ".py",
      "mimetype": "text/x-python",
      "name": "python",
      "nbconvert_exporter": "python",
      "pygments_lexer": "ipython3",
      "version": "3.9.16"
    },
    "orig_nbformat": 4,
    "colab": {
      "provenance": [],
      "gpuType": "T4",
      "include_colab_link": true
    }
  },
  "nbformat": 4,
  "nbformat_minor": 0
}