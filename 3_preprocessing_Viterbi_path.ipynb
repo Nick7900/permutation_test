{
  "cells": [
    {
      "cell_type": "markdown",
      "metadata": {
        "id": "view-in-github",
        "colab_type": "text"
      },
      "source": [
        "<a href=\"https://colab.research.google.com/github/Nick7900/permutation_test/blob/main/3_preprocessing_Viterbi_path.ipynb\" target=\"_parent\"><img src=\"https://colab.research.google.com/assets/colab-badge.svg\" alt=\"Open In Colab\"/></a>"
      ]
    },
    {
      "cell_type": "markdown",
      "metadata": {
        "id": "tXVtTbHnM-8j"
      },
      "source": [
        "## GLHMM: train basic HMM and get Viterbi Path"
      ]
    },
    {
      "cell_type": "markdown",
      "metadata": {
        "id": "GMggT5n3M-8y"
      },
      "source": [
        "This notebook goes through the basic steps to train a \"classic\" HMM on a single set of timeseries, such as neuroimaging or electrophysiological recordings from multiple subjects or sessions.\n",
        "\n",
        "\n",
        "When using **Google Colab** we need to import the following libraries, so we can load the data of interest\n",
        "\n",
        "```\n",
        "!pip install requests\n",
        "!pip install gdown\n",
        "```\n",
        "\n"
      ]
    },
    {
      "cell_type": "markdown",
      "metadata": {
        "id": "oaHmTnFnM-83"
      },
      "source": [
        "### Import modules\n",
        "We first import the relevant modules. If you have not done so, install the repo using:\n",
        "\n",
        "```pip install --user git+https://github.com/vidaurre/glhmm```"
      ]
    },
    {
      "cell_type": "code",
      "source": [
        "!pip install requests\n",
        "!pip install gdown\n",
        "!pip install mat73"
      ],
      "metadata": {
        "colab": {
          "base_uri": "https://localhost:8080/"
        },
        "id": "LdpNUSWgNWpJ",
        "outputId": "5f58ff03-8359-43e1-f2fa-411d100dd7db"
      },
      "execution_count": 1,
      "outputs": [
        {
          "output_type": "stream",
          "name": "stdout",
          "text": [
            "Requirement already satisfied: requests in /usr/local/lib/python3.10/dist-packages (2.27.1)\n",
            "Requirement already satisfied: urllib3<1.27,>=1.21.1 in /usr/local/lib/python3.10/dist-packages (from requests) (1.26.16)\n",
            "Requirement already satisfied: certifi>=2017.4.17 in /usr/local/lib/python3.10/dist-packages (from requests) (2023.7.22)\n",
            "Requirement already satisfied: charset-normalizer~=2.0.0 in /usr/local/lib/python3.10/dist-packages (from requests) (2.0.12)\n",
            "Requirement already satisfied: idna<4,>=2.5 in /usr/local/lib/python3.10/dist-packages (from requests) (3.4)\n",
            "Requirement already satisfied: gdown in /usr/local/lib/python3.10/dist-packages (4.6.6)\n",
            "Requirement already satisfied: filelock in /usr/local/lib/python3.10/dist-packages (from gdown) (3.12.2)\n",
            "Requirement already satisfied: requests[socks] in /usr/local/lib/python3.10/dist-packages (from gdown) (2.27.1)\n",
            "Requirement already satisfied: six in /usr/local/lib/python3.10/dist-packages (from gdown) (1.16.0)\n",
            "Requirement already satisfied: tqdm in /usr/local/lib/python3.10/dist-packages (from gdown) (4.65.0)\n",
            "Requirement already satisfied: beautifulsoup4 in /usr/local/lib/python3.10/dist-packages (from gdown) (4.11.2)\n",
            "Requirement already satisfied: soupsieve>1.2 in /usr/local/lib/python3.10/dist-packages (from beautifulsoup4->gdown) (2.4.1)\n",
            "Requirement already satisfied: urllib3<1.27,>=1.21.1 in /usr/local/lib/python3.10/dist-packages (from requests[socks]->gdown) (1.26.16)\n",
            "Requirement already satisfied: certifi>=2017.4.17 in /usr/local/lib/python3.10/dist-packages (from requests[socks]->gdown) (2023.7.22)\n",
            "Requirement already satisfied: charset-normalizer~=2.0.0 in /usr/local/lib/python3.10/dist-packages (from requests[socks]->gdown) (2.0.12)\n",
            "Requirement already satisfied: idna<4,>=2.5 in /usr/local/lib/python3.10/dist-packages (from requests[socks]->gdown) (3.4)\n",
            "Requirement already satisfied: PySocks!=1.5.7,>=1.5.6 in /usr/local/lib/python3.10/dist-packages (from requests[socks]->gdown) (1.7.1)\n",
            "Collecting mat73\n",
            "  Downloading mat73-0.60-py3-none-any.whl (19 kB)\n",
            "Requirement already satisfied: h5py in /usr/local/lib/python3.10/dist-packages (from mat73) (3.8.0)\n",
            "Requirement already satisfied: numpy in /usr/local/lib/python3.10/dist-packages (from mat73) (1.22.4)\n",
            "Installing collected packages: mat73\n",
            "Successfully installed mat73-0.60\n"
          ]
        }
      ]
    },
    {
      "cell_type": "code",
      "source": [
        "!git clone https://github.com/vidaurre/glhmm\n",
        "%cd glhmm"
      ],
      "metadata": {
        "colab": {
          "base_uri": "https://localhost:8080/"
        },
        "id": "Am_tHAK6NYsZ",
        "outputId": "35851c27-487b-4635-a708-8c97d5b71b84"
      },
      "execution_count": 2,
      "outputs": [
        {
          "output_type": "stream",
          "name": "stdout",
          "text": [
            "Cloning into 'glhmm'...\n",
            "remote: Enumerating objects: 863, done.\u001b[K\n",
            "remote: Counting objects: 100% (156/156), done.\u001b[K\n",
            "remote: Compressing objects: 100% (115/115), done.\u001b[K\n",
            "remote: Total 863 (delta 75), reused 65 (delta 40), pack-reused 707\u001b[K\n",
            "Receiving objects: 100% (863/863), 12.61 MiB | 22.41 MiB/s, done.\n",
            "Resolving deltas: 100% (506/506), done.\n",
            "/content/glhmm\n"
          ]
        }
      ]
    },
    {
      "cell_type": "markdown",
      "source": [
        "### Import Libraies"
      ],
      "metadata": {
        "id": "qbXURmm4NvEd"
      }
    },
    {
      "cell_type": "code",
      "source": [
        "import os\n",
        "import numpy as np\n",
        "from glhmm import glhmm\n",
        "import requests\n",
        "import gdown"
      ],
      "metadata": {
        "id": "Pu-8a0_INuQE"
      },
      "execution_count": 3,
      "outputs": []
    },
    {
      "cell_type": "code",
      "source": [
        "%cd ..\n",
        "# Import helper function\n",
        "# Get the raw github file\n",
        "url = 'https://raw.githubusercontent.com/Nick7900/permutation_test/main/helper_functions/my_functions.py'\n",
        "r = requests.get(url)\n",
        "# Save the function to the directory\n",
        "with open(\"my_functions.py\",\"w\") as f:\n",
        "  f.write(r.text)"
      ],
      "metadata": {
        "colab": {
          "base_uri": "https://localhost:8080/"
        },
        "id": "QpNcEfo5NqPF",
        "outputId": "196690f5-9764-430e-fac5-20707c9667bc"
      },
      "execution_count": 4,
      "outputs": [
        {
          "output_type": "stream",
          "name": "stdout",
          "text": [
            "/content\n"
          ]
        }
      ]
    },
    {
      "cell_type": "markdown",
      "metadata": {
        "id": "a8DfU8ITM-88"
      },
      "source": [
        "### Load data\n",
        "For this example we are analyzing memory task data measured inside a Magnetoencephalography (MEG) scanner at different sessions and over multiple trials for 1 subject.\n"
      ]
    },
    {
      "cell_type": "markdown",
      "source": [
        "We will load the data from google drive:\n",
        "\n",
        "Remove the text **file/d/** from the link and replace it with **uc?id=**\n",
        "\n",
        "Now remove the section after the file ID, including **/view** and replace it with **&export=download** in place of the text you have removed"
      ],
      "metadata": {
        "id": "n1lVdEEfOdFT"
      }
    },
    {
      "cell_type": "code",
      "execution_count": 5,
      "metadata": {
        "colab": {
          "base_uri": "https://localhost:8080/",
          "height": 258
        },
        "id": "5Meskk7SM-89",
        "outputId": "0706f48e-a808-4fca-84d0-99ca1f29d8ce"
      },
      "outputs": [
        {
          "output_type": "stream",
          "name": "stderr",
          "text": [
            "Downloading...\n",
            "From: https://drive.google.com/uc?id=1XhjINejfg7yPsxJ_sLjOZQ-1VNOT9ySB&export=download\n",
            "To: /content/X_memory.npy\n",
            "100%|██████████| 844M/844M [00:03<00:00, 262MB/s]\n",
            "Downloading...\n",
            "From: https://drive.google.com/uc?id=17QcxDcvZasvsQ-iBTL2uqsDbBgBOTLkj&export=download\n",
            "To: /content/y_memory.npy\n",
            "100%|██████████| 52.9k/52.9k [00:00<00:00, 60.8MB/s]\n",
            "Downloading...\n",
            "From: https://drive.google.com/uc?id=12aOoMd6DheYb9PfPfOFi3oytemH7enqI&export=download\n",
            "To: /content/idx_session.npy\n",
            "100%|██████████| 248/248 [00:00<00:00, 1.32MB/s]\n"
          ]
        },
        {
          "output_type": "execute_result",
          "data": {
            "text/plain": [
              "'idx_session.npy'"
            ],
            "application/vnd.google.colaboratory.intrinsic+json": {
              "type": "string"
            }
          },
          "metadata": {},
          "execution_count": 5
        }
      ],
      "source": [
        "# Downlod files from google colab\n",
        "# Load X_data (X_memory)\n",
        "url = \"https://drive.google.com/uc?id=1XhjINejfg7yPsxJ_sLjOZQ-1VNOT9ySB&export=download\"\n",
        "gdown.download(url, quiet=False)\n",
        "\n",
        "# Load dependent variables (y_memory)\n",
        "url = \"https://drive.google.com/uc?id=17QcxDcvZasvsQ-iBTL2uqsDbBgBOTLkj&export=download\"\n",
        "gdown.download(url, quiet=False)\n",
        "\n",
        "# Load indices\n",
        "url = \"https://drive.google.com/uc?id=12aOoMd6DheYb9PfPfOFi3oytemH7enqI&export=download\"\n",
        "gdown.download(url, quiet=False)"
      ]
    },
    {
      "cell_type": "code",
      "source": [
        "# Show the shape of the data\n",
        "\n",
        "current_directory = os.getcwd()\n",
        "folder_name = \"\"\n",
        "file_name = '/X_memory.npy'\n",
        "\n",
        "# Load X data\n",
        "file_path = os.path.join(current_directory+folder_name+file_name)\n",
        "X_data = np.load(file_path)\n",
        "\n",
        "# Load y data\n",
        "file_name = '/y_memory.npy'\n",
        "file_path = os.path.join(current_directory+folder_name+file_name)\n",
        "y_data = np.load(file_path)\n",
        "\n",
        "\n",
        "# Load indices\n",
        "file_name = '/idx_session.npy'\n",
        "file_path = os.path.join(current_directory+folder_name+file_name)\n",
        "idx_data = np.load(file_path)\n",
        "\n",
        "\n",
        "print(f\"Data dimension of X Memory data: {X_data.shape}\")\n",
        "print(f\"Data dimension of y Memory data: {y_data.shape}\")\n",
        "print(f\"Data dimension of indices Memory: {idx_data.shape}\")"
      ],
      "metadata": {
        "colab": {
          "base_uri": "https://localhost:8080/"
        },
        "id": "K2TqIhxhQrsb",
        "outputId": "834dcd29-4d0f-4754-eb38-a6cfc58cf78c"
      },
      "execution_count": 6,
      "outputs": [
        {
          "output_type": "stream",
          "name": "stdout",
          "text": [
            "Data dimension of X Memory data: (250, 6595, 64)\n",
            "Data dimension of y Memory data: (6595,)\n",
            "Data dimension of indices Memory: (15, 2)\n"
          ]
        }
      ]
    },
    {
      "cell_type": "markdown",
      "metadata": {
        "id": "yRN5eT_7M-8-"
      },
      "source": [
        "Now we can look at the data structure.\n",
        "- X_data: 3D array of shape (n_timepoints, n_trials, n_features)\n",
        "- y_data : 1D array of shape (n_trials,)\n",
        "- idx_data: 2D array of shape (n_sessions, 2)\n",
        "\n",
        "```X_data``` represents the measurements taken from the subject. It is a list with three elements: ```[250, 6595, 64]```. The first element indicates that the subject was measured over a period of ```250``` timestamps. The second element, ```6595```, represents the number of trials conducted. Each trial consists of measuring ```64``` channels inside the MEG scanner.\n",
        "\n",
        "```y_data``` is an array containing only 0s and 1s. The values in this array indicate whether an image of an animated or inanimate object was shown on a screen during each trial.\n",
        "\n",
        "For our ```X_data``` we have our corresponding ```idx_data = [15, 2]```. This indicates the number of sessions conducted, which in this case is ```15```. The values in each row represent the start and end indices of the trials.\n",
        "\n"
      ]
    },
    {
      "cell_type": "markdown",
      "metadata": {
        "id": "9CvimfGxM-8-"
      },
      "source": [
        "### Preapare data for the HMM\n",
        "\n",
        "Before we can input the data to the ```GLHMM``` package, we need to concatenate every trial from each session into a new data matrix ```data```.\n",
        "The resulting data matrix has shape ```[1648750, 64]``` (```n_timepoints``` * ```n_trials```, ```n_channels```), where ```n_timepoints``` is the total number of time points of every trial, and ```n_trials``` is the total number of trials across all selected sessions.\n",
        "\n",
        "\n",
        "\n",
        "our dataset ```X_data``` along the first dimension, before we can train the HMM. Just Like we mentioned just before.\n",
        "\n",
        "To train the GLHMM, we need to give 2D data matrix ```X_data``` of continuous measurement as **input** and a 2D array that indexes each session within a measurement```idx_data```. So, we need to concatenate the selected trials for every timepoint from each session into a new data matrix data.\\\n",
        "The resulting data matrix has shape ```(n_timepoints * n_trials, 64)```, where ```n_timepoints``` is the total number of time points in the selected segments, and ```n_trials``` is the total number of trials across all selected sessions.\n",
        "\n",
        "\n"
      ]
    },
    {
      "cell_type": "code",
      "execution_count": 7,
      "metadata": {
        "colab": {
          "base_uri": "https://localhost:8080/"
        },
        "id": "_VNoGaYdM-8_",
        "outputId": "cb5eec3e-ab52-486b-ed24-28ef544e119d"
      },
      "outputs": [
        {
          "output_type": "stream",
          "name": "stdout",
          "text": [
            "Data dimension of X Memory data: (1648750, 64)\n",
            "Data dimension of indices data: (15, 2)\n",
            "Data dimension of y Memory data: (1648750,)\n"
          ]
        }
      ],
      "source": [
        "#  Concatenates selected trials from each session into a new data matrix.\n",
        "X_memory_con = []\n",
        "y_memory_con =[]\n",
        "idx_data_con =np.zeros_like(idx_data)\n",
        "#n_timepoints= 2\n",
        "for i in np.arange(len(idx_data)):\n",
        "#for i in np.arange((n_timepoints)):\n",
        "    for j in np.arange(idx_data[i,0],idx_data[i,1]+1):\n",
        "        X_memory_con.extend(X_data[:,j,:])\n",
        "        y_memory_con.extend([y_data[j] for _ in range(X_data.shape[0])])\n",
        "    idx_data_con[i,1]=len(X_memory_con)\n",
        "    if i==len(idx_data)-1:\n",
        "        pass\n",
        "    else:\n",
        "        idx_data_con[i+1,0]=idx_data_con[i,1]\n",
        "\n",
        "\n",
        "X_memory_con = np.array(X_memory_con)\n",
        "y_memory_con = np.array(y_memory_con)\n",
        "# Show the measurement of the continuous measurements\n",
        "print(f\"Data dimension of X Memory data: {X_memory_con.shape}\")\n",
        "# Show the indices of the continuous measurements\n",
        "print(f\"Data dimension of indices data: {idx_data_con.shape}\")\n",
        "# Show the indices of the continuous reponds\n",
        "print(f\"Data dimension of y Memory data: {y_memory_con.shape}\")"
      ]
    },
    {
      "cell_type": "markdown",
      "metadata": {
        "id": "Zb-wX2HXM-9A"
      },
      "source": [
        "The updated timeseries has the shape ```(1648750, 64)``` and the indices have the shape (15, 2).\n",
        "Data should be in numpy format."
      ]
    },
    {
      "cell_type": "markdown",
      "metadata": {
        "id": "M9pjZSpgM-9A"
      },
      "source": [
        "### Initialise and train HMM\n",
        "We first initialise the hmm object and specify hyperparameters. In this case, since we do not model an interaction between two sets of variables in the HMM states, we set ```model_beta='no'```.\n",
        "\n",
        "We here estimate 3 states. If you want to model a different number of states, change K to a different value.\n",
        "\n",
        "We here model states as Gaussian distributions with mean and full covariance matrix, so that each state is described by a mean amplitude and functional connectivity pattern, specify ```covtype='full'```. If you do not want to model the mean, add ```model_mean='no'```.\n",
        "Optionally, you can check the hyperparameters to make sure that they correspond to how you want the model to be set up."
      ]
    },
    {
      "cell_type": "code",
      "execution_count": 8,
      "metadata": {
        "colab": {
          "base_uri": "https://localhost:8080/"
        },
        "id": "cRGU89Y6M-9A",
        "outputId": "544f5fd3-b25e-4c0a-a8a9-2f3e9867d3bc"
      },
      "outputs": [
        {
          "output_type": "stream",
          "name": "stdout",
          "text": [
            "{'K': 3, 'covtype': 'full', 'model_mean': 'state', 'model_beta': 'no', 'dirichlet_diag': 10, 'connectivity': None, 'Pstructure': array([[ True,  True,  True],\n",
            "       [ True,  True,  True],\n",
            "       [ True,  True,  True]]), 'Pistructure': array([ True,  True,  True])}\n"
          ]
        }
      ],
      "source": [
        "K = 3\n",
        "hmm = glhmm.glhmm(model_beta='no', K=K, covtype='full')\n",
        "print(hmm.hyperparameters)"
      ]
    },
    {
      "cell_type": "markdown",
      "metadata": {
        "id": "7873SMoVM-9A"
      },
      "source": [
        "We then train the HMM using the prepared ```data``` and ```idx_data_new``` . Since we here do not model an interaction between two sets of timeseries but run a \"classic\" HMM instead, we set ```X=None```. Y should be the timeseries in which we want to estimate states (in here called ```data```) and **indices** should be the beginning and end **indices** of each subject (here called ```idx_data_new```).\n"
      ]
    },
    {
      "cell_type": "code",
      "execution_count": null,
      "metadata": {
        "colab": {
          "base_uri": "https://localhost:8080/"
        },
        "id": "OEbgFMT-M-9A",
        "outputId": "e62f2028-0dd0-4a97-ad22-6ddad448f4e5"
      },
      "outputs": [
        {
          "output_type": "stream",
          "name": "stdout",
          "text": [
            "Cycle 1 free energy = nan\n",
            "Cycle 2 free energy = nan\n",
            "Cycle 3, free energy = nan, relative change = nan\n",
            "Cycle 4, free energy = nan, relative change = nan\n",
            "Cycle 5, free energy = nan, relative change = nan\n",
            "Cycle 6, free energy = nan, relative change = nan\n",
            "Cycle 7, free energy = nan, relative change = nan\n",
            "Cycle 8, free energy = nan, relative change = nan\n",
            "Cycle 9, free energy = nan, relative change = nan\n",
            "Cycle 10, free energy = nan, relative change = nan\n",
            "Finished training in 244.3s : active states = 3\n",
            "Init repetition 1 free energy = nan\n",
            "Cycle 1 free energy = nan\n",
            "Cycle 2 free energy = nan\n",
            "Cycle 3, free energy = nan, relative change = nan\n",
            "Cycle 4, free energy = nan, relative change = nan\n",
            "Cycle 5, free energy = nan, relative change = nan\n",
            "Cycle 6, free energy = nan, relative change = nan\n",
            "Cycle 7, free energy = nan, relative change = nan\n",
            "Cycle 8, free energy = nan, relative change = nan\n",
            "Cycle 9, free energy = nan, relative change = nan\n",
            "Cycle 10, free energy = nan, relative change = nan\n",
            "Finished training in 241.24s : active states = 3\n",
            "Init repetition 2 free energy = nan\n",
            "Cycle 1 free energy = nan\n",
            "Cycle 2 free energy = nan\n",
            "Cycle 3, free energy = nan, relative change = nan\n",
            "Cycle 4, free energy = nan, relative change = nan\n",
            "Cycle 5, free energy = nan, relative change = nan\n",
            "Cycle 6, free energy = nan, relative change = nan\n",
            "Cycle 7, free energy = nan, relative change = nan\n",
            "Cycle 8, free energy = nan, relative change = nan\n",
            "Cycle 9, free energy = nan, relative change = nan\n",
            "Cycle 10, free energy = nan, relative change = nan\n",
            "Finished training in 238.18s : active states = 3\n",
            "Init repetition 3 free energy = nan\n",
            "Cycle 1 free energy = nan\n",
            "Cycle 2 free energy = nan\n",
            "Cycle 3, free energy = nan, relative change = nan\n",
            "Cycle 4, free energy = nan, relative change = nan\n",
            "Cycle 5, free energy = nan, relative change = nan\n",
            "Cycle 6, free energy = nan, relative change = nan\n",
            "Cycle 7, free energy = nan, relative change = nan\n",
            "Cycle 8, free energy = nan, relative change = nan\n",
            "Cycle 9, free energy = nan, relative change = nan\n",
            "Cycle 10, free energy = nan, relative change = nan\n",
            "Finished training in 237.66s : active states = 3\n",
            "Init repetition 4 free energy = nan\n",
            "Cycle 1 free energy = nan\n",
            "Cycle 2 free energy = nan\n",
            "Cycle 3, free energy = nan, relative change = nan\n",
            "Cycle 4, free energy = nan, relative change = nan\n",
            "Cycle 5, free energy = nan, relative change = nan\n",
            "Cycle 6, free energy = nan, relative change = nan\n",
            "Cycle 7, free energy = nan, relative change = nan\n",
            "Cycle 8, free energy = nan, relative change = nan\n",
            "Cycle 9, free energy = nan, relative change = nan\n",
            "Cycle 10, free energy = nan, relative change = nan\n",
            "Finished training in 237.42s : active states = 3\n",
            "Init repetition 5 free energy = nan\n",
            "Best repetition: 1\n",
            "Cycle 1 free energy = -1118343656.1488938\n",
            "Cycle 2 free energy = -1117519798.9511902\n",
            "Cycle 3, free energy = nan, relative change = nan\n",
            "Cycle 4, free energy = nan, relative change = nan\n",
            "Cycle 5, free energy = nan, relative change = nan\n",
            "Cycle 6, free energy = -1117519795.9399202, relative change = nan\n",
            "Cycle 7, free energy = nan, relative change = nan\n",
            "Cycle 8, free energy = nan, relative change = nan\n",
            "Cycle 9, free energy = -1117519795.9481215, relative change = nan\n",
            "Cycle 10, free energy = nan, relative change = nan\n",
            "Cycle 11, free energy = -1117519795.9520946, relative change = nan\n",
            "Cycle 12, free energy = nan, relative change = nan\n",
            "Cycle 13, free energy = nan, relative change = nan\n",
            "Cycle 14, free energy = nan, relative change = nan\n",
            "Cycle 15, free energy = -1117519795.9580903, relative change = nan\n",
            "Cycle 16, free energy = -1117519795.9593377, relative change = 1.5140991416655909e-09\n",
            "Cycle 17, free energy = -1117519795.96052, relative change = 1.4350951174111159e-09\n",
            "Cycle 18, free energy = nan, relative change = nan\n",
            "Cycle 19, free energy = -1117519795.9627323, relative change = nan\n",
            "Cycle 20, free energy = -1117519795.9637806, relative change = 1.2724567969813214e-09\n",
            "Cycle 21, free energy = -1117519795.964799, relative change = 1.2359934015520653e-09\n",
            "Cycle 22, free energy = -1117519795.9657931, relative change = 1.2067648069988034e-09\n",
            "Cycle 23, free energy = -1117519795.9667675, relative change = 1.182745269073733e-09\n",
            "Cycle 24, free energy = nan, relative change = nan\n",
            "Cycle 25, free energy = -1117519795.96867, relative change = nan\n",
            "Cycle 26, free energy = nan, relative change = nan\n",
            "Cycle 27, free energy = -1117519795.9705276, relative change = nan\n",
            "Cycle 28, free energy = nan, relative change = nan\n",
            "Cycle 29, free energy = -1117519795.9723551, relative change = nan\n",
            "Cycle 30, free energy = nan, relative change = nan\n",
            "Cycle 31, free energy = nan, relative change = nan\n",
            "Cycle 32, free energy = -1117519795.9750617, relative change = nan\n",
            "Cycle 33, free energy = nan, relative change = nan\n",
            "Cycle 34, free energy = -1117519795.97685, relative change = nan\n",
            "Cycle 35, free energy = -1117519795.9777415, relative change = 1.0820368534309086e-09\n",
            "Cycle 36, free energy = -1117519795.9786308, relative change = 1.0794323261978806e-09\n",
            "Cycle 37, free energy = nan, relative change = nan\n",
            "Cycle 38, free energy = -1117519795.9804065, relative change = nan\n",
            "Cycle 39, free energy = nan, relative change = nan\n",
            "Cycle 40, free energy = nan, relative change = nan\n",
            "Cycle 41, free energy = nan, relative change = nan\n",
            "Cycle 42, free energy = nan, relative change = nan\n",
            "Cycle 43, free energy = nan, relative change = nan\n",
            "Cycle 44, free energy = nan, relative change = nan\n",
            "Cycle 45, free energy = -1117519795.9865992, relative change = nan\n",
            "Cycle 46, free energy = nan, relative change = nan\n",
            "Cycle 47, free energy = nan, relative change = nan\n",
            "Cycle 48, free energy = nan, relative change = nan\n",
            "Cycle 49, free energy = nan, relative change = nan\n",
            "Cycle 50, free energy = nan, relative change = nan\n",
            "Cycle 51, free energy = nan, relative change = nan\n",
            "Cycle 52, free energy = -1117519795.9927778, relative change = nan\n",
            "Cycle 53, free energy = nan, relative change = nan\n",
            "Cycle 54, free energy = nan, relative change = nan\n",
            "Cycle 55, free energy = -1117519795.9954236, relative change = nan\n",
            "Cycle 56, free energy = nan, relative change = nan\n",
            "Cycle 57, free energy = -1117519795.9971874, relative change = nan\n",
            "Cycle 58, free energy = -1117519795.998069, relative change = 1.0701718060218306e-09\n",
            "Cycle 59, free energy = -1117519795.9989502, relative change = 1.0695930230630898e-09\n",
            "Cycle 60, free energy = -1117519795.999832, relative change = 1.0701718083117465e-09\n",
            "Cycle 61, free energy = -1117519796.0007136, relative change = 1.0701718094570143e-09\n",
            "Cycle 62, free energy = nan, relative change = nan\n",
            "Cycle 63, free energy = nan, relative change = nan\n",
            "Cycle 64, free energy = nan, relative change = nan\n",
            "Cycle 65, free energy = nan, relative change = nan\n",
            "Cycle 66, free energy = nan, relative change = nan\n",
            "Cycle 67, free energy = -1117519796.006001, relative change = nan\n",
            "Cycle 68, free energy = nan, relative change = nan\n",
            "Cycle 69, free energy = nan, relative change = nan\n",
            "Cycle 70, free energy = -1117519796.0086448, relative change = nan\n",
            "Cycle 71, free energy = -1117519796.0095253, relative change = 1.0687248606261418e-09\n",
            "Cycle 72, free energy = nan, relative change = nan\n",
            "Cycle 73, free energy = nan, relative change = nan\n",
            "Cycle 74, free energy = nan, relative change = nan\n",
            "Cycle 75, free energy = nan, relative change = nan\n",
            "Cycle 76, free energy = nan, relative change = nan\n",
            "Cycle 77, free energy = -1117519796.01481, relative change = nan\n",
            "Cycle 78, free energy = -1117519796.0156908, relative change = 1.0690142606817101e-09\n",
            "Cycle 79, free energy = nan, relative change = nan\n",
            "Cycle 80, free energy = nan, relative change = nan\n",
            "Cycle 81, free energy = nan, relative change = nan\n",
            "Cycle 82, free energy = nan, relative change = nan\n",
            "Cycle 83, free energy = -1117519796.0200925, relative change = nan\n",
            "Cycle 84, free energy = nan, relative change = nan\n",
            "Cycle 85, free energy = nan, relative change = nan\n",
            "Cycle 86, free energy = -1117519796.0227337, relative change = nan\n",
            "Cycle 87, free energy = -1117519796.023614, relative change = 1.0684354868417864e-09\n",
            "Cycle 88, free energy = nan, relative change = nan\n",
            "Cycle 89, free energy = -1117519796.025374, relative change = nan\n",
            "Cycle 90, free energy = nan, relative change = nan\n",
            "Cycle 91, free energy = -1117519796.0271342, relative change = nan\n",
            "Cycle 92, free energy = -1117519796.028014, relative change = 1.0678567084242053e-09\n",
            "Cycle 93, free energy = nan, relative change = nan\n",
            "Cycle 94, free energy = nan, relative change = nan\n",
            "Cycle 95, free energy = -1117519796.0306537, relative change = nan\n",
            "Cycle 96, free energy = nan, relative change = nan\n",
            "Cycle 97, free energy = nan, relative change = nan\n",
            "Cycle 98, free energy = -1117519796.0332932, relative change = nan\n",
            "Cycle 99, free energy = nan, relative change = nan\n",
            "Cycle 100, free energy = -1117519796.035052, relative change = nan\n",
            "Finished training in 3249.54s : active states = 3\n"
          ]
        },
        {
          "output_type": "execute_result",
          "data": {
            "text/plain": [
              "(array([[0.33333467, 0.33333745, 0.33332789],\n",
              "        [0.33370806, 0.33313454, 0.3331574 ],\n",
              "        [0.33370867, 0.3331342 , 0.33315712],\n",
              "        ...,\n",
              "        [0.33370867, 0.3331342 , 0.33315712],\n",
              "        [0.33370867, 0.3331342 , 0.33315712],\n",
              "        [0.33370867, 0.3331342 , 0.33315712]]),\n",
              " array([[[0.11159984, 0.11086365, 0.11087118],\n",
              "         [0.11105575, 0.11141004, 0.11087166],\n",
              "         [0.11105247, 0.11086085, 0.11141456]],\n",
              " \n",
              "        [[0.11172485, 0.11098783, 0.11099537],\n",
              "         [0.11098815, 0.11134222, 0.11080417],\n",
              "         [0.11099567, 0.11080415, 0.11135758]],\n",
              " \n",
              "        [[0.11172506, 0.11098804, 0.11099558],\n",
              "         [0.11098804, 0.11134211, 0.11080406],\n",
              "         [0.11099558, 0.11080406, 0.11135749]],\n",
              " \n",
              "        ...,\n",
              " \n",
              "        [[0.11172506, 0.11098804, 0.11099558],\n",
              "         [0.11098804, 0.11134211, 0.11080406],\n",
              "         [0.11099558, 0.11080406, 0.11135749]],\n",
              " \n",
              "        [[0.11172506, 0.11098804, 0.11099558],\n",
              "         [0.11098804, 0.11134211, 0.11080406],\n",
              "         [0.11099558, 0.11080406, 0.11135749]],\n",
              " \n",
              "        [[0.11172506, 0.11098804, 0.11099558],\n",
              "         [0.11098804, 0.11134211, 0.11080406],\n",
              "         [0.11099558, 0.11080406, 0.11135749]]]),\n",
              " array([-1.11834366e+09, -1.11751980e+09,             nan,             nan,\n",
              "                    nan, -1.11751980e+09,             nan,             nan,\n",
              "        -1.11751980e+09,             nan, -1.11751980e+09,             nan,\n",
              "                    nan,             nan, -1.11751980e+09, -1.11751980e+09,\n",
              "        -1.11751980e+09,             nan, -1.11751980e+09, -1.11751980e+09,\n",
              "        -1.11751980e+09, -1.11751980e+09, -1.11751980e+09,             nan,\n",
              "        -1.11751980e+09,             nan, -1.11751980e+09,             nan,\n",
              "        -1.11751980e+09,             nan,             nan, -1.11751980e+09,\n",
              "                    nan, -1.11751980e+09, -1.11751980e+09, -1.11751980e+09,\n",
              "                    nan, -1.11751980e+09,             nan,             nan,\n",
              "                    nan,             nan,             nan,             nan,\n",
              "        -1.11751980e+09,             nan,             nan,             nan,\n",
              "                    nan,             nan,             nan, -1.11751980e+09,\n",
              "                    nan,             nan, -1.11751980e+09,             nan,\n",
              "        -1.11751980e+09, -1.11751980e+09, -1.11751980e+09, -1.11751980e+09,\n",
              "        -1.11751980e+09,             nan,             nan,             nan,\n",
              "                    nan,             nan, -1.11751980e+09,             nan,\n",
              "                    nan, -1.11751980e+09, -1.11751980e+09,             nan,\n",
              "                    nan,             nan,             nan,             nan,\n",
              "        -1.11751980e+09, -1.11751980e+09,             nan,             nan,\n",
              "                    nan,             nan, -1.11751980e+09,             nan,\n",
              "                    nan, -1.11751980e+09, -1.11751980e+09,             nan,\n",
              "        -1.11751980e+09,             nan, -1.11751980e+09, -1.11751980e+09,\n",
              "                    nan,             nan, -1.11751980e+09,             nan,\n",
              "                    nan, -1.11751980e+09,             nan, -1.11751980e+09]))"
            ]
          },
          "metadata": {},
          "execution_count": 17
        }
      ],
      "source": [
        "hmm.train(X=None, Y=X_memory_con, indices=idx_data_con)\n",
        "#Gamma,Xi,FE =hmm.train(X=None, Y=X_memory_con, indices=idx_data_con)"
      ]
    },
    {
      "cell_type": "markdown",
      "metadata": {
        "id": "gcUsLL-TM-9B"
      },
      "source": [
        "When we perform within session continuous testing in the tutorial (**c_within_session_continuous_testing.ipynb**), we will use the '''GLHMM''' package and the Viterbi path as input data.\n",
        "The within-session continuous testing allows us to continuously recognize the most likely state sequence of an HMM in real-time as new observations arrive. The Viterbi algorithm efficiently calculates the most probable state sequence given an observation sequence and HMM.\n"
      ]
    },
    {
      "cell_type": "code",
      "source": [
        "vpath = hmm.decode(X=None, Y=X_memory_con, indices=idx_data_con, viterbi=True)"
      ],
      "metadata": {
        "id": "J-CndystmiJU"
      },
      "execution_count": null,
      "outputs": []
    },
    {
      "cell_type": "markdown",
      "metadata": {
        "id": "mbwoa9GkM-9B"
      },
      "source": [
        "## Save Viterbi path"
      ]
    },
    {
      "cell_type": "code",
      "execution_count": null,
      "metadata": {
        "id": "KYeCq0S6M-9B"
      },
      "outputs": [],
      "source": [
        "# Get the current directory\n",
        "current_directory = os.getcwd()\n",
        "folder_name = \"/data_memory\"\n",
        "current_directory = os.getcwd()\n",
        "folder_path = os.path.join(current_directory+folder_name)\n",
        "isExist = os.path.exists(folder_path)\n",
        "if not isExist:\n",
        "   # Create a new directory because it does not exist\n",
        "   os.makedirs(folder_path)\n",
        "   print(\"The new directory is created!\")\n",
        "\n",
        "\n",
        "# Save viterbi path\n",
        "file_name = f'vpath_{K}_memory.npy'\n",
        "file_path = os.path.join(folder_path, file_name)\n",
        "np.save(file_path, file_name)"
      ]
    },
    {
      "cell_type": "markdown",
      "metadata": {
        "id": "8TKqszRcM-9B"
      },
      "source": [
        "## Save Continuous data"
      ]
    },
    {
      "cell_type": "code",
      "execution_count": null,
      "metadata": {
        "id": "8AxTFNVnM-9B"
      },
      "outputs": [],
      "source": [
        "# Continuous X_data\n",
        "file_name = 'X_memory_con.npy'\n",
        "# save file to path\n",
        "file_path = os.path.join(current_directory+folder_name+file_name)\n",
        "np.save(file_path, X_memory_con)\n",
        "\n",
        "# Continuous y_data\n",
        "file_name = 'y_memory_con.npy'\n",
        "# save file to path\n",
        "file_path = os.path.join(current_directory+folder_name+file_name)\n",
        "np.save(file_path, y_memory_con)\n",
        "\n",
        "# Continuous idx_data_con\n",
        "file_name = 'idx_data_con.npy'\n",
        "# save file to path\n",
        "file_path = os.path.join(current_directory+folder_name+file_name)\n",
        "np.save(file_path, idx_data_con)"
      ]
    },
    {
      "cell_type": "markdown",
      "metadata": {
        "id": "W4Flzsi3M-9B"
      },
      "source": [
        "## Save HMM model path"
      ]
    },
    {
      "cell_type": "code",
      "execution_count": null,
      "metadata": {
        "id": "NYVnIOunM-9B"
      },
      "outputs": [],
      "source": [
        "import pickle\n",
        "# Save model\n",
        "# Specify the file path where you want to save the data\n",
        "pickle_file = 'hmm.pickle'\n",
        "file_path = os.path.join(folder_path+pickle_file)\n",
        "\n",
        "# Open the file in binary write mode\n",
        "with open(file_path, 'wb') as file:\n",
        "    # Use pickle.dump to save the data to the file\n",
        "    pickle.dump(hmm, file)\n",
        "\n",
        "#print(\"Data saved to\", file_path)"
      ]
    },
    {
      "cell_type": "markdown",
      "source": [
        "## Load HMM model"
      ],
      "metadata": {
        "id": "SieeKlvFTCL9"
      }
    },
    {
      "cell_type": "code",
      "source": [
        "# Load pickle file\n",
        "# Open the file in binary read mode\n",
        "with open(file_path, 'rb') as file:\n",
        "    # Use pickle.load to load the data from the file\n",
        "    loaded_data = pickle.load(file)\n",
        "\n",
        "#print(\"Loaded data:\", loaded_data)"
      ],
      "metadata": {
        "id": "FJPCk3orTEG0"
      },
      "execution_count": null,
      "outputs": []
    }
  ],
  "metadata": {
    "kernelspec": {
      "display_name": "Python 3",
      "name": "python3"
    },
    "language_info": {
      "codemirror_mode": {
        "name": "ipython",
        "version": 3
      },
      "file_extension": ".py",
      "mimetype": "text/x-python",
      "name": "python",
      "nbconvert_exporter": "python",
      "pygments_lexer": "ipython3",
      "version": "3.9.16"
    },
    "orig_nbformat": 4,
    "colab": {
      "provenance": [],
      "gpuType": "T4",
      "include_colab_link": true
    }
  },
  "nbformat": 4,
  "nbformat_minor": 0
}