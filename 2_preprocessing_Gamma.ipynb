{
  "cells": [
    {
      "cell_type": "markdown",
      "metadata": {
        "id": "view-in-github",
        "colab_type": "text"
      },
      "source": [
        "<a href=\"https://colab.research.google.com/github/Nick7900/permutation_test/blob/main/2_preprocessing_Gamma.ipynb\" target=\"_parent\"><img src=\"https://colab.research.google.com/assets/colab-badge.svg\" alt=\"Open In Colab\"/></a>"
      ]
    },
    {
      "cell_type": "markdown",
      "metadata": {
        "id": "4V-W5R8b-Ona"
      },
      "source": [
        "## GLHMM: train basic HMM and get Gamma"
      ]
    },
    {
      "cell_type": "markdown",
      "metadata": {
        "id": "OUN7MGXQ-Ond"
      },
      "source": [
        "This notebook goes through the basic steps to train a \"classic\" HMM on a single set of timeseries, such as neuroimaging or electrophysiological recordings from multiple subjects or sessions.\n",
        "\n",
        "\n",
        "When using **Google Colab** we need to import the following libraries, so we can load the data of interest\n",
        "\n",
        "```\n",
        "!pip install requests\n",
        "!pip install gdown\n",
        "```\n",
        "\n"
      ]
    },
    {
      "cell_type": "markdown",
      "metadata": {
        "id": "oHQHwbeB-One"
      },
      "source": [
        "### Import modules\n",
        "We first import the relevant modules. If you have not done so, install the repo using:\n",
        "\n",
        "```pip install --user git+https://github.com/vidaurre/glhmm```"
      ]
    },
    {
      "cell_type": "code",
      "source": [
        "!pip install requests\n",
        "!pip install gdown\n",
        "!pip install mat73"
      ],
      "metadata": {
        "colab": {
          "base_uri": "https://localhost:8080/"
        },
        "id": "nnjM-hIu-zcS",
        "outputId": "01e54c84-0e0d-446e-aa15-4e5447da5fa9"
      },
      "execution_count": null,
      "outputs": [
        {
          "output_type": "stream",
          "name": "stdout",
          "text": [
            "Requirement already satisfied: requests in /usr/local/lib/python3.10/dist-packages (2.27.1)\n",
            "Requirement already satisfied: urllib3<1.27,>=1.21.1 in /usr/local/lib/python3.10/dist-packages (from requests) (1.26.16)\n",
            "Requirement already satisfied: certifi>=2017.4.17 in /usr/local/lib/python3.10/dist-packages (from requests) (2023.5.7)\n",
            "Requirement already satisfied: charset-normalizer~=2.0.0 in /usr/local/lib/python3.10/dist-packages (from requests) (2.0.12)\n",
            "Requirement already satisfied: idna<4,>=2.5 in /usr/local/lib/python3.10/dist-packages (from requests) (3.4)\n",
            "Requirement already satisfied: gdown in /usr/local/lib/python3.10/dist-packages (4.6.6)\n",
            "Requirement already satisfied: filelock in /usr/local/lib/python3.10/dist-packages (from gdown) (3.12.2)\n",
            "Requirement already satisfied: requests[socks] in /usr/local/lib/python3.10/dist-packages (from gdown) (2.27.1)\n",
            "Requirement already satisfied: six in /usr/local/lib/python3.10/dist-packages (from gdown) (1.16.0)\n",
            "Requirement already satisfied: tqdm in /usr/local/lib/python3.10/dist-packages (from gdown) (4.65.0)\n",
            "Requirement already satisfied: beautifulsoup4 in /usr/local/lib/python3.10/dist-packages (from gdown) (4.11.2)\n",
            "Requirement already satisfied: soupsieve>1.2 in /usr/local/lib/python3.10/dist-packages (from beautifulsoup4->gdown) (2.4.1)\n",
            "Requirement already satisfied: urllib3<1.27,>=1.21.1 in /usr/local/lib/python3.10/dist-packages (from requests[socks]->gdown) (1.26.16)\n",
            "Requirement already satisfied: certifi>=2017.4.17 in /usr/local/lib/python3.10/dist-packages (from requests[socks]->gdown) (2023.5.7)\n",
            "Requirement already satisfied: charset-normalizer~=2.0.0 in /usr/local/lib/python3.10/dist-packages (from requests[socks]->gdown) (2.0.12)\n",
            "Requirement already satisfied: idna<4,>=2.5 in /usr/local/lib/python3.10/dist-packages (from requests[socks]->gdown) (3.4)\n",
            "Requirement already satisfied: PySocks!=1.5.7,>=1.5.6 in /usr/local/lib/python3.10/dist-packages (from requests[socks]->gdown) (1.7.1)\n",
            "Collecting mat73\n",
            "  Downloading mat73-0.60-py3-none-any.whl (19 kB)\n",
            "Requirement already satisfied: h5py in /usr/local/lib/python3.10/dist-packages (from mat73) (3.8.0)\n",
            "Requirement already satisfied: numpy in /usr/local/lib/python3.10/dist-packages (from mat73) (1.22.4)\n",
            "Installing collected packages: mat73\n",
            "Successfully installed mat73-0.60\n"
          ]
        }
      ]
    },
    {
      "cell_type": "code",
      "source": [
        "!git clone https://github.com/vidaurre/glhmm\n",
        "%cd glhmm"
      ],
      "metadata": {
        "colab": {
          "base_uri": "https://localhost:8080/"
        },
        "id": "NM3tfz1I_tHZ",
        "outputId": "403e50f4-9586-4bdb-8e3d-7119c2b70b12"
      },
      "execution_count": null,
      "outputs": [
        {
          "output_type": "stream",
          "name": "stdout",
          "text": [
            "Cloning into 'glhmm'...\n",
            "remote: Enumerating objects: 863, done.\u001b[K\n",
            "remote: Counting objects: 100% (155/155), done.\u001b[K\n",
            "remote: Compressing objects: 100% (114/114), done.\u001b[K\n",
            "remote: Total 863 (delta 74), reused 65 (delta 40), pack-reused 708\u001b[K\n",
            "Receiving objects: 100% (863/863), 12.61 MiB | 15.19 MiB/s, done.\n",
            "Resolving deltas: 100% (505/505), done.\n",
            "/content/glhmm\n"
          ]
        }
      ]
    },
    {
      "cell_type": "markdown",
      "source": [
        "### Import packages"
      ],
      "metadata": {
        "id": "eOAYGRTFOHe-"
      }
    },
    {
      "cell_type": "code",
      "source": [
        "import os\n",
        "import numpy as np\n",
        "from glhmm import glhmm\n",
        "import requests\n",
        "import gdown"
      ],
      "metadata": {
        "id": "iJmkK12SAe7c"
      },
      "execution_count": null,
      "outputs": []
    },
    {
      "cell_type": "markdown",
      "source": [
        "### Load Helper function"
      ],
      "metadata": {
        "id": "xJszOVdzHY10"
      }
    },
    {
      "cell_type": "code",
      "source": [
        "%cd ..\n",
        "# Import helper function\n",
        "# Get the raw github file\n",
        "url = 'https://raw.githubusercontent.com/Nick7900/permutation_test/main/helper_functions/my_functions.py'\n",
        "r = requests.get(url)\n",
        "# Save the function to the directory\n",
        "with open(\"my_functions.py\",\"w\") as f:\n",
        "  f.write(r.text)"
      ],
      "metadata": {
        "colab": {
          "base_uri": "https://localhost:8080/"
        },
        "id": "BZy3oZeg-6Gc",
        "outputId": "e124ed20-0c7e-45bc-bd81-5cca6f0e5c57"
      },
      "execution_count": null,
      "outputs": [
        {
          "output_type": "stream",
          "name": "stdout",
          "text": [
            "/content\n"
          ]
        }
      ]
    },
    {
      "cell_type": "markdown",
      "metadata": {
        "id": "tfxQqXeU-Ong"
      },
      "source": [
        "### Load data\n",
        "First, we need to load data files into our Python environment and are from the output that we showed in Tutorial **1_preprocessing_data_selection.ipynb**.\n",
        "We will train a classic HMM on the ```data_measurement.npy``` that is a subset from the HCP dataset that we exported in the previous notebook.\n",
        "\n",
        "The file ```data_measurement.npy``` is a dataset of 60 subjects, 300 timepoints, and 50 parcellations.\n",
        "\n",
        "\n",
        "When training a HMM the data data should have the shape ((no subjects/sessions * no timepoints), no features), meaning that all subjects and/or sessions have been concatenated along the first dimension.\n",
        "The second dimension is the number of features, e.g., the number of parcels or channels."
      ]
    },
    {
      "cell_type": "markdown",
      "source": [
        "Remove the text **file/d/** from the link and replace it with **uc?id=**\n",
        "\n",
        "Now remove the section after the file ID, including **/view** and replace it with **&export=download** in place of the text you have removed"
      ],
      "metadata": {
        "id": "V3r-E-xaHJZc"
      }
    },
    {
      "cell_type": "code",
      "source": [
        "# Downlod files from google colab\n",
        "# data_measurement\n",
        "url = \"https://drive.google.com/uc?id=1dBlUk_ecvkCQILZCSCcreMJ71vOvQ54P&export=download\"\n",
        "gdown.download(url, quiet=False)"
      ],
      "metadata": {
        "colab": {
          "base_uri": "https://localhost:8080/",
          "height": 110
        },
        "outputId": "11c3398c-ac1e-4ac7-8be1-ebee7766a825",
        "id": "3zrx5fFoHHNJ"
      },
      "execution_count": null,
      "outputs": [
        {
          "output_type": "stream",
          "name": "stderr",
          "text": [
            "Downloading...\n",
            "From: https://drive.google.com/uc?id=1dBlUk_ecvkCQILZCSCcreMJ71vOvQ54P&export=download\n",
            "To: /content/data_measurement.npy\n",
            "100%|██████████| 7.20M/7.20M [00:00<00:00, 22.9MB/s]\n"
          ]
        },
        {
          "output_type": "execute_result",
          "data": {
            "text/plain": [
              "'data_measurement.npy'"
            ],
            "application/vnd.google.colaboratory.intrinsic+json": {
              "type": "string"
            }
          },
          "metadata": {},
          "execution_count": 5
        }
      ]
    },
    {
      "cell_type": "code",
      "execution_count": null,
      "metadata": {
        "id": "HDXaTAoy-Ong"
      },
      "outputs": [],
      "source": [
        "# Get the current directory\n",
        "current_directory = os.getcwd()\n",
        "data_tmp_folder = \"\"\n",
        "data_tmp_file = '/data_measurement.npy'\n",
        "\n",
        "# Load behavioral data\n",
        "data_tmp_file_path = os.path.join(current_directory+data_tmp_folder+data_tmp_file)\n",
        "data_tmp = np.load(data_tmp_file_path)"
      ]
    },
    {
      "cell_type": "markdown",
      "metadata": {
        "id": "qjOR9sxJ-Onh"
      },
      "source": [
        "Look at the dataset"
      ]
    },
    {
      "cell_type": "code",
      "execution_count": null,
      "metadata": {
        "colab": {
          "base_uri": "https://localhost:8080/"
        },
        "id": "DfU90FhM-Onh",
        "outputId": "3a7cfe2e-62a0-4455-a5f4-30292ee8a337"
      },
      "outputs": [
        {
          "output_type": "execute_result",
          "data": {
            "text/plain": [
              "(60, 300, 50)"
            ]
          },
          "metadata": {},
          "execution_count": 8
        }
      ],
      "source": [
        "data_tmp.shape"
      ]
    },
    {
      "cell_type": "markdown",
      "metadata": {
        "id": "dI3-wUwE-Oni"
      },
      "source": [
        "Now we are going to concatenate our dataset ```data_tmp``` along the first dimension, before we can train the HMM. Just Like we mentioned just before.\n",
        "\n",
        "So we will go from having a dataset ```[60, 300, 50]``` of ```[n_subject, n_timepoints, n_features]``` to a concatenated dataset ```[18000, 50]``` that is based on ```[(n_subject by n_timepoints), n_features]```"
      ]
    },
    {
      "cell_type": "code",
      "execution_count": null,
      "metadata": {
        "colab": {
          "base_uri": "https://localhost:8080/"
        },
        "id": "p0nBHheh-Oni",
        "outputId": "2ae5195a-bf22-4ba9-d400-5c528ac90030"
      },
      "outputs": [
        {
          "output_type": "execute_result",
          "data": {
            "text/plain": [
              "(18000, 50)"
            ]
          },
          "metadata": {},
          "execution_count": 10
        }
      ],
      "source": [
        "from my_functions import *\n",
        "# Getting the shape\n",
        "n_subjects = len(data_tmp)\n",
        "n_timestamps, n_features =data_tmp[0].shape\n",
        "# Using a helper function to concatenate data\n",
        "data = get_concatenate_data(data_tmp)\n",
        "data.shape\n"
      ]
    },
    {
      "cell_type": "markdown",
      "metadata": {
        "id": "lB_DjhVj-Oni"
      },
      "source": [
        "The timeseries has the shape ```(18000, 50)``` and the indices have the shape (20, 2).\n",
        "Data should be in numpy format."
      ]
    },
    {
      "cell_type": "markdown",
      "metadata": {
        "id": "ivdSx7bm-Oni"
      },
      "source": [
        "Besides of having ```data_measurement.npy```, we need to specify the indices in the concatenated timeseries corresponding to the beginning and end of individual subjects/sessions in the shape ```[n_subjects, 2]```.\n",
        "\n",
        "In this case, we have generated timeseries of 300 timepoints for each 60 subject."
      ]
    },
    {
      "cell_type": "code",
      "execution_count": null,
      "metadata": {
        "colab": {
          "base_uri": "https://localhost:8080/"
        },
        "id": "ApwXLG31-Oni",
        "outputId": "ea110744-5489-4f43-a176-74e07d0e6b42"
      },
      "outputs": [
        {
          "output_type": "execute_result",
          "data": {
            "text/plain": [
              "array([[   0,  300],\n",
              "       [ 300,  600],\n",
              "       [ 600,  900],\n",
              "       [ 900, 1200],\n",
              "       [1200, 1500],\n",
              "       [1500, 1800],\n",
              "       [1800, 2100],\n",
              "       [2100, 2400],\n",
              "       [2400, 2700],\n",
              "       [2700, 3000]])"
            ]
          },
          "metadata": {},
          "execution_count": 11
        }
      ],
      "source": [
        "#Generate indices of the timestamps for each subject in the data.\n",
        "T_t_tmp =get_timestamp_indices(n_timestamps, n_subjects)\n",
        "# Visualize the first 10 timepoints\n",
        "T_t_tmp[:10]"
      ]
    },
    {
      "cell_type": "markdown",
      "metadata": {
        "id": "Al9pCxGK-Onj"
      },
      "source": [
        "### Initialise and train HMM\n",
        "We first initialise the hmm object and specify hyperparameters. In this case, since we do not model an interaction between two sets of variables in the HMM states, we set ```model_beta='no'```.\n",
        "\n",
        "We here estimate 3 states. If you want to model a different number of states, change K to a different value.\n",
        "\n",
        "We here model states as Gaussian distributions with mean and full covariance matrix, so that each state is described by a mean amplitude and functional connectivity pattern, specify ```covtype='full'```. If you do not want to model the mean, add ```model_mean='no'```.\n",
        "Optionally, you can check the hyperparameters to make sure that they correspond to how you want the model to be set up."
      ]
    },
    {
      "cell_type": "code",
      "execution_count": null,
      "metadata": {
        "colab": {
          "base_uri": "https://localhost:8080/"
        },
        "id": "Y5yu5jWM-Onj",
        "outputId": "f8c0db07-88e9-423e-cf93-f7e11073f65e"
      },
      "outputs": [
        {
          "output_type": "stream",
          "name": "stdout",
          "text": [
            "{'K': 3, 'covtype': 'full', 'model_mean': 'state', 'model_beta': 'no', 'dirichlet_diag': 10, 'connectivity': None, 'Pstructure': array([[ True,  True,  True],\n",
            "       [ True,  True,  True],\n",
            "       [ True,  True,  True]]), 'Pistructure': array([ True,  True,  True])}\n"
          ]
        }
      ],
      "source": [
        "hmm = glhmm.glhmm(model_beta='no', K=3, covtype='full')\n",
        "print(hmm.hyperparameters)"
      ]
    },
    {
      "cell_type": "markdown",
      "metadata": {
        "id": "hXA89z1N-Onj"
      },
      "source": [
        "We then train the HMM using the data and indices loaded above. Since we here do not model an interaction between two sets of timeseries but run a \"classic\" HMM instead, we set X=None. Y should be the timeseries in which we want to estimate states (in here called data) and indices should be the beginning and end indices of each subject (here called T_t).\n",
        "\n",
        "Optionally, you can also return Gamma (the state probabilities at each timepoint), Xi (the joint probabilities of past and future states conditioned on the data) and FE (the free energy of each iteration)."
      ]
    },
    {
      "cell_type": "code",
      "execution_count": null,
      "metadata": {
        "colab": {
          "base_uri": "https://localhost:8080/"
        },
        "id": "37Wq0SEq-Onj",
        "outputId": "95b49a16-bd16-4bdc-93c4-e410f8b1a140"
      },
      "outputs": [
        {
          "output_type": "stream",
          "name": "stdout",
          "text": [
            "Cycle 1 free energy = 4989870.453329922\n",
            "Cycle 2 free energy = 4981449.500864424\n",
            "Cycle 3, free energy = 4973980.010111624, relative change = 0.47006182585257045\n",
            "Cycle 4, free energy = 4969390.5142995, relative change = 0.22409714234535133\n",
            "Cycle 5, free energy = 4967099.221585458, relative change = 0.10062225617631541\n",
            "Cycle 6, free energy = 4965936.121445439, relative change = 0.04859547137697134\n",
            "Cycle 7, free energy = 4965279.007008751, relative change = 0.026721260234384498\n",
            "Cycle 8, free energy = 4964705.51264927, relative change = 0.02278941829265188\n",
            "Cycle 9, free energy = 4964343.14268738, relative change = 0.014195383405785387\n",
            "Cycle 10, free energy = 4963967.226763115, relative change = 0.014512320436048111\n",
            "Finished training in 5.1s : active states = 3\n",
            "Init repetition 1 free energy = 4963967.226763115\n",
            "Cycle 1 free energy = 4989508.608867989\n",
            "Cycle 2 free energy = 4981851.947660873\n",
            "Cycle 3, free energy = 4975271.730316416, relative change = 0.46219522914519223\n",
            "Cycle 4, free energy = 4970688.496925317, relative change = 0.24352848724070128\n",
            "Cycle 5, free energy = 4968441.836148857, relative change = 0.10664475315762569\n",
            "Cycle 6, free energy = 4967310.213716864, relative change = 0.0509776686237663\n",
            "Cycle 7, free energy = 4966481.664650554, relative change = 0.035981720304966595\n",
            "Cycle 8, free energy = 4965913.5111893155, relative change = 0.024079301089391027\n",
            "Cycle 9, free energy = 4965493.308333162, relative change = 0.017497297422694194\n",
            "Cycle 10, free energy = 4965198.587702111, relative change = 0.012123421408803944\n",
            "Finished training in 2.13s : active states = 3\n",
            "Init repetition 2 free energy = 4965198.587702111\n",
            "Cycle 1 free energy = 4989442.046328353\n",
            "Cycle 2 free energy = 4980872.651621139\n",
            "Cycle 3, free energy = 4974185.42827537, relative change = 0.4383162325061458\n",
            "Cycle 4, free energy = 4970875.282358142, relative change = 0.17828340590418884\n",
            "Cycle 5, free energy = 4969269.035987354, relative change = 0.07962353380265\n",
            "Cycle 6, free energy = 4968397.559969417, relative change = 0.04141113273439513\n",
            "Cycle 7, free energy = 4967871.095683432, relative change = 0.024406169883319655\n",
            "Cycle 8, free energy = 4967526.677258752, relative change = 0.015715839582079033\n",
            "Cycle 9, free energy = 4967244.00529356, relative change = 0.012734095082940898\n",
            "Cycle 10, free energy = 4967040.045294327, relative change = 0.009104543782659985\n",
            "Finished training in 3.21s : active states = 3\n",
            "Init repetition 3 free energy = 4967040.045294327\n",
            "Cycle 1 free energy = 4989721.0524638025\n",
            "Cycle 2 free energy = 4982570.027541682\n",
            "Cycle 3, free energy = 4977758.738925173, relative change = 0.4022038547119015\n",
            "Cycle 4, free energy = 4973466.918891322, relative change = 0.2640448360235838\n",
            "Cycle 5, free energy = 4969845.023253081, relative change = 0.18222430646695006\n",
            "Cycle 6, free energy = 4967116.128393471, relative change = 0.1207212575065347\n",
            "Cycle 7, free energy = 4965750.528867334, relative change = 0.05696994980694997\n",
            "Cycle 8, free energy = 4965004.030431269, relative change = 0.03020179514679448\n",
            "Cycle 9, free energy = 4964293.868615991, relative change = 0.027929235873222186\n",
            "Cycle 10, free energy = 4963760.891103275, relative change = 0.020530593216061894\n",
            "Finished training in 2.18s : active states = 3\n",
            "Init repetition 4 free energy = 4963760.891103275\n",
            "Cycle 1 free energy = 4989738.535770462\n",
            "Cycle 2 free energy = 4981115.14620528\n",
            "Cycle 3, free energy = 4971876.313583948, relative change = 0.5172275053384733\n",
            "Cycle 4, free energy = 4966914.224988396, relative change = 0.21740365538005377\n",
            "Cycle 5, free energy = 4964807.397941675, relative change = 0.0845058521271574\n",
            "Cycle 6, free energy = 4963870.524728156, relative change = 0.03621744292543868\n",
            "Cycle 7, free energy = 4963432.45696989, relative change = 0.016652719760588415\n",
            "Cycle 8, free energy = 4963185.742101607, relative change = 0.00929148440498307\n",
            "Cycle 9, free energy = 4963030.474138001, relative change = 0.005813524236338461\n",
            "Cycle 10, free energy = 4962930.131200818, relative change = 0.003742965640568489\n",
            "Finished training in 2.11s : active states = 3\n",
            "Init repetition 5 free energy = 4962930.131200818\n",
            "Best repetition: 5\n",
            "Cycle 1 free energy = 4963193.189953794\n",
            "Cycle 2 free energy = 4962799.102538545\n",
            "Cycle 3, free energy = 4962752.096116602, relative change = 0.10656785014629892\n",
            "Cycle 4, free energy = 4962718.551035775, relative change = 0.0706749479532004\n",
            "Cycle 5, free energy = 4962699.420008347, relative change = 0.0387448195337329\n",
            "Cycle 6, free energy = 4962686.686394132, relative change = 0.025140226505266768\n",
            "Cycle 7, free energy = 4962679.451256672, relative change = 0.014083302465544916\n",
            "Cycle 8, free energy = 4962674.064816463, relative change = 0.010375995731601374\n",
            "Cycle 9, free energy = 4962670.841120271, relative change = 0.006171538988714349\n",
            "Cycle 10, free energy = 4962668.375757481, relative change = 0.004697591656936172\n",
            "Cycle 11, free energy = 4962664.8183958735, relative change = 0.006732689438171492\n",
            "Cycle 12, free energy = 4962660.043561546, relative change = 0.008955953555776632\n",
            "Cycle 13, free energy = 4962657.820560178, relative change = 0.004152275783509531\n",
            "Cycle 14, free energy = 4962654.8419419825, relative change = 0.005532886032696426\n",
            "Cycle 15, free energy = 4962651.200892893, relative change = 0.006717938335854923\n",
            "Cycle 16, free energy = 4962648.615002689, relative change = 0.0047484560177954984\n",
            "Cycle 17, free energy = 4962639.951415162, relative change = 0.015659768657421268\n",
            "Cycle 18, free energy = 4962634.574417225, relative change = 0.009625578925973632\n",
            "Cycle 19, free energy = 4962633.082324352, relative change = 0.0026639395618609954\n",
            "Cycle 20, free energy = 4962632.4987174515, relative change = 0.0010408703807365898\n",
            "Cycle 21, free energy = 4962632.208687516, relative change = 0.0005170046719441127\n",
            "Cycle 22, free energy = 4962632.02868783, relative change = 0.000320762847979455\n",
            "Cycle 23, free energy = 4962631.792549833, relative change = 0.00042062538175794946\n",
            "Cycle 24, free energy = 4962631.045171275, relative change = 0.0013295125760510599\n",
            "Cycle 25, free energy = 4962628.919615658, relative change = 0.003766910066238549\n",
            "Cycle 26, free energy = 4962627.88451595, relative change = 0.0018310450214185745\n",
            "Cycle 27, free energy = 4962627.695978849, relative change = 0.0003334024934214304\n",
            "Cycle 28, free energy = 4962627.626890786, relative change = 0.0001221580186573253\n",
            "Cycle 29, free energy = 4962627.58355097, relative change = 7.66253983436436e-05\n",
            "Cycle 30, free energy = 4962627.549021043, relative change = 6.104566552271618e-05\n",
            "Cycle 31, free energy = 4962627.521659908, relative change = 4.836957505703857e-05\n",
            "Cycle 32, free energy = 4962627.501923371, relative change = 3.4889436786850637e-05\n",
            "Cycle 33, free energy = 4962627.488123222, relative change = 2.439473960730779e-05\n",
            "Cycle 34, free energy = 4962627.476866477, relative change = 1.9898328918843522e-05\n",
            "Cycle 35, free energy = 4962627.464082556, relative change = 2.2597377941621715e-05\n",
            "Cycle 36, free energy = 4962627.442822776, relative change = 3.757823747797008e-05\n",
            "Cycle 37, free energy = 4962627.391858827, relative change = 9.007444339982622e-05\n",
            "Cycle 38, free energy = 4962627.232783312, relative change = 0.00028107341622568295\n",
            "Cycle 39, free energy = 4962626.791806405, relative change = 0.0007785634691800077\n",
            "Cycle 40, free energy = 4962626.285007525, relative change = 0.0008939750543906728\n",
            "Cycle 41, free energy = 4962626.124561617, relative change = 0.0002829407512750109\n",
            "Cycle 42, free energy = 4962626.089146087, relative change = 6.245014946810258e-05\n",
            "Cycle 43, free energy = 4962626.036074789, relative change = 9.357477691649455e-05\n",
            "Cycle 44, free energy = 4962625.839094874, relative change = 0.00034719241487901343\n",
            "Cycle 45, free energy = 4962625.225466373, relative change = 0.0010803994169768074\n",
            "Cycle 46, free energy = 4962624.480622121, relative change = 0.0013097099181632321\n",
            "Cycle 47, free energy = 4962624.143123314, relative change = 0.0005930949603280157\n",
            "Cycle 48, free energy = 4962623.997089922, relative change = 0.00025656223158390933\n",
            "Cycle 49, free energy = 4962623.916587213, relative change = 0.00014141309623768824\n",
            "Cycle 50, free energy = 4962623.860692316, relative change = 9.817675131305851e-05\n",
            "Cycle 51, free energy = 4962623.816247227, relative change = 7.805960927228133e-05\n",
            "Cycle 52, free energy = 4962623.778256053, relative change = 6.67200440667632e-05\n",
            "Cycle 53, free energy = 4962623.744333463, relative change = 5.9571255101804e-05\n",
            "Cycle 54, free energy = 4962623.7125173295, relative change = 5.586899719068234e-05\n",
            "Cycle 55, free energy = 4962623.678915547, relative change = 5.9001108017382175e-05\n",
            "Cycle 56, free energy = 4962623.6313945195, relative change = 8.343484082991287e-05\n",
            "Cycle 57, free energy = 4962623.529923453, relative change = 0.00017812565577790955\n",
            "Cycle 58, free energy = 4962623.293374312, relative change = 0.0004150738035673439\n",
            "Cycle 59, free energy = 4962623.020411922, relative change = 0.00047873898972036007\n",
            "Cycle 60, free energy = 4962622.941827737, relative change = 0.00013780700238946877\n",
            "Cycle 61, free energy = 4962622.928718279, relative change = 2.298851274234293e-05\n",
            "Cycle 62, free energy = 4962622.919292861, relative change = 1.6527973639755628e-05\n",
            "Cycle 63, free energy = 4962622.909825549, relative change = 1.6601159210345004e-05\n",
            "Cycle 64, free energy = 4962622.900772721, relative change = 1.5874102448478585e-05\n",
            "Cycle 65, free energy = 4962622.892578066, relative change = 1.4369089877368139e-05\n",
            "Cycle 66, free energy = 4962622.885522625, relative change = 1.2371359105797039e-05\n",
            "Cycle 67, free energy = 4962622.879710976, relative change = 1.0190329645755895e-05\n",
            "Cycle 68, free energy = 4962622.875069703, relative change = 8.138088604070159e-06\n",
            "Cycle 69, free energy = 4962622.871393274, relative change = 6.446273443308631e-06\n",
            "Cycle 70, free energy = 4962622.8684242405, relative change = 5.205893396897359e-06\n",
            "Reached early convergence\n",
            "Finished training in 29.4s : active states = 3\n"
          ]
        }
      ],
      "source": [
        "Gamma,Xi,FE = hmm.train(X=None, Y=data, indices=T_t_tmp)"
      ]
    },
    {
      "cell_type": "markdown",
      "metadata": {
        "id": "jlrYju5--Onj"
      },
      "source": [
        "We can see the shape of gamma is ```[18000,3]```, which correspond with the concatenated data ```[18000, 50]```.\n",
        "\n",
        "This bacicallay means that for each timepoint we have estimated a correspoinding state, since Gamma is the probability of each state being active at a giving timepoint."
      ]
    },
    {
      "cell_type": "code",
      "execution_count": null,
      "metadata": {
        "colab": {
          "base_uri": "https://localhost:8080/"
        },
        "id": "B4gb-rrZ-Onj",
        "outputId": "e051e96c-885f-441b-a0fc-ab8b9090fff2"
      },
      "outputs": [
        {
          "output_type": "execute_result",
          "data": {
            "text/plain": [
              "(18000, 3)"
            ]
          },
          "metadata": {},
          "execution_count": 14
        }
      ],
      "source": [
        "Gamma.shape"
      ]
    },
    {
      "cell_type": "markdown",
      "metadata": {
        "id": "3KG3TD1f-Onj"
      },
      "source": [
        "When we are going to perform within session continuous testing (Tutorial C),using the ```GLHMM``` package the input data would be the Viterbi path.\n",
        "The within-session continuous testing allows us to continuously recognize the most likely state sequence of an HMM in real-time as new observations arrive. The Viterbi algorithm efficiently calculates the most probable state sequence given an observation sequence and HMM.\n"
      ]
    },
    {
      "cell_type": "code",
      "execution_count": null,
      "metadata": {
        "colab": {
          "base_uri": "https://localhost:8080/"
        },
        "id": "4WLXKmMF-Onk",
        "outputId": "4ef8139e-f286-4392-f85f-a79a0d0624f7"
      },
      "outputs": [
        {
          "output_type": "execute_result",
          "data": {
            "text/plain": [
              "array([[1., 0., 0.],\n",
              "       [1., 0., 0.],\n",
              "       [1., 0., 0.],\n",
              "       ...,\n",
              "       [1., 0., 0.],\n",
              "       [1., 0., 0.],\n",
              "       [1., 0., 0.]])"
            ]
          },
          "metadata": {},
          "execution_count": 15
        }
      ],
      "source": [
        "vpath = hmm.decode(X=None, Y=data, indices=T_t_tmp, viterbi=True)\n",
        "vpath"
      ]
    },
    {
      "cell_type": "markdown",
      "metadata": {
        "id": "Cz3PtjVm-Onk"
      },
      "source": [
        "## Save Data\n",
        "Finally, we save ```gammma``` for further analysis."
      ]
    },
    {
      "cell_type": "code",
      "execution_count": null,
      "metadata": {
        "id": "PKNbBsSU-Onk"
      },
      "outputs": [],
      "source": [
        "import os\n",
        "# Specify the folder path and name\n",
        "folder_name = \"/data\"\n",
        "current_directory = os.getcwd()\n",
        "folder_path = os.path.join(current_directory+folder_name)\n",
        "isExist = os.path.exists(folder_path)\n",
        "if not isExist:\n",
        "   # Create a new directory because it does not exist\n",
        "   os.makedirs(folder_path)\n",
        "   print(\"The new directory is created!\")\n",
        "\n",
        "\n",
        "# Save gamma\n",
        "gamma_file = 'gamma.npy'\n",
        "file_path = os.path.join(folder_path, gamma_file)\n",
        "np.save(file_path, gamma_file)"
      ]
    },
    {
      "cell_type": "markdown",
      "metadata": {
        "id": "NZrttMEq-Onk"
      },
      "source": [
        "## Save Viterbi path"
      ]
    },
    {
      "cell_type": "code",
      "execution_count": null,
      "metadata": {
        "id": "aD9HKDS1-Onk"
      },
      "outputs": [],
      "source": [
        "# Save Viterbi path\n",
        "vpath_file = 'vpath.npy'\n",
        "file_path = os.path.join(folder_path, vpath_file)\n",
        "np.save(file_path, vpath_file)"
      ]
    }
  ],
  "metadata": {
    "kernelspec": {
      "display_name": "Python 3",
      "name": "python3"
    },
    "language_info": {
      "codemirror_mode": {
        "name": "ipython",
        "version": 3
      },
      "file_extension": ".py",
      "mimetype": "text/x-python",
      "name": "python",
      "nbconvert_exporter": "python",
      "pygments_lexer": "ipython3",
      "version": "3.9.16"
    },
    "orig_nbformat": 4,
    "colab": {
      "provenance": [],
      "gpuType": "T4",
      "include_colab_link": true
    },
    "accelerator": "GPU"
  },
  "nbformat": 4,
  "nbformat_minor": 0
}